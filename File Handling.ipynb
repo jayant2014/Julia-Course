{
 "cells": [
  {
   "cell_type": "markdown",
   "metadata": {},
   "source": [
    "### Read a text file"
   ]
  },
  {
   "cell_type": "code",
   "execution_count": 1,
   "metadata": {},
   "outputs": [
    {
     "data": {
      "text/plain": [
       "\"data/afile.txt\""
      ]
     },
     "execution_count": 1,
     "metadata": {},
     "output_type": "execute_result"
    }
   ],
   "source": [
    "fname = \"data/afile.txt\""
   ]
  },
  {
   "cell_type": "code",
   "execution_count": 2,
   "metadata": {},
   "outputs": [
    {
     "name": "stdout",
     "output_type": "stream",
     "text": [
      "I would love to try or hear the sample audio your app can produce. I do not want to purchase, because I've purchased so many apps that say they do something and do not deliver.  Can you please add audio samples with text you've converted? I'd love to see the end results."
     ]
    }
   ],
   "source": [
    "# Read using a for loop\n",
    "for line in eachline(fname)\n",
    "    print(line)\n",
    "end"
   ]
  },
  {
   "cell_type": "code",
   "execution_count": 3,
   "metadata": {},
   "outputs": [
    {
     "data": {
      "text/plain": [
       "\"I would love to try or hear the sample audio your app can produce. I do not want to purchase, because I've purchased so many apps that say they do something and do not deliver.  \\n\\nCan you please add audio samples with text you've converted? I'd love to see the end results.\\n\""
      ]
     },
     "execution_count": 3,
     "metadata": {},
     "output_type": "execute_result"
    }
   ],
   "source": [
    "# Read using IO handler\n",
    "open(f->read(f, String), fname)"
   ]
  },
  {
   "cell_type": "code",
   "execution_count": 4,
   "metadata": {},
   "outputs": [
    {
     "data": {
      "text/plain": [
       "12"
      ]
     },
     "execution_count": 4,
     "metadata": {},
     "output_type": "execute_result"
    }
   ],
   "source": [
    "# Write to a file\n",
    "fname = \"myfile.txt\"\n",
    "open(fname, \"w\") do io\n",
    "    write(io, \"Hello World!\")\n",
    "end"
   ]
  },
  {
   "cell_type": "code",
   "execution_count": 5,
   "metadata": {},
   "outputs": [
    {
     "data": {
      "text/plain": [
       "\"Hello World!\""
      ]
     },
     "execution_count": 5,
     "metadata": {},
     "output_type": "execute_result"
    }
   ],
   "source": [
    "open(f->read(f, String), fname)"
   ]
  },
  {
   "cell_type": "code",
   "execution_count": 6,
   "metadata": {},
   "outputs": [],
   "source": [
    "io = open(fname, \"w\")\n",
    "write(io, \"Hello Julia\")\n",
    "close(io)"
   ]
  },
  {
   "cell_type": "code",
   "execution_count": 7,
   "metadata": {},
   "outputs": [
    {
     "data": {
      "text/plain": [
       "\"Hello Julia\""
      ]
     },
     "execution_count": 7,
     "metadata": {},
     "output_type": "execute_result"
    }
   ],
   "source": [
    "open(f->read(f, String), fname)"
   ]
  },
  {
   "cell_type": "code",
   "execution_count": 8,
   "metadata": {},
   "outputs": [],
   "source": [
    "# Write using append mode\n",
    "io = open(fname, \"a\")\n",
    "write(io, \"\\n Welcome to Julia\")\n",
    "close(io)"
   ]
  },
  {
   "cell_type": "code",
   "execution_count": 9,
   "metadata": {},
   "outputs": [
    {
     "data": {
      "text/plain": [
       "\"Hello Julia\\n Welcome to Julia\""
      ]
     },
     "execution_count": 9,
     "metadata": {},
     "output_type": "execute_result"
    }
   ],
   "source": [
    "open(f->read(f, String), fname)"
   ]
  },
  {
   "cell_type": "code",
   "execution_count": 10,
   "metadata": {},
   "outputs": [
    {
     "data": {
      "text/plain": [
       "\"Hello Julia\\n Welcome to Julia\""
      ]
     },
     "execution_count": 10,
     "metadata": {},
     "output_type": "execute_result"
    }
   ],
   "source": [
    "io = open(fname, \"r\")\n",
    "read(io, String)"
   ]
  },
  {
   "cell_type": "code",
   "execution_count": 11,
   "metadata": {},
   "outputs": [
    {
     "data": {
      "text/plain": [
       "2-element Array{String,1}:\n",
       " \"Hello Julia\"\n",
       " \" Welcome to Julia\""
      ]
     },
     "execution_count": 11,
     "metadata": {},
     "output_type": "execute_result"
    }
   ],
   "source": [
    "# Read using readlines\n",
    "readlines(fname)"
   ]
  },
  {
   "cell_type": "markdown",
   "metadata": {},
   "source": [
    "### Read CSV files"
   ]
  },
  {
   "cell_type": "code",
   "execution_count": 12,
   "metadata": {},
   "outputs": [
    {
     "data": {
      "text/plain": [
       "\"data/CarMakers.csv\""
      ]
     },
     "execution_count": 12,
     "metadata": {},
     "output_type": "execute_result"
    }
   ],
   "source": [
    "csv_file = \"data/CarMakers.csv\""
   ]
  },
  {
   "cell_type": "code",
   "execution_count": 13,
   "metadata": {},
   "outputs": [
    {
     "data": {
      "text/plain": [
       "196-element Array{String,1}:\n",
       " \"Car ID,make,fuel-type,aspiration,num-of-doors,body-style,drive-wheels,engine-location,wheel-base,length,width,height,curb-weight,num-of-cylinders,engine-size,bore,stroke,compression-ratio,horsepower,peak-rpm,city-mpg,highway-mpg,price\"\n",
       " \"1,alfa-romero,gas,std,two,convertible,rwd,front,88.6,168.8,64.1,48.8,2548,four,130,3.47,2.68,9,111,5000,21,27,13495\"\n",
       " \"2,alfa-romero,gas,std,two,convertible,rwd,front,88.6,168.8,64.1,48.8,2548,four,130,3.47,2.68,9,111,5000,21,27,16500\"\n",
       " \"3,alfa-romero,gas,std,two,hatchback,rwd,front,94.5,171.2,65.5,52.4,2823,six,152,2.68,3.47,9,154,5000,19,26,16500\"\n",
       " \"4,audi,gas,std,four,sedan,fwd,front,99.8,176.6,66.2,54.3,2337,four,109,3.19,3.4,10,102,5500,24,30,13950\"\n",
       " \"5,audi,gas,std,four,sedan,4wd,front,99.4,176.6,66.4,54.3,2824,five,136,3.19,3.4,8,115,5500,18,22,17450\"\n",
       " \"6,audi,gas,std,two,sedan,fwd,front,99.8,177.3,66.3,53.1,2507,five,136,3.19,3.4,8.5,110,5500,19,25,15250\"\n",
       " \"7,audi,gas,std,four,sedan,fwd,front,105.8,192.7,71.4,55.7,2844,five,136,3.19,3.4,8.5,110,5500,19,25,17710\"\n",
       " \"8,audi,gas,std,four,wagon,fwd,front,105.8,192.7,71.4,55.7,2954,five,136,3.19,3.4,8.5,110,5500,19,25,18920\"\n",
       " \"9,audi,gas,turbo,four,sedan,fwd,front,105.8,192.7,71.4,55.9,3086,five,131,3.13,3.4,8.3,140,5500,17,20,23875\"\n",
       " \"10,bmw,gas,std,two,sedan,rwd,front,101.2,176.8,64.8,54.3,2395,four,108,3.5,2.8,8.8,101,5800,23,29,16430\"\n",
       " \"11,bmw,gas,std,four,sedan,rwd,front,101.2,176.8,64.8,54.3,2395,four,108,3.5,2.8,8.8,101,5800,23,29,16925\"\n",
       " \"12,bmw,gas,std,two,sedan,rwd,front,101.2,176.8,64.8,54.3,2710,six,164,3.31,3.19,9,121,4250,21,28,20970\"\n",
       " ⋮\n",
       " \"184,volkswagen,gas,std,four,wagon,fwd,front,100.4,183.1,66.9,55.1,2563,four,109,3.19,3.4,9,88,5500,25,31,12290\"\n",
       " \"185,volvo,gas,std,four,sedan,rwd,front,104.3,188.8,67.2,56.2,2912,four,141,3.78,3.15,9.5,114,5400,23,28,12940\"\n",
       " \"186,volvo,gas,std,four,wagon,rwd,front,104.3,188.8,67.2,57.5,3034,four,141,3.78,3.15,9.5,114,5400,23,28,13415\"\n",
       " \"187,volvo,gas,std,four,sedan,rwd,front,104.3,188.8,67.2,56.2,2935,four,141,3.78,3.15,9.5,114,5400,24,28,15985\"\n",
       " \"188,volvo,gas,std,four,wagon,rwd,front,104.3,188.8,67.2,57.5,3042,four,141,3.78,3.15,9.5,114,5400,24,28,16515\"\n",
       " \"189,volvo,gas,turbo,four,sedan,rwd,front,104.3,188.8,67.2,56.2,3045,four,130,3.62,3.15,7.5,162,5100,17,22,18420\"\n",
       " \"190,volvo,gas,turbo,four,wagon,rwd,front,104.3,188.8,67.2,57.5,3157,four,130,3.62,3.15,7.5,162,5100,17,22,18950\"\n",
       " \"191,volvo,gas,std,four,sedan,rwd,front,109.1,188.8,68.9,55.5,2952,four,141,3.78,3.15,9.5,114,5400,23,28,16845\"\n",
       " \"192,volvo,gas,turbo,four,sedan,rwd,front,109.1,188.8,68.8,55.5,3049,four,141,3.78,3.15,8.7,160,5300,19,25,19045\"\n",
       " \"193,volvo,gas,std,four,sedan,rwd,front,109.1,188.8,68.9,55.5,3012,six,173,3.58,2.87,8.8,134,5500,18,23,21485\"\n",
       " \"194,volvo,diesel,turbo,four,sedan,rwd,front,109.1,188.8,68.9,55.5,3217,six,145,3.01,3.4,23,106,4800,26,27,22470\"\n",
       " \"195,volvo,gas,turbo,four,sedan,rwd,front,109.1,188.8,68.9,55.5,3062,four,141,3.78,3.15,9.5,114,5400,19,25,22625\""
      ]
     },
     "execution_count": 13,
     "metadata": {},
     "output_type": "execute_result"
    }
   ],
   "source": [
    "readlines(csv_file)"
   ]
  },
  {
   "cell_type": "code",
   "execution_count": 14,
   "metadata": {},
   "outputs": [],
   "source": [
    "using CSV"
   ]
  },
  {
   "cell_type": "code",
   "execution_count": 15,
   "metadata": {},
   "outputs": [
    {
     "data": {
      "text/html": [
       "<table class=\"data-frame\"><thead><tr><th></th><th>Car ID</th><th>make</th><th>fuel-type</th><th>aspiration</th><th>num-of-doors</th><th>body-style</th><th>drive-wheels</th></tr><tr><th></th><th>Int64</th><th>String</th><th>String</th><th>String</th><th>String</th><th>String</th><th>String</th></tr></thead><tbody><p>195 rows × 23 columns (omitted printing of 16 columns)</p><tr><th>1</th><td>1</td><td>alfa-romero</td><td>gas</td><td>std</td><td>two</td><td>convertible</td><td>rwd</td></tr><tr><th>2</th><td>2</td><td>alfa-romero</td><td>gas</td><td>std</td><td>two</td><td>convertible</td><td>rwd</td></tr><tr><th>3</th><td>3</td><td>alfa-romero</td><td>gas</td><td>std</td><td>two</td><td>hatchback</td><td>rwd</td></tr><tr><th>4</th><td>4</td><td>audi</td><td>gas</td><td>std</td><td>four</td><td>sedan</td><td>fwd</td></tr><tr><th>5</th><td>5</td><td>audi</td><td>gas</td><td>std</td><td>four</td><td>sedan</td><td>4wd</td></tr><tr><th>6</th><td>6</td><td>audi</td><td>gas</td><td>std</td><td>two</td><td>sedan</td><td>fwd</td></tr><tr><th>7</th><td>7</td><td>audi</td><td>gas</td><td>std</td><td>four</td><td>sedan</td><td>fwd</td></tr><tr><th>8</th><td>8</td><td>audi</td><td>gas</td><td>std</td><td>four</td><td>wagon</td><td>fwd</td></tr><tr><th>9</th><td>9</td><td>audi</td><td>gas</td><td>turbo</td><td>four</td><td>sedan</td><td>fwd</td></tr><tr><th>10</th><td>10</td><td>bmw</td><td>gas</td><td>std</td><td>two</td><td>sedan</td><td>rwd</td></tr><tr><th>11</th><td>11</td><td>bmw</td><td>gas</td><td>std</td><td>four</td><td>sedan</td><td>rwd</td></tr><tr><th>12</th><td>12</td><td>bmw</td><td>gas</td><td>std</td><td>two</td><td>sedan</td><td>rwd</td></tr><tr><th>13</th><td>13</td><td>bmw</td><td>gas</td><td>std</td><td>four</td><td>sedan</td><td>rwd</td></tr><tr><th>14</th><td>14</td><td>bmw</td><td>gas</td><td>std</td><td>four</td><td>sedan</td><td>rwd</td></tr><tr><th>15</th><td>15</td><td>bmw</td><td>gas</td><td>std</td><td>four</td><td>sedan</td><td>rwd</td></tr><tr><th>16</th><td>16</td><td>bmw</td><td>gas</td><td>std</td><td>two</td><td>sedan</td><td>rwd</td></tr><tr><th>17</th><td>17</td><td>bmw</td><td>gas</td><td>std</td><td>four</td><td>sedan</td><td>rwd</td></tr><tr><th>18</th><td>18</td><td>chevrolet</td><td>gas</td><td>std</td><td>two</td><td>hatchback</td><td>fwd</td></tr><tr><th>19</th><td>19</td><td>chevrolet</td><td>gas</td><td>std</td><td>two</td><td>hatchback</td><td>fwd</td></tr><tr><th>20</th><td>20</td><td>chevrolet</td><td>gas</td><td>std</td><td>four</td><td>sedan</td><td>fwd</td></tr><tr><th>21</th><td>21</td><td>dodge</td><td>gas</td><td>std</td><td>two</td><td>hatchback</td><td>fwd</td></tr><tr><th>22</th><td>22</td><td>dodge</td><td>gas</td><td>std</td><td>two</td><td>hatchback</td><td>fwd</td></tr><tr><th>23</th><td>23</td><td>dodge</td><td>gas</td><td>turbo</td><td>two</td><td>hatchback</td><td>fwd</td></tr><tr><th>24</th><td>24</td><td>dodge</td><td>gas</td><td>std</td><td>four</td><td>hatchback</td><td>fwd</td></tr><tr><th>25</th><td>25</td><td>dodge</td><td>gas</td><td>std</td><td>four</td><td>sedan</td><td>fwd</td></tr><tr><th>26</th><td>26</td><td>dodge</td><td>gas</td><td>std</td><td>four</td><td>sedan</td><td>fwd</td></tr><tr><th>27</th><td>27</td><td>dodge</td><td>gas</td><td>turbo</td><td>four</td><td>sedan</td><td>fwd</td></tr><tr><th>28</th><td>28</td><td>dodge</td><td>gas</td><td>std</td><td>four</td><td>wagon</td><td>fwd</td></tr><tr><th>29</th><td>29</td><td>dodge</td><td>gas</td><td>turbo</td><td>two</td><td>hatchback</td><td>fwd</td></tr><tr><th>30</th><td>30</td><td>honda</td><td>gas</td><td>std</td><td>two</td><td>hatchback</td><td>fwd</td></tr><tr><th>&vellip;</th><td>&vellip;</td><td>&vellip;</td><td>&vellip;</td><td>&vellip;</td><td>&vellip;</td><td>&vellip;</td><td>&vellip;</td></tr></tbody></table>"
      ],
      "text/latex": [
       "\\begin{tabular}{r|cccccccc}\n",
       "\t& Car ID & make & fuel-type & aspiration & num-of-doors & body-style & drive-wheels & \\\\\n",
       "\t\\hline\n",
       "\t& Int64 & String & String & String & String & String & String & \\\\\n",
       "\t\\hline\n",
       "\t1 & 1 & alfa-romero & gas & std & two & convertible & rwd & $\\dots$ \\\\\n",
       "\t2 & 2 & alfa-romero & gas & std & two & convertible & rwd & $\\dots$ \\\\\n",
       "\t3 & 3 & alfa-romero & gas & std & two & hatchback & rwd & $\\dots$ \\\\\n",
       "\t4 & 4 & audi & gas & std & four & sedan & fwd & $\\dots$ \\\\\n",
       "\t5 & 5 & audi & gas & std & four & sedan & 4wd & $\\dots$ \\\\\n",
       "\t6 & 6 & audi & gas & std & two & sedan & fwd & $\\dots$ \\\\\n",
       "\t7 & 7 & audi & gas & std & four & sedan & fwd & $\\dots$ \\\\\n",
       "\t8 & 8 & audi & gas & std & four & wagon & fwd & $\\dots$ \\\\\n",
       "\t9 & 9 & audi & gas & turbo & four & sedan & fwd & $\\dots$ \\\\\n",
       "\t10 & 10 & bmw & gas & std & two & sedan & rwd & $\\dots$ \\\\\n",
       "\t11 & 11 & bmw & gas & std & four & sedan & rwd & $\\dots$ \\\\\n",
       "\t12 & 12 & bmw & gas & std & two & sedan & rwd & $\\dots$ \\\\\n",
       "\t13 & 13 & bmw & gas & std & four & sedan & rwd & $\\dots$ \\\\\n",
       "\t14 & 14 & bmw & gas & std & four & sedan & rwd & $\\dots$ \\\\\n",
       "\t15 & 15 & bmw & gas & std & four & sedan & rwd & $\\dots$ \\\\\n",
       "\t16 & 16 & bmw & gas & std & two & sedan & rwd & $\\dots$ \\\\\n",
       "\t17 & 17 & bmw & gas & std & four & sedan & rwd & $\\dots$ \\\\\n",
       "\t18 & 18 & chevrolet & gas & std & two & hatchback & fwd & $\\dots$ \\\\\n",
       "\t19 & 19 & chevrolet & gas & std & two & hatchback & fwd & $\\dots$ \\\\\n",
       "\t20 & 20 & chevrolet & gas & std & four & sedan & fwd & $\\dots$ \\\\\n",
       "\t21 & 21 & dodge & gas & std & two & hatchback & fwd & $\\dots$ \\\\\n",
       "\t22 & 22 & dodge & gas & std & two & hatchback & fwd & $\\dots$ \\\\\n",
       "\t23 & 23 & dodge & gas & turbo & two & hatchback & fwd & $\\dots$ \\\\\n",
       "\t24 & 24 & dodge & gas & std & four & hatchback & fwd & $\\dots$ \\\\\n",
       "\t25 & 25 & dodge & gas & std & four & sedan & fwd & $\\dots$ \\\\\n",
       "\t26 & 26 & dodge & gas & std & four & sedan & fwd & $\\dots$ \\\\\n",
       "\t27 & 27 & dodge & gas & turbo & four & sedan & fwd & $\\dots$ \\\\\n",
       "\t28 & 28 & dodge & gas & std & four & wagon & fwd & $\\dots$ \\\\\n",
       "\t29 & 29 & dodge & gas & turbo & two & hatchback & fwd & $\\dots$ \\\\\n",
       "\t30 & 30 & honda & gas & std & two & hatchback & fwd & $\\dots$ \\\\\n",
       "\t$\\dots$ & $\\dots$ & $\\dots$ & $\\dots$ & $\\dots$ & $\\dots$ & $\\dots$ & $\\dots$ &  \\\\\n",
       "\\end{tabular}\n"
      ],
      "text/plain": [
       "195×23 DataFrame. Omitted printing of 18 columns\n",
       "│ Row │ Car ID │ make        │ fuel-type │ aspiration │ num-of-doors │\n",
       "│     │ \u001b[90mInt64\u001b[39m  │ \u001b[90mString\u001b[39m      │ \u001b[90mString\u001b[39m    │ \u001b[90mString\u001b[39m     │ \u001b[90mString\u001b[39m       │\n",
       "├─────┼────────┼─────────────┼───────────┼────────────┼──────────────┤\n",
       "│ 1   │ 1      │ alfa-romero │ gas       │ std        │ two          │\n",
       "│ 2   │ 2      │ alfa-romero │ gas       │ std        │ two          │\n",
       "│ 3   │ 3      │ alfa-romero │ gas       │ std        │ two          │\n",
       "│ 4   │ 4      │ audi        │ gas       │ std        │ four         │\n",
       "│ 5   │ 5      │ audi        │ gas       │ std        │ four         │\n",
       "│ 6   │ 6      │ audi        │ gas       │ std        │ two          │\n",
       "│ 7   │ 7      │ audi        │ gas       │ std        │ four         │\n",
       "│ 8   │ 8      │ audi        │ gas       │ std        │ four         │\n",
       "│ 9   │ 9      │ audi        │ gas       │ turbo      │ four         │\n",
       "│ 10  │ 10     │ bmw         │ gas       │ std        │ two          │\n",
       "⋮\n",
       "│ 185 │ 185    │ volvo       │ gas       │ std        │ four         │\n",
       "│ 186 │ 186    │ volvo       │ gas       │ std        │ four         │\n",
       "│ 187 │ 187    │ volvo       │ gas       │ std        │ four         │\n",
       "│ 188 │ 188    │ volvo       │ gas       │ std        │ four         │\n",
       "│ 189 │ 189    │ volvo       │ gas       │ turbo      │ four         │\n",
       "│ 190 │ 190    │ volvo       │ gas       │ turbo      │ four         │\n",
       "│ 191 │ 191    │ volvo       │ gas       │ std        │ four         │\n",
       "│ 192 │ 192    │ volvo       │ gas       │ turbo      │ four         │\n",
       "│ 193 │ 193    │ volvo       │ gas       │ std        │ four         │\n",
       "│ 194 │ 194    │ volvo       │ diesel    │ turbo      │ four         │\n",
       "│ 195 │ 195    │ volvo       │ gas       │ turbo      │ four         │"
      ]
     },
     "execution_count": 15,
     "metadata": {},
     "output_type": "execute_result"
    }
   ],
   "source": [
    "data = CSV.read(csv_file)"
   ]
  },
  {
   "cell_type": "code",
   "execution_count": 16,
   "metadata": {},
   "outputs": [
    {
     "data": {
      "text/plain": [
       "DataFrames.DataFrame"
      ]
     },
     "execution_count": 16,
     "metadata": {},
     "output_type": "execute_result"
    }
   ],
   "source": [
    "typeof(data)"
   ]
  },
  {
   "cell_type": "code",
   "execution_count": 17,
   "metadata": {},
   "outputs": [
    {
     "data": {
      "text/plain": [
       "\"newfile.csv\""
      ]
     },
     "execution_count": 17,
     "metadata": {},
     "output_type": "execute_result"
    }
   ],
   "source": [
    "# Write to a CSV file\n",
    "CSV.write(\"newfile.csv\", data)"
   ]
  },
  {
   "cell_type": "code",
   "execution_count": 18,
   "metadata": {},
   "outputs": [
    {
     "data": {
      "text/html": [
       "<table class=\"data-frame\"><thead><tr><th></th><th>Car ID</th><th>make</th><th>fuel-type</th><th>aspiration</th><th>num-of-doors</th><th>body-style</th><th>drive-wheels</th></tr><tr><th></th><th>Int64</th><th>String</th><th>String</th><th>String</th><th>String</th><th>String</th><th>String</th></tr></thead><tbody><p>195 rows × 23 columns (omitted printing of 16 columns)</p><tr><th>1</th><td>1</td><td>alfa-romero</td><td>gas</td><td>std</td><td>two</td><td>convertible</td><td>rwd</td></tr><tr><th>2</th><td>2</td><td>alfa-romero</td><td>gas</td><td>std</td><td>two</td><td>convertible</td><td>rwd</td></tr><tr><th>3</th><td>3</td><td>alfa-romero</td><td>gas</td><td>std</td><td>two</td><td>hatchback</td><td>rwd</td></tr><tr><th>4</th><td>4</td><td>audi</td><td>gas</td><td>std</td><td>four</td><td>sedan</td><td>fwd</td></tr><tr><th>5</th><td>5</td><td>audi</td><td>gas</td><td>std</td><td>four</td><td>sedan</td><td>4wd</td></tr><tr><th>6</th><td>6</td><td>audi</td><td>gas</td><td>std</td><td>two</td><td>sedan</td><td>fwd</td></tr><tr><th>7</th><td>7</td><td>audi</td><td>gas</td><td>std</td><td>four</td><td>sedan</td><td>fwd</td></tr><tr><th>8</th><td>8</td><td>audi</td><td>gas</td><td>std</td><td>four</td><td>wagon</td><td>fwd</td></tr><tr><th>9</th><td>9</td><td>audi</td><td>gas</td><td>turbo</td><td>four</td><td>sedan</td><td>fwd</td></tr><tr><th>10</th><td>10</td><td>bmw</td><td>gas</td><td>std</td><td>two</td><td>sedan</td><td>rwd</td></tr><tr><th>11</th><td>11</td><td>bmw</td><td>gas</td><td>std</td><td>four</td><td>sedan</td><td>rwd</td></tr><tr><th>12</th><td>12</td><td>bmw</td><td>gas</td><td>std</td><td>two</td><td>sedan</td><td>rwd</td></tr><tr><th>13</th><td>13</td><td>bmw</td><td>gas</td><td>std</td><td>four</td><td>sedan</td><td>rwd</td></tr><tr><th>14</th><td>14</td><td>bmw</td><td>gas</td><td>std</td><td>four</td><td>sedan</td><td>rwd</td></tr><tr><th>15</th><td>15</td><td>bmw</td><td>gas</td><td>std</td><td>four</td><td>sedan</td><td>rwd</td></tr><tr><th>16</th><td>16</td><td>bmw</td><td>gas</td><td>std</td><td>two</td><td>sedan</td><td>rwd</td></tr><tr><th>17</th><td>17</td><td>bmw</td><td>gas</td><td>std</td><td>four</td><td>sedan</td><td>rwd</td></tr><tr><th>18</th><td>18</td><td>chevrolet</td><td>gas</td><td>std</td><td>two</td><td>hatchback</td><td>fwd</td></tr><tr><th>19</th><td>19</td><td>chevrolet</td><td>gas</td><td>std</td><td>two</td><td>hatchback</td><td>fwd</td></tr><tr><th>20</th><td>20</td><td>chevrolet</td><td>gas</td><td>std</td><td>four</td><td>sedan</td><td>fwd</td></tr><tr><th>21</th><td>21</td><td>dodge</td><td>gas</td><td>std</td><td>two</td><td>hatchback</td><td>fwd</td></tr><tr><th>22</th><td>22</td><td>dodge</td><td>gas</td><td>std</td><td>two</td><td>hatchback</td><td>fwd</td></tr><tr><th>23</th><td>23</td><td>dodge</td><td>gas</td><td>turbo</td><td>two</td><td>hatchback</td><td>fwd</td></tr><tr><th>24</th><td>24</td><td>dodge</td><td>gas</td><td>std</td><td>four</td><td>hatchback</td><td>fwd</td></tr><tr><th>25</th><td>25</td><td>dodge</td><td>gas</td><td>std</td><td>four</td><td>sedan</td><td>fwd</td></tr><tr><th>26</th><td>26</td><td>dodge</td><td>gas</td><td>std</td><td>four</td><td>sedan</td><td>fwd</td></tr><tr><th>27</th><td>27</td><td>dodge</td><td>gas</td><td>turbo</td><td>four</td><td>sedan</td><td>fwd</td></tr><tr><th>28</th><td>28</td><td>dodge</td><td>gas</td><td>std</td><td>four</td><td>wagon</td><td>fwd</td></tr><tr><th>29</th><td>29</td><td>dodge</td><td>gas</td><td>turbo</td><td>two</td><td>hatchback</td><td>fwd</td></tr><tr><th>30</th><td>30</td><td>honda</td><td>gas</td><td>std</td><td>two</td><td>hatchback</td><td>fwd</td></tr><tr><th>&vellip;</th><td>&vellip;</td><td>&vellip;</td><td>&vellip;</td><td>&vellip;</td><td>&vellip;</td><td>&vellip;</td><td>&vellip;</td></tr></tbody></table>"
      ],
      "text/latex": [
       "\\begin{tabular}{r|cccccccc}\n",
       "\t& Car ID & make & fuel-type & aspiration & num-of-doors & body-style & drive-wheels & \\\\\n",
       "\t\\hline\n",
       "\t& Int64 & String & String & String & String & String & String & \\\\\n",
       "\t\\hline\n",
       "\t1 & 1 & alfa-romero & gas & std & two & convertible & rwd & $\\dots$ \\\\\n",
       "\t2 & 2 & alfa-romero & gas & std & two & convertible & rwd & $\\dots$ \\\\\n",
       "\t3 & 3 & alfa-romero & gas & std & two & hatchback & rwd & $\\dots$ \\\\\n",
       "\t4 & 4 & audi & gas & std & four & sedan & fwd & $\\dots$ \\\\\n",
       "\t5 & 5 & audi & gas & std & four & sedan & 4wd & $\\dots$ \\\\\n",
       "\t6 & 6 & audi & gas & std & two & sedan & fwd & $\\dots$ \\\\\n",
       "\t7 & 7 & audi & gas & std & four & sedan & fwd & $\\dots$ \\\\\n",
       "\t8 & 8 & audi & gas & std & four & wagon & fwd & $\\dots$ \\\\\n",
       "\t9 & 9 & audi & gas & turbo & four & sedan & fwd & $\\dots$ \\\\\n",
       "\t10 & 10 & bmw & gas & std & two & sedan & rwd & $\\dots$ \\\\\n",
       "\t11 & 11 & bmw & gas & std & four & sedan & rwd & $\\dots$ \\\\\n",
       "\t12 & 12 & bmw & gas & std & two & sedan & rwd & $\\dots$ \\\\\n",
       "\t13 & 13 & bmw & gas & std & four & sedan & rwd & $\\dots$ \\\\\n",
       "\t14 & 14 & bmw & gas & std & four & sedan & rwd & $\\dots$ \\\\\n",
       "\t15 & 15 & bmw & gas & std & four & sedan & rwd & $\\dots$ \\\\\n",
       "\t16 & 16 & bmw & gas & std & two & sedan & rwd & $\\dots$ \\\\\n",
       "\t17 & 17 & bmw & gas & std & four & sedan & rwd & $\\dots$ \\\\\n",
       "\t18 & 18 & chevrolet & gas & std & two & hatchback & fwd & $\\dots$ \\\\\n",
       "\t19 & 19 & chevrolet & gas & std & two & hatchback & fwd & $\\dots$ \\\\\n",
       "\t20 & 20 & chevrolet & gas & std & four & sedan & fwd & $\\dots$ \\\\\n",
       "\t21 & 21 & dodge & gas & std & two & hatchback & fwd & $\\dots$ \\\\\n",
       "\t22 & 22 & dodge & gas & std & two & hatchback & fwd & $\\dots$ \\\\\n",
       "\t23 & 23 & dodge & gas & turbo & two & hatchback & fwd & $\\dots$ \\\\\n",
       "\t24 & 24 & dodge & gas & std & four & hatchback & fwd & $\\dots$ \\\\\n",
       "\t25 & 25 & dodge & gas & std & four & sedan & fwd & $\\dots$ \\\\\n",
       "\t26 & 26 & dodge & gas & std & four & sedan & fwd & $\\dots$ \\\\\n",
       "\t27 & 27 & dodge & gas & turbo & four & sedan & fwd & $\\dots$ \\\\\n",
       "\t28 & 28 & dodge & gas & std & four & wagon & fwd & $\\dots$ \\\\\n",
       "\t29 & 29 & dodge & gas & turbo & two & hatchback & fwd & $\\dots$ \\\\\n",
       "\t30 & 30 & honda & gas & std & two & hatchback & fwd & $\\dots$ \\\\\n",
       "\t$\\dots$ & $\\dots$ & $\\dots$ & $\\dots$ & $\\dots$ & $\\dots$ & $\\dots$ & $\\dots$ &  \\\\\n",
       "\\end{tabular}\n"
      ],
      "text/plain": [
       "195×23 DataFrame. Omitted printing of 18 columns\n",
       "│ Row │ Car ID │ make        │ fuel-type │ aspiration │ num-of-doors │\n",
       "│     │ \u001b[90mInt64\u001b[39m  │ \u001b[90mString\u001b[39m      │ \u001b[90mString\u001b[39m    │ \u001b[90mString\u001b[39m     │ \u001b[90mString\u001b[39m       │\n",
       "├─────┼────────┼─────────────┼───────────┼────────────┼──────────────┤\n",
       "│ 1   │ 1      │ alfa-romero │ gas       │ std        │ two          │\n",
       "│ 2   │ 2      │ alfa-romero │ gas       │ std        │ two          │\n",
       "│ 3   │ 3      │ alfa-romero │ gas       │ std        │ two          │\n",
       "│ 4   │ 4      │ audi        │ gas       │ std        │ four         │\n",
       "│ 5   │ 5      │ audi        │ gas       │ std        │ four         │\n",
       "│ 6   │ 6      │ audi        │ gas       │ std        │ two          │\n",
       "│ 7   │ 7      │ audi        │ gas       │ std        │ four         │\n",
       "│ 8   │ 8      │ audi        │ gas       │ std        │ four         │\n",
       "│ 9   │ 9      │ audi        │ gas       │ turbo      │ four         │\n",
       "│ 10  │ 10     │ bmw         │ gas       │ std        │ two          │\n",
       "⋮\n",
       "│ 185 │ 185    │ volvo       │ gas       │ std        │ four         │\n",
       "│ 186 │ 186    │ volvo       │ gas       │ std        │ four         │\n",
       "│ 187 │ 187    │ volvo       │ gas       │ std        │ four         │\n",
       "│ 188 │ 188    │ volvo       │ gas       │ std        │ four         │\n",
       "│ 189 │ 189    │ volvo       │ gas       │ turbo      │ four         │\n",
       "│ 190 │ 190    │ volvo       │ gas       │ turbo      │ four         │\n",
       "│ 191 │ 191    │ volvo       │ gas       │ std        │ four         │\n",
       "│ 192 │ 192    │ volvo       │ gas       │ turbo      │ four         │\n",
       "│ 193 │ 193    │ volvo       │ gas       │ std        │ four         │\n",
       "│ 194 │ 194    │ volvo       │ diesel    │ turbo      │ four         │\n",
       "│ 195 │ 195    │ volvo       │ gas       │ turbo      │ four         │"
      ]
     },
     "execution_count": 18,
     "metadata": {},
     "output_type": "execute_result"
    }
   ],
   "source": [
    "# Read the file again\n",
    "CSV.read(\"newfile.csv\")"
   ]
  },
  {
   "cell_type": "code",
   "execution_count": null,
   "metadata": {},
   "outputs": [],
   "source": []
  }
 ],
 "metadata": {
  "kernelspec": {
   "display_name": "Julia 1.4.2",
   "language": "julia",
   "name": "julia-1.4"
  },
  "language_info": {
   "file_extension": ".jl",
   "mimetype": "application/julia",
   "name": "julia",
   "version": "1.4.2"
  }
 },
 "nbformat": 4,
 "nbformat_minor": 4
}
