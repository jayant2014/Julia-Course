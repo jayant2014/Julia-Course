{
 "cells": [
  {
   "cell_type": "markdown",
   "metadata": {},
   "source": [
    "### Using DataFrames"
   ]
  },
  {
   "cell_type": "code",
   "execution_count": 1,
   "metadata": {},
   "outputs": [],
   "source": [
    "#using Pkg\n",
    "#Pkg.add(\"DataFrames\")\n",
    "using DataFrames"
   ]
  },
  {
   "cell_type": "code",
   "execution_count": 2,
   "metadata": {},
   "outputs": [
    {
     "data": {
      "text/plain": [
       "3×5 Array{Int64,2}:\n",
       "  1   2   3   4   5\n",
       "  6   7   8   9  10\n",
       " 11  12  13  14  15"
      ]
     },
     "execution_count": 2,
     "metadata": {},
     "output_type": "execute_result"
    }
   ],
   "source": [
    "# Creating a data matrix\n",
    "data = [ 1 2 3 4 5\n",
    "    6 7 8 9 10\n",
    "    11 12 13 14 15\n",
    "]"
   ]
  },
  {
   "cell_type": "code",
   "execution_count": 3,
   "metadata": {},
   "outputs": [
    {
     "data": {
      "text/html": [
       "<table class=\"data-frame\"><thead><tr><th></th><th>x1</th><th>x2</th><th>x3</th><th>x4</th><th>x5</th></tr><tr><th></th><th>Int64</th><th>Int64</th><th>Int64</th><th>Int64</th><th>Int64</th></tr></thead><tbody><p>3 rows × 5 columns</p><tr><th>1</th><td>1</td><td>2</td><td>3</td><td>4</td><td>5</td></tr><tr><th>2</th><td>6</td><td>7</td><td>8</td><td>9</td><td>10</td></tr><tr><th>3</th><td>11</td><td>12</td><td>13</td><td>14</td><td>15</td></tr></tbody></table>"
      ],
      "text/latex": [
       "\\begin{tabular}{r|ccccc}\n",
       "\t& x1 & x2 & x3 & x4 & x5\\\\\n",
       "\t\\hline\n",
       "\t& Int64 & Int64 & Int64 & Int64 & Int64\\\\\n",
       "\t\\hline\n",
       "\t1 & 1 & 2 & 3 & 4 & 5 \\\\\n",
       "\t2 & 6 & 7 & 8 & 9 & 10 \\\\\n",
       "\t3 & 11 & 12 & 13 & 14 & 15 \\\\\n",
       "\\end{tabular}\n"
      ],
      "text/plain": [
       "3×5 DataFrame\n",
       "│ Row │ x1    │ x2    │ x3    │ x4    │ x5    │\n",
       "│     │ \u001b[90mInt64\u001b[39m │ \u001b[90mInt64\u001b[39m │ \u001b[90mInt64\u001b[39m │ \u001b[90mInt64\u001b[39m │ \u001b[90mInt64\u001b[39m │\n",
       "├─────┼───────┼───────┼───────┼───────┼───────┤\n",
       "│ 1   │ 1     │ 2     │ 3     │ 4     │ 5     │\n",
       "│ 2   │ 6     │ 7     │ 8     │ 9     │ 10    │\n",
       "│ 3   │ 11    │ 12    │ 13    │ 14    │ 15    │"
      ]
     },
     "execution_count": 3,
     "metadata": {},
     "output_type": "execute_result"
    }
   ],
   "source": [
    "# Converting it to DataFrame\n",
    "df = DataFrame(data)"
   ]
  },
  {
   "cell_type": "code",
   "execution_count": 5,
   "metadata": {},
   "outputs": [
    {
     "data": {
      "text/html": [
       "<table class=\"data-frame\"><thead><tr><th></th><th>variable</th><th>mean</th><th>min</th><th>median</th><th>max</th><th>nunique</th><th>nmissing</th><th>eltype</th></tr><tr><th></th><th>Symbol</th><th>Float64</th><th>Int64</th><th>Float64</th><th>Int64</th><th>Nothing</th><th>Nothing</th><th>DataType</th></tr></thead><tbody><p>5 rows × 8 columns</p><tr><th>1</th><td>x1</td><td>6.0</td><td>1</td><td>6.0</td><td>11</td><td></td><td></td><td>Int64</td></tr><tr><th>2</th><td>x2</td><td>7.0</td><td>2</td><td>7.0</td><td>12</td><td></td><td></td><td>Int64</td></tr><tr><th>3</th><td>x3</td><td>8.0</td><td>3</td><td>8.0</td><td>13</td><td></td><td></td><td>Int64</td></tr><tr><th>4</th><td>x4</td><td>9.0</td><td>4</td><td>9.0</td><td>14</td><td></td><td></td><td>Int64</td></tr><tr><th>5</th><td>x5</td><td>10.0</td><td>5</td><td>10.0</td><td>15</td><td></td><td></td><td>Int64</td></tr></tbody></table>"
      ],
      "text/latex": [
       "\\begin{tabular}{r|cccccccc}\n",
       "\t& variable & mean & min & median & max & nunique & nmissing & eltype\\\\\n",
       "\t\\hline\n",
       "\t& Symbol & Float64 & Int64 & Float64 & Int64 & Nothing & Nothing & DataType\\\\\n",
       "\t\\hline\n",
       "\t1 & x1 & 6.0 & 1 & 6.0 & 11 &  &  & Int64 \\\\\n",
       "\t2 & x2 & 7.0 & 2 & 7.0 & 12 &  &  & Int64 \\\\\n",
       "\t3 & x3 & 8.0 & 3 & 8.0 & 13 &  &  & Int64 \\\\\n",
       "\t4 & x4 & 9.0 & 4 & 9.0 & 14 &  &  & Int64 \\\\\n",
       "\t5 & x5 & 10.0 & 5 & 10.0 & 15 &  &  & Int64 \\\\\n",
       "\\end{tabular}\n"
      ],
      "text/plain": [
       "5×8 DataFrame. Omitted printing of 1 columns\n",
       "│ Row │ variable │ mean    │ min   │ median  │ max   │ nunique │ nmissing │\n",
       "│     │ \u001b[90mSymbol\u001b[39m   │ \u001b[90mFloat64\u001b[39m │ \u001b[90mInt64\u001b[39m │ \u001b[90mFloat64\u001b[39m │ \u001b[90mInt64\u001b[39m │ \u001b[90mNothing\u001b[39m │ \u001b[90mNothing\u001b[39m  │\n",
       "├─────┼──────────┼─────────┼───────┼─────────┼───────┼─────────┼──────────┤\n",
       "│ 1   │ x1       │ 6.0     │ 1     │ 6.0     │ 11    │         │          │\n",
       "│ 2   │ x2       │ 7.0     │ 2     │ 7.0     │ 12    │         │          │\n",
       "│ 3   │ x3       │ 8.0     │ 3     │ 8.0     │ 13    │         │          │\n",
       "│ 4   │ x4       │ 9.0     │ 4     │ 9.0     │ 14    │         │          │\n",
       "│ 5   │ x5       │ 10.0    │ 5     │ 10.0    │ 15    │         │          │"
      ]
     },
     "execution_count": 5,
     "metadata": {},
     "output_type": "execute_result"
    }
   ],
   "source": [
    "# Describe the data\n",
    "describe(df)"
   ]
  },
  {
   "cell_type": "code",
   "execution_count": 6,
   "metadata": {},
   "outputs": [
    {
     "data": {
      "text/plain": [
       "3×5 Array{Int64,2}:\n",
       "  1   2   3   4   5\n",
       "  6   7   8   9  10\n",
       " 11  12  13  14  15"
      ]
     },
     "execution_count": 6,
     "metadata": {},
     "output_type": "execute_result"
    }
   ],
   "source": [
    "# Convert the DataFrame to Matrix format\n",
    "mat = Matrix(df)"
   ]
  },
  {
   "cell_type": "code",
   "execution_count": 7,
   "metadata": {},
   "outputs": [
    {
     "data": {
      "text/plain": [
       "Array{Int64,2}"
      ]
     },
     "execution_count": 7,
     "metadata": {},
     "output_type": "execute_result"
    }
   ],
   "source": [
    "typeof(mat)"
   ]
  },
  {
   "cell_type": "code",
   "execution_count": 8,
   "metadata": {},
   "outputs": [
    {
     "data": {
      "text/html": [
       "<table class=\"data-frame\"><thead><tr><th></th><th>x1</th><th>x2</th><th>x3</th><th>x4</th><th>x5</th></tr><tr><th></th><th>Int64</th><th>Int64</th><th>Int64</th><th>Int64</th><th>Int64</th></tr></thead><tbody><p>3 rows × 5 columns</p><tr><th>1</th><td>1</td><td>2</td><td>3</td><td>4</td><td>5</td></tr><tr><th>2</th><td>6</td><td>7</td><td>8</td><td>9</td><td>10</td></tr><tr><th>3</th><td>11</td><td>12</td><td>13</td><td>14</td><td>15</td></tr></tbody></table>"
      ],
      "text/latex": [
       "\\begin{tabular}{r|ccccc}\n",
       "\t& x1 & x2 & x3 & x4 & x5\\\\\n",
       "\t\\hline\n",
       "\t& Int64 & Int64 & Int64 & Int64 & Int64\\\\\n",
       "\t\\hline\n",
       "\t1 & 1 & 2 & 3 & 4 & 5 \\\\\n",
       "\t2 & 6 & 7 & 8 & 9 & 10 \\\\\n",
       "\t3 & 11 & 12 & 13 & 14 & 15 \\\\\n",
       "\\end{tabular}\n"
      ],
      "text/plain": [
       "3×5 DataFrame\n",
       "│ Row │ x1    │ x2    │ x3    │ x4    │ x5    │\n",
       "│     │ \u001b[90mInt64\u001b[39m │ \u001b[90mInt64\u001b[39m │ \u001b[90mInt64\u001b[39m │ \u001b[90mInt64\u001b[39m │ \u001b[90mInt64\u001b[39m │\n",
       "├─────┼───────┼───────┼───────┼───────┼───────┤\n",
       "│ 1   │ 1     │ 2     │ 3     │ 4     │ 5     │\n",
       "│ 2   │ 6     │ 7     │ 8     │ 9     │ 10    │\n",
       "│ 3   │ 11    │ 12    │ 13    │ 14    │ 15    │"
      ]
     },
     "execution_count": 8,
     "metadata": {},
     "output_type": "execute_result"
    }
   ],
   "source": [
    "df"
   ]
  },
  {
   "cell_type": "code",
   "execution_count": 9,
   "metadata": {},
   "outputs": [
    {
     "data": {
      "text/plain": [
       "3-element Array{Int64,1}:\n",
       "  1\n",
       "  6\n",
       " 11"
      ]
     },
     "execution_count": 9,
     "metadata": {},
     "output_type": "execute_result"
    }
   ],
   "source": [
    "# Display a column from DataFrame\n",
    "df.x1"
   ]
  },
  {
   "cell_type": "code",
   "execution_count": 10,
   "metadata": {},
   "outputs": [
    {
     "data": {
      "text/plain": [
       "3-element Array{Int64,1}:\n",
       "  4\n",
       "  9\n",
       " 14"
      ]
     },
     "execution_count": 10,
     "metadata": {},
     "output_type": "execute_result"
    }
   ],
   "source": [
    "df.x4"
   ]
  },
  {
   "cell_type": "markdown",
   "metadata": {},
   "source": [
    "### Creating a Dataframe"
   ]
  },
  {
   "cell_type": "code",
   "execution_count": 11,
   "metadata": {},
   "outputs": [
    {
     "data": {
      "text/plain": [
       "100-element Array{String,1}:\n",
       " \"BMW\"\n",
       " \"BMW\"\n",
       " \"Audi\"\n",
       " \"Merc\"\n",
       " \"Audi\"\n",
       " \"Audi\"\n",
       " \"Audi\"\n",
       " \"Audi\"\n",
       " \"BMW\"\n",
       " \"Merc\"\n",
       " \"BMW\"\n",
       " \"BMW\"\n",
       " \"Audi\"\n",
       " ⋮\n",
       " \"BMW\"\n",
       " \"Audi\"\n",
       " \"Merc\"\n",
       " \"BMW\"\n",
       " \"Audi\"\n",
       " \"Audi\"\n",
       " \"BMW\"\n",
       " \"BMW\"\n",
       " \"Audi\"\n",
       " \"BMW\"\n",
       " \"Audi\"\n",
       " \"BMW\""
      ]
     },
     "execution_count": 11,
     "metadata": {},
     "output_type": "execute_result"
    }
   ],
   "source": [
    "# Create a DataFrame using some random data for different columns\n",
    "make = rand([\"Audi\", \"BMW\", \"Merc\"], 100)"
   ]
  },
  {
   "cell_type": "code",
   "execution_count": 12,
   "metadata": {},
   "outputs": [],
   "source": [
    "model = rand([\"xz\", \"yz\", \"wz\", \"pz\"], 100);\n",
    "sales = rand(20:100, 100);\n",
    "rating = rand(1:5, 100);"
   ]
  },
  {
   "cell_type": "code",
   "execution_count": 13,
   "metadata": {},
   "outputs": [
    {
     "data": {
      "text/html": [
       "<table class=\"data-frame\"><thead><tr><th></th><th>Make</th><th>Model</th><th>Sales</th><th>Rating</th></tr><tr><th></th><th>String</th><th>String</th><th>Int64</th><th>Int64</th></tr></thead><tbody><p>100 rows × 4 columns</p><tr><th>1</th><td>BMW</td><td>yz</td><td>32</td><td>2</td></tr><tr><th>2</th><td>BMW</td><td>xz</td><td>58</td><td>2</td></tr><tr><th>3</th><td>Audi</td><td>xz</td><td>68</td><td>1</td></tr><tr><th>4</th><td>Merc</td><td>yz</td><td>44</td><td>1</td></tr><tr><th>5</th><td>Audi</td><td>xz</td><td>31</td><td>4</td></tr><tr><th>6</th><td>Audi</td><td>xz</td><td>32</td><td>3</td></tr><tr><th>7</th><td>Audi</td><td>xz</td><td>21</td><td>5</td></tr><tr><th>8</th><td>Audi</td><td>xz</td><td>45</td><td>2</td></tr><tr><th>9</th><td>BMW</td><td>pz</td><td>50</td><td>2</td></tr><tr><th>10</th><td>Merc</td><td>wz</td><td>82</td><td>5</td></tr><tr><th>11</th><td>BMW</td><td>yz</td><td>89</td><td>3</td></tr><tr><th>12</th><td>BMW</td><td>pz</td><td>79</td><td>1</td></tr><tr><th>13</th><td>Audi</td><td>wz</td><td>64</td><td>4</td></tr><tr><th>14</th><td>BMW</td><td>yz</td><td>36</td><td>2</td></tr><tr><th>15</th><td>Audi</td><td>pz</td><td>59</td><td>3</td></tr><tr><th>16</th><td>Merc</td><td>wz</td><td>50</td><td>2</td></tr><tr><th>17</th><td>BMW</td><td>yz</td><td>24</td><td>2</td></tr><tr><th>18</th><td>BMW</td><td>pz</td><td>29</td><td>1</td></tr><tr><th>19</th><td>Audi</td><td>xz</td><td>64</td><td>1</td></tr><tr><th>20</th><td>Merc</td><td>pz</td><td>96</td><td>3</td></tr><tr><th>21</th><td>Audi</td><td>xz</td><td>32</td><td>1</td></tr><tr><th>22</th><td>Audi</td><td>pz</td><td>50</td><td>3</td></tr><tr><th>23</th><td>BMW</td><td>yz</td><td>21</td><td>4</td></tr><tr><th>24</th><td>BMW</td><td>wz</td><td>51</td><td>4</td></tr><tr><th>25</th><td>Merc</td><td>xz</td><td>33</td><td>5</td></tr><tr><th>26</th><td>Audi</td><td>yz</td><td>27</td><td>1</td></tr><tr><th>27</th><td>BMW</td><td>wz</td><td>79</td><td>3</td></tr><tr><th>28</th><td>Audi</td><td>wz</td><td>78</td><td>1</td></tr><tr><th>29</th><td>BMW</td><td>yz</td><td>40</td><td>2</td></tr><tr><th>30</th><td>Merc</td><td>yz</td><td>73</td><td>3</td></tr><tr><th>&vellip;</th><td>&vellip;</td><td>&vellip;</td><td>&vellip;</td><td>&vellip;</td></tr></tbody></table>"
      ],
      "text/latex": [
       "\\begin{tabular}{r|cccc}\n",
       "\t& Make & Model & Sales & Rating\\\\\n",
       "\t\\hline\n",
       "\t& String & String & Int64 & Int64\\\\\n",
       "\t\\hline\n",
       "\t1 & BMW & yz & 32 & 2 \\\\\n",
       "\t2 & BMW & xz & 58 & 2 \\\\\n",
       "\t3 & Audi & xz & 68 & 1 \\\\\n",
       "\t4 & Merc & yz & 44 & 1 \\\\\n",
       "\t5 & Audi & xz & 31 & 4 \\\\\n",
       "\t6 & Audi & xz & 32 & 3 \\\\\n",
       "\t7 & Audi & xz & 21 & 5 \\\\\n",
       "\t8 & Audi & xz & 45 & 2 \\\\\n",
       "\t9 & BMW & pz & 50 & 2 \\\\\n",
       "\t10 & Merc & wz & 82 & 5 \\\\\n",
       "\t11 & BMW & yz & 89 & 3 \\\\\n",
       "\t12 & BMW & pz & 79 & 1 \\\\\n",
       "\t13 & Audi & wz & 64 & 4 \\\\\n",
       "\t14 & BMW & yz & 36 & 2 \\\\\n",
       "\t15 & Audi & pz & 59 & 3 \\\\\n",
       "\t16 & Merc & wz & 50 & 2 \\\\\n",
       "\t17 & BMW & yz & 24 & 2 \\\\\n",
       "\t18 & BMW & pz & 29 & 1 \\\\\n",
       "\t19 & Audi & xz & 64 & 1 \\\\\n",
       "\t20 & Merc & pz & 96 & 3 \\\\\n",
       "\t21 & Audi & xz & 32 & 1 \\\\\n",
       "\t22 & Audi & pz & 50 & 3 \\\\\n",
       "\t23 & BMW & yz & 21 & 4 \\\\\n",
       "\t24 & BMW & wz & 51 & 4 \\\\\n",
       "\t25 & Merc & xz & 33 & 5 \\\\\n",
       "\t26 & Audi & yz & 27 & 1 \\\\\n",
       "\t27 & BMW & wz & 79 & 3 \\\\\n",
       "\t28 & Audi & wz & 78 & 1 \\\\\n",
       "\t29 & BMW & yz & 40 & 2 \\\\\n",
       "\t30 & Merc & yz & 73 & 3 \\\\\n",
       "\t$\\dots$ & $\\dots$ & $\\dots$ & $\\dots$ & $\\dots$ \\\\\n",
       "\\end{tabular}\n"
      ],
      "text/plain": [
       "100×4 DataFrame\n",
       "│ Row │ Make   │ Model  │ Sales │ Rating │\n",
       "│     │ \u001b[90mString\u001b[39m │ \u001b[90mString\u001b[39m │ \u001b[90mInt64\u001b[39m │ \u001b[90mInt64\u001b[39m  │\n",
       "├─────┼────────┼────────┼───────┼────────┤\n",
       "│ 1   │ BMW    │ yz     │ 32    │ 2      │\n",
       "│ 2   │ BMW    │ xz     │ 58    │ 2      │\n",
       "│ 3   │ Audi   │ xz     │ 68    │ 1      │\n",
       "│ 4   │ Merc   │ yz     │ 44    │ 1      │\n",
       "│ 5   │ Audi   │ xz     │ 31    │ 4      │\n",
       "│ 6   │ Audi   │ xz     │ 32    │ 3      │\n",
       "│ 7   │ Audi   │ xz     │ 21    │ 5      │\n",
       "│ 8   │ Audi   │ xz     │ 45    │ 2      │\n",
       "│ 9   │ BMW    │ pz     │ 50    │ 2      │\n",
       "│ 10  │ Merc   │ wz     │ 82    │ 5      │\n",
       "⋮\n",
       "│ 90  │ Audi   │ yz     │ 88    │ 5      │\n",
       "│ 91  │ Merc   │ xz     │ 50    │ 2      │\n",
       "│ 92  │ BMW    │ xz     │ 28    │ 1      │\n",
       "│ 93  │ Audi   │ wz     │ 59    │ 5      │\n",
       "│ 94  │ Audi   │ pz     │ 37    │ 2      │\n",
       "│ 95  │ BMW    │ yz     │ 93    │ 4      │\n",
       "│ 96  │ BMW    │ wz     │ 100   │ 5      │\n",
       "│ 97  │ Audi   │ wz     │ 72    │ 2      │\n",
       "│ 98  │ BMW    │ pz     │ 34    │ 2      │\n",
       "│ 99  │ Audi   │ yz     │ 51    │ 2      │\n",
       "│ 100 │ BMW    │ yz     │ 49    │ 3      │"
      ]
     },
     "execution_count": 13,
     "metadata": {},
     "output_type": "execute_result"
    }
   ],
   "source": [
    "data = DataFrame(Make = make, Model = model, Sales = sales, Rating = rating)"
   ]
  },
  {
   "cell_type": "code",
   "execution_count": 14,
   "metadata": {},
   "outputs": [
    {
     "data": {
      "text/plain": [
       "4-element Array{String,1}:\n",
       " \"Make\"\n",
       " \"Model\"\n",
       " \"Sales\"\n",
       " \"Rating\""
      ]
     },
     "execution_count": 14,
     "metadata": {},
     "output_type": "execute_result"
    }
   ],
   "source": [
    "# Display the columns\n",
    "names(data)"
   ]
  },
  {
   "cell_type": "code",
   "execution_count": 15,
   "metadata": {},
   "outputs": [
    {
     "data": {
      "text/plain": [
       "(100, 4)"
      ]
     },
     "execution_count": 15,
     "metadata": {},
     "output_type": "execute_result"
    }
   ],
   "source": [
    "# Check the size of the frame\n",
    "size(data)"
   ]
  },
  {
   "cell_type": "code",
   "execution_count": 16,
   "metadata": {},
   "outputs": [
    {
     "data": {
      "text/plain": [
       "100"
      ]
     },
     "execution_count": 16,
     "metadata": {},
     "output_type": "execute_result"
    }
   ],
   "source": [
    "nrow(data)"
   ]
  },
  {
   "cell_type": "code",
   "execution_count": 17,
   "metadata": {},
   "outputs": [
    {
     "data": {
      "text/plain": [
       "4"
      ]
     },
     "execution_count": 17,
     "metadata": {},
     "output_type": "execute_result"
    }
   ],
   "source": [
    "ncol(data)"
   ]
  },
  {
   "cell_type": "code",
   "execution_count": 18,
   "metadata": {},
   "outputs": [
    {
     "name": "stderr",
     "output_type": "stream",
     "text": [
      "┌ Warning: `head(df::AbstractDataFrame)` is deprecated, use `first(df, 6)` instead.\n",
      "│   caller = top-level scope at In[18]:1\n",
      "└ @ Core In[18]:1\n"
     ]
    },
    {
     "data": {
      "text/html": [
       "<table class=\"data-frame\"><thead><tr><th></th><th>Make</th><th>Model</th><th>Sales</th><th>Rating</th></tr><tr><th></th><th>String</th><th>String</th><th>Int64</th><th>Int64</th></tr></thead><tbody><p>6 rows × 4 columns</p><tr><th>1</th><td>BMW</td><td>yz</td><td>32</td><td>2</td></tr><tr><th>2</th><td>BMW</td><td>xz</td><td>58</td><td>2</td></tr><tr><th>3</th><td>Audi</td><td>xz</td><td>68</td><td>1</td></tr><tr><th>4</th><td>Merc</td><td>yz</td><td>44</td><td>1</td></tr><tr><th>5</th><td>Audi</td><td>xz</td><td>31</td><td>4</td></tr><tr><th>6</th><td>Audi</td><td>xz</td><td>32</td><td>3</td></tr></tbody></table>"
      ],
      "text/latex": [
       "\\begin{tabular}{r|cccc}\n",
       "\t& Make & Model & Sales & Rating\\\\\n",
       "\t\\hline\n",
       "\t& String & String & Int64 & Int64\\\\\n",
       "\t\\hline\n",
       "\t1 & BMW & yz & 32 & 2 \\\\\n",
       "\t2 & BMW & xz & 58 & 2 \\\\\n",
       "\t3 & Audi & xz & 68 & 1 \\\\\n",
       "\t4 & Merc & yz & 44 & 1 \\\\\n",
       "\t5 & Audi & xz & 31 & 4 \\\\\n",
       "\t6 & Audi & xz & 32 & 3 \\\\\n",
       "\\end{tabular}\n"
      ],
      "text/plain": [
       "6×4 DataFrame\n",
       "│ Row │ Make   │ Model  │ Sales │ Rating │\n",
       "│     │ \u001b[90mString\u001b[39m │ \u001b[90mString\u001b[39m │ \u001b[90mInt64\u001b[39m │ \u001b[90mInt64\u001b[39m  │\n",
       "├─────┼────────┼────────┼───────┼────────┤\n",
       "│ 1   │ BMW    │ yz     │ 32    │ 2      │\n",
       "│ 2   │ BMW    │ xz     │ 58    │ 2      │\n",
       "│ 3   │ Audi   │ xz     │ 68    │ 1      │\n",
       "│ 4   │ Merc   │ yz     │ 44    │ 1      │\n",
       "│ 5   │ Audi   │ xz     │ 31    │ 4      │\n",
       "│ 6   │ Audi   │ xz     │ 32    │ 3      │"
      ]
     },
     "execution_count": 18,
     "metadata": {},
     "output_type": "execute_result"
    }
   ],
   "source": [
    "head(data)"
   ]
  },
  {
   "cell_type": "code",
   "execution_count": 19,
   "metadata": {},
   "outputs": [
    {
     "data": {
      "text/html": [
       "<p>DataFrameRow (4 columns)</p><table class=\"data-frame\"><thead><tr><th></th><th>Make</th><th>Model</th><th>Sales</th><th>Rating</th></tr><tr><th></th><th>String</th><th>String</th><th>Int64</th><th>Int64</th></tr></thead><tbody><tr><th>1</th><td>BMW</td><td>yz</td><td>32</td><td>2</td></tr></tbody></table>"
      ],
      "text/latex": [
       "\\begin{tabular}{r|cccc}\n",
       "\t& Make & Model & Sales & Rating\\\\\n",
       "\t\\hline\n",
       "\t& String & String & Int64 & Int64\\\\\n",
       "\t\\hline\n",
       "\t1 & BMW & yz & 32 & 2 \\\\\n",
       "\\end{tabular}\n"
      ],
      "text/plain": [
       "DataFrameRow\n",
       "│ Row │ Make   │ Model  │ Sales │ Rating │\n",
       "│     │ \u001b[90mString\u001b[39m │ \u001b[90mString\u001b[39m │ \u001b[90mInt64\u001b[39m │ \u001b[90mInt64\u001b[39m  │\n",
       "├─────┼────────┼────────┼───────┼────────┤\n",
       "│ 1   │ BMW    │ yz     │ 32    │ 2      │"
      ]
     },
     "execution_count": 19,
     "metadata": {},
     "output_type": "execute_result"
    }
   ],
   "source": [
    "first(data)"
   ]
  },
  {
   "cell_type": "code",
   "execution_count": 20,
   "metadata": {},
   "outputs": [
    {
     "data": {
      "text/html": [
       "<table class=\"data-frame\"><thead><tr><th></th><th>Make</th><th>Model</th><th>Sales</th><th>Rating</th></tr><tr><th></th><th>String</th><th>String</th><th>Int64</th><th>Int64</th></tr></thead><tbody><p>10 rows × 4 columns</p><tr><th>1</th><td>BMW</td><td>yz</td><td>32</td><td>2</td></tr><tr><th>2</th><td>BMW</td><td>xz</td><td>58</td><td>2</td></tr><tr><th>3</th><td>Audi</td><td>xz</td><td>68</td><td>1</td></tr><tr><th>4</th><td>Merc</td><td>yz</td><td>44</td><td>1</td></tr><tr><th>5</th><td>Audi</td><td>xz</td><td>31</td><td>4</td></tr><tr><th>6</th><td>Audi</td><td>xz</td><td>32</td><td>3</td></tr><tr><th>7</th><td>Audi</td><td>xz</td><td>21</td><td>5</td></tr><tr><th>8</th><td>Audi</td><td>xz</td><td>45</td><td>2</td></tr><tr><th>9</th><td>BMW</td><td>pz</td><td>50</td><td>2</td></tr><tr><th>10</th><td>Merc</td><td>wz</td><td>82</td><td>5</td></tr></tbody></table>"
      ],
      "text/latex": [
       "\\begin{tabular}{r|cccc}\n",
       "\t& Make & Model & Sales & Rating\\\\\n",
       "\t\\hline\n",
       "\t& String & String & Int64 & Int64\\\\\n",
       "\t\\hline\n",
       "\t1 & BMW & yz & 32 & 2 \\\\\n",
       "\t2 & BMW & xz & 58 & 2 \\\\\n",
       "\t3 & Audi & xz & 68 & 1 \\\\\n",
       "\t4 & Merc & yz & 44 & 1 \\\\\n",
       "\t5 & Audi & xz & 31 & 4 \\\\\n",
       "\t6 & Audi & xz & 32 & 3 \\\\\n",
       "\t7 & Audi & xz & 21 & 5 \\\\\n",
       "\t8 & Audi & xz & 45 & 2 \\\\\n",
       "\t9 & BMW & pz & 50 & 2 \\\\\n",
       "\t10 & Merc & wz & 82 & 5 \\\\\n",
       "\\end{tabular}\n"
      ],
      "text/plain": [
       "10×4 DataFrame\n",
       "│ Row │ Make   │ Model  │ Sales │ Rating │\n",
       "│     │ \u001b[90mString\u001b[39m │ \u001b[90mString\u001b[39m │ \u001b[90mInt64\u001b[39m │ \u001b[90mInt64\u001b[39m  │\n",
       "├─────┼────────┼────────┼───────┼────────┤\n",
       "│ 1   │ BMW    │ yz     │ 32    │ 2      │\n",
       "│ 2   │ BMW    │ xz     │ 58    │ 2      │\n",
       "│ 3   │ Audi   │ xz     │ 68    │ 1      │\n",
       "│ 4   │ Merc   │ yz     │ 44    │ 1      │\n",
       "│ 5   │ Audi   │ xz     │ 31    │ 4      │\n",
       "│ 6   │ Audi   │ xz     │ 32    │ 3      │\n",
       "│ 7   │ Audi   │ xz     │ 21    │ 5      │\n",
       "│ 8   │ Audi   │ xz     │ 45    │ 2      │\n",
       "│ 9   │ BMW    │ pz     │ 50    │ 2      │\n",
       "│ 10  │ Merc   │ wz     │ 82    │ 5      │"
      ]
     },
     "execution_count": 20,
     "metadata": {},
     "output_type": "execute_result"
    }
   ],
   "source": [
    "# Check first few rows\n",
    "first(data, 10)"
   ]
  },
  {
   "cell_type": "code",
   "execution_count": 21,
   "metadata": {},
   "outputs": [
    {
     "data": {
      "text/html": [
       "<table class=\"data-frame\"><thead><tr><th></th><th>Make</th><th>Model</th><th>Sales</th><th>Rating</th></tr><tr><th></th><th>String</th><th>String</th><th>Int64</th><th>Int64</th></tr></thead><tbody><p>10 rows × 4 columns</p><tr><th>1</th><td>Merc</td><td>xz</td><td>50</td><td>2</td></tr><tr><th>2</th><td>BMW</td><td>xz</td><td>28</td><td>1</td></tr><tr><th>3</th><td>Audi</td><td>wz</td><td>59</td><td>5</td></tr><tr><th>4</th><td>Audi</td><td>pz</td><td>37</td><td>2</td></tr><tr><th>5</th><td>BMW</td><td>yz</td><td>93</td><td>4</td></tr><tr><th>6</th><td>BMW</td><td>wz</td><td>100</td><td>5</td></tr><tr><th>7</th><td>Audi</td><td>wz</td><td>72</td><td>2</td></tr><tr><th>8</th><td>BMW</td><td>pz</td><td>34</td><td>2</td></tr><tr><th>9</th><td>Audi</td><td>yz</td><td>51</td><td>2</td></tr><tr><th>10</th><td>BMW</td><td>yz</td><td>49</td><td>3</td></tr></tbody></table>"
      ],
      "text/latex": [
       "\\begin{tabular}{r|cccc}\n",
       "\t& Make & Model & Sales & Rating\\\\\n",
       "\t\\hline\n",
       "\t& String & String & Int64 & Int64\\\\\n",
       "\t\\hline\n",
       "\t1 & Merc & xz & 50 & 2 \\\\\n",
       "\t2 & BMW & xz & 28 & 1 \\\\\n",
       "\t3 & Audi & wz & 59 & 5 \\\\\n",
       "\t4 & Audi & pz & 37 & 2 \\\\\n",
       "\t5 & BMW & yz & 93 & 4 \\\\\n",
       "\t6 & BMW & wz & 100 & 5 \\\\\n",
       "\t7 & Audi & wz & 72 & 2 \\\\\n",
       "\t8 & BMW & pz & 34 & 2 \\\\\n",
       "\t9 & Audi & yz & 51 & 2 \\\\\n",
       "\t10 & BMW & yz & 49 & 3 \\\\\n",
       "\\end{tabular}\n"
      ],
      "text/plain": [
       "10×4 DataFrame\n",
       "│ Row │ Make   │ Model  │ Sales │ Rating │\n",
       "│     │ \u001b[90mString\u001b[39m │ \u001b[90mString\u001b[39m │ \u001b[90mInt64\u001b[39m │ \u001b[90mInt64\u001b[39m  │\n",
       "├─────┼────────┼────────┼───────┼────────┤\n",
       "│ 1   │ Merc   │ xz     │ 50    │ 2      │\n",
       "│ 2   │ BMW    │ xz     │ 28    │ 1      │\n",
       "│ 3   │ Audi   │ wz     │ 59    │ 5      │\n",
       "│ 4   │ Audi   │ pz     │ 37    │ 2      │\n",
       "│ 5   │ BMW    │ yz     │ 93    │ 4      │\n",
       "│ 6   │ BMW    │ wz     │ 100   │ 5      │\n",
       "│ 7   │ Audi   │ wz     │ 72    │ 2      │\n",
       "│ 8   │ BMW    │ pz     │ 34    │ 2      │\n",
       "│ 9   │ Audi   │ yz     │ 51    │ 2      │\n",
       "│ 10  │ BMW    │ yz     │ 49    │ 3      │"
      ]
     },
     "execution_count": 21,
     "metadata": {},
     "output_type": "execute_result"
    }
   ],
   "source": [
    "# Check last few rows\n",
    "last(data, 10)"
   ]
  },
  {
   "cell_type": "code",
   "execution_count": 22,
   "metadata": {},
   "outputs": [
    {
     "data": {
      "text/html": [
       "<table class=\"data-frame\"><thead><tr><th></th><th>variable</th><th>mean</th><th>min</th><th>median</th><th>max</th><th>nunique</th><th>nmissing</th><th>eltype</th></tr><tr><th></th><th>Symbol</th><th>Union…</th><th>Any</th><th>Union…</th><th>Any</th><th>Union…</th><th>Nothing</th><th>DataType</th></tr></thead><tbody><p>4 rows × 8 columns</p><tr><th>1</th><td>Make</td><td></td><td>Audi</td><td></td><td>Merc</td><td>3</td><td></td><td>String</td></tr><tr><th>2</th><td>Model</td><td></td><td>pz</td><td></td><td>yz</td><td>4</td><td></td><td>String</td></tr><tr><th>3</th><td>Sales</td><td>58.4</td><td>20</td><td>56.5</td><td>100</td><td></td><td></td><td>Int64</td></tr><tr><th>4</th><td>Rating</td><td>2.73</td><td>1</td><td>3.0</td><td>5</td><td></td><td></td><td>Int64</td></tr></tbody></table>"
      ],
      "text/latex": [
       "\\begin{tabular}{r|cccccccc}\n",
       "\t& variable & mean & min & median & max & nunique & nmissing & eltype\\\\\n",
       "\t\\hline\n",
       "\t& Symbol & Union… & Any & Union… & Any & Union… & Nothing & DataType\\\\\n",
       "\t\\hline\n",
       "\t1 & Make &  & Audi &  & Merc & 3 &  & String \\\\\n",
       "\t2 & Model &  & pz &  & yz & 4 &  & String \\\\\n",
       "\t3 & Sales & 58.4 & 20 & 56.5 & 100 &  &  & Int64 \\\\\n",
       "\t4 & Rating & 2.73 & 1 & 3.0 & 5 &  &  & Int64 \\\\\n",
       "\\end{tabular}\n"
      ],
      "text/plain": [
       "4×8 DataFrame. Omitted printing of 1 columns\n",
       "│ Row │ variable │ mean   │ min  │ median │ max  │ nunique │ nmissing │\n",
       "│     │ \u001b[90mSymbol\u001b[39m   │ \u001b[90mUnion…\u001b[39m │ \u001b[90mAny\u001b[39m  │ \u001b[90mUnion…\u001b[39m │ \u001b[90mAny\u001b[39m  │ \u001b[90mUnion…\u001b[39m  │ \u001b[90mNothing\u001b[39m  │\n",
       "├─────┼──────────┼────────┼──────┼────────┼──────┼─────────┼──────────┤\n",
       "│ 1   │ Make     │        │ Audi │        │ Merc │ 3       │          │\n",
       "│ 2   │ Model    │        │ pz   │        │ yz   │ 4       │          │\n",
       "│ 3   │ Sales    │ 58.4   │ 20   │ 56.5   │ 100  │         │          │\n",
       "│ 4   │ Rating   │ 2.73   │ 1    │ 3.0    │ 5    │         │          │"
      ]
     },
     "execution_count": 22,
     "metadata": {},
     "output_type": "execute_result"
    }
   ],
   "source": [
    "describe(data)"
   ]
  },
  {
   "cell_type": "markdown",
   "metadata": {},
   "source": [
    "#### Add a new column to the data"
   ]
  },
  {
   "cell_type": "code",
   "execution_count": 23,
   "metadata": {},
   "outputs": [
    {
     "data": {
      "text/plain": [
       "100-element Array{Int64,1}:\n",
       " 48061\n",
       " 48056\n",
       " 46900\n",
       " 47683\n",
       " 30039\n",
       " 13141\n",
       " 47491\n",
       " 30631\n",
       " 10056\n",
       " 13021\n",
       " 47450\n",
       " 31100\n",
       " 28607\n",
       "     ⋮\n",
       " 37126\n",
       " 21404\n",
       " 39785\n",
       " 32373\n",
       " 19070\n",
       " 28427\n",
       " 31035\n",
       " 39689\n",
       " 40729\n",
       " 33109\n",
       " 42162\n",
       " 13826"
      ]
     },
     "execution_count": 23,
     "metadata": {},
     "output_type": "execute_result"
    }
   ],
   "source": [
    "data.Price = rand(10000:50000, 100)"
   ]
  },
  {
   "cell_type": "code",
   "execution_count": 24,
   "metadata": {},
   "outputs": [
    {
     "data": {
      "text/html": [
       "<table class=\"data-frame\"><thead><tr><th></th><th>Make</th><th>Model</th><th>Sales</th><th>Rating</th><th>Price</th></tr><tr><th></th><th>String</th><th>String</th><th>Int64</th><th>Int64</th><th>Int64</th></tr></thead><tbody><p>10 rows × 5 columns</p><tr><th>1</th><td>BMW</td><td>yz</td><td>32</td><td>2</td><td>48061</td></tr><tr><th>2</th><td>BMW</td><td>xz</td><td>58</td><td>2</td><td>48056</td></tr><tr><th>3</th><td>Audi</td><td>xz</td><td>68</td><td>1</td><td>46900</td></tr><tr><th>4</th><td>Merc</td><td>yz</td><td>44</td><td>1</td><td>47683</td></tr><tr><th>5</th><td>Audi</td><td>xz</td><td>31</td><td>4</td><td>30039</td></tr><tr><th>6</th><td>Audi</td><td>xz</td><td>32</td><td>3</td><td>13141</td></tr><tr><th>7</th><td>Audi</td><td>xz</td><td>21</td><td>5</td><td>47491</td></tr><tr><th>8</th><td>Audi</td><td>xz</td><td>45</td><td>2</td><td>30631</td></tr><tr><th>9</th><td>BMW</td><td>pz</td><td>50</td><td>2</td><td>10056</td></tr><tr><th>10</th><td>Merc</td><td>wz</td><td>82</td><td>5</td><td>13021</td></tr></tbody></table>"
      ],
      "text/latex": [
       "\\begin{tabular}{r|ccccc}\n",
       "\t& Make & Model & Sales & Rating & Price\\\\\n",
       "\t\\hline\n",
       "\t& String & String & Int64 & Int64 & Int64\\\\\n",
       "\t\\hline\n",
       "\t1 & BMW & yz & 32 & 2 & 48061 \\\\\n",
       "\t2 & BMW & xz & 58 & 2 & 48056 \\\\\n",
       "\t3 & Audi & xz & 68 & 1 & 46900 \\\\\n",
       "\t4 & Merc & yz & 44 & 1 & 47683 \\\\\n",
       "\t5 & Audi & xz & 31 & 4 & 30039 \\\\\n",
       "\t6 & Audi & xz & 32 & 3 & 13141 \\\\\n",
       "\t7 & Audi & xz & 21 & 5 & 47491 \\\\\n",
       "\t8 & Audi & xz & 45 & 2 & 30631 \\\\\n",
       "\t9 & BMW & pz & 50 & 2 & 10056 \\\\\n",
       "\t10 & Merc & wz & 82 & 5 & 13021 \\\\\n",
       "\\end{tabular}\n"
      ],
      "text/plain": [
       "10×5 DataFrame\n",
       "│ Row │ Make   │ Model  │ Sales │ Rating │ Price │\n",
       "│     │ \u001b[90mString\u001b[39m │ \u001b[90mString\u001b[39m │ \u001b[90mInt64\u001b[39m │ \u001b[90mInt64\u001b[39m  │ \u001b[90mInt64\u001b[39m │\n",
       "├─────┼────────┼────────┼───────┼────────┼───────┤\n",
       "│ 1   │ BMW    │ yz     │ 32    │ 2      │ 48061 │\n",
       "│ 2   │ BMW    │ xz     │ 58    │ 2      │ 48056 │\n",
       "│ 3   │ Audi   │ xz     │ 68    │ 1      │ 46900 │\n",
       "│ 4   │ Merc   │ yz     │ 44    │ 1      │ 47683 │\n",
       "│ 5   │ Audi   │ xz     │ 31    │ 4      │ 30039 │\n",
       "│ 6   │ Audi   │ xz     │ 32    │ 3      │ 13141 │\n",
       "│ 7   │ Audi   │ xz     │ 21    │ 5      │ 47491 │\n",
       "│ 8   │ Audi   │ xz     │ 45    │ 2      │ 30631 │\n",
       "│ 9   │ BMW    │ pz     │ 50    │ 2      │ 10056 │\n",
       "│ 10  │ Merc   │ wz     │ 82    │ 5      │ 13021 │"
      ]
     },
     "execution_count": 24,
     "metadata": {},
     "output_type": "execute_result"
    }
   ],
   "source": [
    "first(data, 10)"
   ]
  },
  {
   "cell_type": "code",
   "execution_count": 25,
   "metadata": {},
   "outputs": [
    {
     "data": {
      "text/plain": [
       "DataFrame"
      ]
     },
     "execution_count": 25,
     "metadata": {},
     "output_type": "execute_result"
    }
   ],
   "source": [
    "typeof(data)"
   ]
  },
  {
   "cell_type": "markdown",
   "metadata": {},
   "source": [
    "#### Group the dataframe baseed upon some column"
   ]
  },
  {
   "cell_type": "code",
   "execution_count": 26,
   "metadata": {},
   "outputs": [
    {
     "data": {
      "text/html": [
       "<p><b>GroupedDataFrame with 3 groups based on key: Make</b></p><p><i>First Group (35 rows): Make = \"BMW\"</i></p><table class=\"data-frame\"><thead><tr><th></th><th>Make</th><th>Model</th><th>Sales</th><th>Rating</th><th>Price</th></tr><tr><th></th><th>String</th><th>String</th><th>Int64</th><th>Int64</th><th>Int64</th></tr></thead><tbody><tr><th>1</th><td>BMW</td><td>yz</td><td>32</td><td>2</td><td>48061</td></tr><tr><th>2</th><td>BMW</td><td>xz</td><td>58</td><td>2</td><td>48056</td></tr><tr><th>3</th><td>BMW</td><td>pz</td><td>50</td><td>2</td><td>10056</td></tr><tr><th>4</th><td>BMW</td><td>yz</td><td>89</td><td>3</td><td>47450</td></tr><tr><th>5</th><td>BMW</td><td>pz</td><td>79</td><td>1</td><td>31100</td></tr><tr><th>6</th><td>BMW</td><td>yz</td><td>36</td><td>2</td><td>35093</td></tr><tr><th>7</th><td>BMW</td><td>yz</td><td>24</td><td>2</td><td>36230</td></tr><tr><th>8</th><td>BMW</td><td>pz</td><td>29</td><td>1</td><td>29406</td></tr><tr><th>9</th><td>BMW</td><td>yz</td><td>21</td><td>4</td><td>43961</td></tr><tr><th>10</th><td>BMW</td><td>wz</td><td>51</td><td>4</td><td>21422</td></tr><tr><th>11</th><td>BMW</td><td>wz</td><td>79</td><td>3</td><td>17465</td></tr><tr><th>12</th><td>BMW</td><td>yz</td><td>40</td><td>2</td><td>12466</td></tr><tr><th>13</th><td>BMW</td><td>yz</td><td>38</td><td>4</td><td>22887</td></tr><tr><th>14</th><td>BMW</td><td>wz</td><td>65</td><td>5</td><td>46383</td></tr><tr><th>15</th><td>BMW</td><td>yz</td><td>20</td><td>1</td><td>44426</td></tr><tr><th>16</th><td>BMW</td><td>wz</td><td>84</td><td>1</td><td>14645</td></tr><tr><th>17</th><td>BMW</td><td>xz</td><td>94</td><td>1</td><td>48989</td></tr><tr><th>18</th><td>BMW</td><td>yz</td><td>24</td><td>1</td><td>34240</td></tr><tr><th>19</th><td>BMW</td><td>xz</td><td>25</td><td>3</td><td>23675</td></tr><tr><th>20</th><td>BMW</td><td>wz</td><td>94</td><td>4</td><td>11653</td></tr><tr><th>21</th><td>BMW</td><td>yz</td><td>71</td><td>1</td><td>11865</td></tr><tr><th>22</th><td>BMW</td><td>xz</td><td>50</td><td>1</td><td>14744</td></tr><tr><th>23</th><td>BMW</td><td>wz</td><td>94</td><td>4</td><td>44791</td></tr><tr><th>24</th><td>BMW</td><td>yz</td><td>46</td><td>2</td><td>14291</td></tr><tr><th>25</th><td>BMW</td><td>wz</td><td>86</td><td>5</td><td>18030</td></tr><tr><th>26</th><td>BMW</td><td>pz</td><td>35</td><td>3</td><td>39044</td></tr><tr><th>27</th><td>BMW</td><td>xz</td><td>76</td><td>3</td><td>31458</td></tr><tr><th>28</th><td>BMW</td><td>xz</td><td>83</td><td>4</td><td>20728</td></tr><tr><th>29</th><td>BMW</td><td>pz</td><td>43</td><td>5</td><td>41178</td></tr><tr><th>30</th><td>BMW</td><td>wz</td><td>56</td><td>2</td><td>37126</td></tr><tr><th>&vellip;</th><td>&vellip;</td><td>&vellip;</td><td>&vellip;</td><td>&vellip;</td><td>&vellip;</td></tr></tbody></table><p>&vellip;</p><p><i>Last Group (28 rows): Make = \"Merc\"</i></p><table class=\"data-frame\"><thead><tr><th></th><th>Make</th><th>Model</th><th>Sales</th><th>Rating</th><th>Price</th></tr><tr><th></th><th>String</th><th>String</th><th>Int64</th><th>Int64</th><th>Int64</th></tr></thead><tbody><tr><th>1</th><td>Merc</td><td>yz</td><td>44</td><td>1</td><td>47683</td></tr><tr><th>2</th><td>Merc</td><td>wz</td><td>82</td><td>5</td><td>13021</td></tr><tr><th>3</th><td>Merc</td><td>wz</td><td>50</td><td>2</td><td>48464</td></tr><tr><th>4</th><td>Merc</td><td>pz</td><td>96</td><td>3</td><td>39882</td></tr><tr><th>5</th><td>Merc</td><td>xz</td><td>33</td><td>5</td><td>41830</td></tr><tr><th>6</th><td>Merc</td><td>yz</td><td>73</td><td>3</td><td>43473</td></tr><tr><th>7</th><td>Merc</td><td>pz</td><td>60</td><td>5</td><td>35299</td></tr><tr><th>8</th><td>Merc</td><td>pz</td><td>80</td><td>2</td><td>33668</td></tr><tr><th>9</th><td>Merc</td><td>wz</td><td>67</td><td>3</td><td>12350</td></tr><tr><th>10</th><td>Merc</td><td>yz</td><td>24</td><td>3</td><td>49176</td></tr><tr><th>11</th><td>Merc</td><td>yz</td><td>95</td><td>2</td><td>35236</td></tr><tr><th>12</th><td>Merc</td><td>xz</td><td>45</td><td>1</td><td>26706</td></tr><tr><th>13</th><td>Merc</td><td>pz</td><td>91</td><td>5</td><td>33028</td></tr><tr><th>14</th><td>Merc</td><td>pz</td><td>100</td><td>4</td><td>15269</td></tr><tr><th>15</th><td>Merc</td><td>yz</td><td>78</td><td>2</td><td>11688</td></tr><tr><th>16</th><td>Merc</td><td>wz</td><td>30</td><td>1</td><td>44594</td></tr><tr><th>17</th><td>Merc</td><td>wz</td><td>42</td><td>3</td><td>26685</td></tr><tr><th>18</th><td>Merc</td><td>wz</td><td>86</td><td>4</td><td>45604</td></tr><tr><th>19</th><td>Merc</td><td>pz</td><td>29</td><td>5</td><td>16023</td></tr><tr><th>20</th><td>Merc</td><td>pz</td><td>49</td><td>2</td><td>38323</td></tr><tr><th>21</th><td>Merc</td><td>xz</td><td>42</td><td>2</td><td>29513</td></tr><tr><th>22</th><td>Merc</td><td>pz</td><td>49</td><td>4</td><td>40682</td></tr><tr><th>23</th><td>Merc</td><td>xz</td><td>30</td><td>5</td><td>47809</td></tr><tr><th>24</th><td>Merc</td><td>pz</td><td>57</td><td>4</td><td>45306</td></tr><tr><th>25</th><td>Merc</td><td>wz</td><td>89</td><td>4</td><td>28576</td></tr><tr><th>26</th><td>Merc</td><td>wz</td><td>78</td><td>2</td><td>12978</td></tr><tr><th>27</th><td>Merc</td><td>wz</td><td>51</td><td>1</td><td>43168</td></tr><tr><th>28</th><td>Merc</td><td>xz</td><td>50</td><td>2</td><td>39785</td></tr></tbody></table>"
      ],
      "text/latex": [
       "GroupedDataFrame with 3 groups based on key: Make\n",
       "\n",
       "First Group (35 rows): Make = \"BMW\"\n",
       "\n",
       "\\begin{tabular}{r|ccccc}\n",
       "\t& Make & Model & Sales & Rating & Price\\\\\n",
       "\t\\hline\n",
       "\t& String & String & Int64 & Int64 & Int64\\\\\n",
       "\t\\hline\n",
       "\t1 & BMW & yz & 32 & 2 & 48061 \\\\\n",
       "\t2 & BMW & xz & 58 & 2 & 48056 \\\\\n",
       "\t3 & BMW & pz & 50 & 2 & 10056 \\\\\n",
       "\t4 & BMW & yz & 89 & 3 & 47450 \\\\\n",
       "\t5 & BMW & pz & 79 & 1 & 31100 \\\\\n",
       "\t6 & BMW & yz & 36 & 2 & 35093 \\\\\n",
       "\t7 & BMW & yz & 24 & 2 & 36230 \\\\\n",
       "\t8 & BMW & pz & 29 & 1 & 29406 \\\\\n",
       "\t9 & BMW & yz & 21 & 4 & 43961 \\\\\n",
       "\t10 & BMW & wz & 51 & 4 & 21422 \\\\\n",
       "\t11 & BMW & wz & 79 & 3 & 17465 \\\\\n",
       "\t12 & BMW & yz & 40 & 2 & 12466 \\\\\n",
       "\t13 & BMW & yz & 38 & 4 & 22887 \\\\\n",
       "\t14 & BMW & wz & 65 & 5 & 46383 \\\\\n",
       "\t15 & BMW & yz & 20 & 1 & 44426 \\\\\n",
       "\t16 & BMW & wz & 84 & 1 & 14645 \\\\\n",
       "\t17 & BMW & xz & 94 & 1 & 48989 \\\\\n",
       "\t18 & BMW & yz & 24 & 1 & 34240 \\\\\n",
       "\t19 & BMW & xz & 25 & 3 & 23675 \\\\\n",
       "\t20 & BMW & wz & 94 & 4 & 11653 \\\\\n",
       "\t21 & BMW & yz & 71 & 1 & 11865 \\\\\n",
       "\t22 & BMW & xz & 50 & 1 & 14744 \\\\\n",
       "\t23 & BMW & wz & 94 & 4 & 44791 \\\\\n",
       "\t24 & BMW & yz & 46 & 2 & 14291 \\\\\n",
       "\t25 & BMW & wz & 86 & 5 & 18030 \\\\\n",
       "\t26 & BMW & pz & 35 & 3 & 39044 \\\\\n",
       "\t27 & BMW & xz & 76 & 3 & 31458 \\\\\n",
       "\t28 & BMW & xz & 83 & 4 & 20728 \\\\\n",
       "\t29 & BMW & pz & 43 & 5 & 41178 \\\\\n",
       "\t30 & BMW & wz & 56 & 2 & 37126 \\\\\n",
       "\t$\\dots$ & $\\dots$ & $\\dots$ & $\\dots$ & $\\dots$ & $\\dots$ \\\\\n",
       "\\end{tabular}\n",
       "\n",
       "$\\dots$\n",
       "\n",
       "Last Group (28 rows): Make = \"Merc\"\n",
       "\n",
       "\\begin{tabular}{r|ccccc}\n",
       "\t& Make & Model & Sales & Rating & Price\\\\\n",
       "\t\\hline\n",
       "\t& String & String & Int64 & Int64 & Int64\\\\\n",
       "\t\\hline\n",
       "\t1 & Merc & yz & 44 & 1 & 47683 \\\\\n",
       "\t2 & Merc & wz & 82 & 5 & 13021 \\\\\n",
       "\t3 & Merc & wz & 50 & 2 & 48464 \\\\\n",
       "\t4 & Merc & pz & 96 & 3 & 39882 \\\\\n",
       "\t5 & Merc & xz & 33 & 5 & 41830 \\\\\n",
       "\t6 & Merc & yz & 73 & 3 & 43473 \\\\\n",
       "\t7 & Merc & pz & 60 & 5 & 35299 \\\\\n",
       "\t8 & Merc & pz & 80 & 2 & 33668 \\\\\n",
       "\t9 & Merc & wz & 67 & 3 & 12350 \\\\\n",
       "\t10 & Merc & yz & 24 & 3 & 49176 \\\\\n",
       "\t11 & Merc & yz & 95 & 2 & 35236 \\\\\n",
       "\t12 & Merc & xz & 45 & 1 & 26706 \\\\\n",
       "\t13 & Merc & pz & 91 & 5 & 33028 \\\\\n",
       "\t14 & Merc & pz & 100 & 4 & 15269 \\\\\n",
       "\t15 & Merc & yz & 78 & 2 & 11688 \\\\\n",
       "\t16 & Merc & wz & 30 & 1 & 44594 \\\\\n",
       "\t17 & Merc & wz & 42 & 3 & 26685 \\\\\n",
       "\t18 & Merc & wz & 86 & 4 & 45604 \\\\\n",
       "\t19 & Merc & pz & 29 & 5 & 16023 \\\\\n",
       "\t20 & Merc & pz & 49 & 2 & 38323 \\\\\n",
       "\t21 & Merc & xz & 42 & 2 & 29513 \\\\\n",
       "\t22 & Merc & pz & 49 & 4 & 40682 \\\\\n",
       "\t23 & Merc & xz & 30 & 5 & 47809 \\\\\n",
       "\t24 & Merc & pz & 57 & 4 & 45306 \\\\\n",
       "\t25 & Merc & wz & 89 & 4 & 28576 \\\\\n",
       "\t26 & Merc & wz & 78 & 2 & 12978 \\\\\n",
       "\t27 & Merc & wz & 51 & 1 & 43168 \\\\\n",
       "\t28 & Merc & xz & 50 & 2 & 39785 \\\\\n",
       "\\end{tabular}\n"
      ],
      "text/plain": [
       "GroupedDataFrame with 3 groups based on key: Make\n",
       "First Group (35 rows): Make = \"BMW\"\n",
       "│ Row │ Make   │ Model  │ Sales │ Rating │ Price │\n",
       "│     │ \u001b[90mString\u001b[39m │ \u001b[90mString\u001b[39m │ \u001b[90mInt64\u001b[39m │ \u001b[90mInt64\u001b[39m  │ \u001b[90mInt64\u001b[39m │\n",
       "├─────┼────────┼────────┼───────┼────────┼───────┤\n",
       "│ 1   │ BMW    │ yz     │ 32    │ 2      │ 48061 │\n",
       "│ 2   │ BMW    │ xz     │ 58    │ 2      │ 48056 │\n",
       "│ 3   │ BMW    │ pz     │ 50    │ 2      │ 10056 │\n",
       "│ 4   │ BMW    │ yz     │ 89    │ 3      │ 47450 │\n",
       "│ 5   │ BMW    │ pz     │ 79    │ 1      │ 31100 │\n",
       "│ 6   │ BMW    │ yz     │ 36    │ 2      │ 35093 │\n",
       "│ 7   │ BMW    │ yz     │ 24    │ 2      │ 36230 │\n",
       "│ 8   │ BMW    │ pz     │ 29    │ 1      │ 29406 │\n",
       "│ 9   │ BMW    │ yz     │ 21    │ 4      │ 43961 │\n",
       "│ 10  │ BMW    │ wz     │ 51    │ 4      │ 21422 │\n",
       "⋮\n",
       "│ 25  │ BMW    │ wz     │ 86    │ 5      │ 18030 │\n",
       "│ 26  │ BMW    │ pz     │ 35    │ 3      │ 39044 │\n",
       "│ 27  │ BMW    │ xz     │ 76    │ 3      │ 31458 │\n",
       "│ 28  │ BMW    │ xz     │ 83    │ 4      │ 20728 │\n",
       "│ 29  │ BMW    │ pz     │ 43    │ 5      │ 41178 │\n",
       "│ 30  │ BMW    │ wz     │ 56    │ 2      │ 37126 │\n",
       "│ 31  │ BMW    │ xz     │ 28    │ 1      │ 32373 │\n",
       "│ 32  │ BMW    │ yz     │ 93    │ 4      │ 31035 │\n",
       "│ 33  │ BMW    │ wz     │ 100   │ 5      │ 39689 │\n",
       "│ 34  │ BMW    │ pz     │ 34    │ 2      │ 33109 │\n",
       "│ 35  │ BMW    │ yz     │ 49    │ 3      │ 13826 │\n",
       "⋮\n",
       "Last Group (28 rows): Make = \"Merc\"\n",
       "│ Row │ Make   │ Model  │ Sales │ Rating │ Price │\n",
       "│     │ \u001b[90mString\u001b[39m │ \u001b[90mString\u001b[39m │ \u001b[90mInt64\u001b[39m │ \u001b[90mInt64\u001b[39m  │ \u001b[90mInt64\u001b[39m │\n",
       "├─────┼────────┼────────┼───────┼────────┼───────┤\n",
       "│ 1   │ Merc   │ yz     │ 44    │ 1      │ 47683 │\n",
       "│ 2   │ Merc   │ wz     │ 82    │ 5      │ 13021 │\n",
       "│ 3   │ Merc   │ wz     │ 50    │ 2      │ 48464 │\n",
       "│ 4   │ Merc   │ pz     │ 96    │ 3      │ 39882 │\n",
       "│ 5   │ Merc   │ xz     │ 33    │ 5      │ 41830 │\n",
       "│ 6   │ Merc   │ yz     │ 73    │ 3      │ 43473 │\n",
       "│ 7   │ Merc   │ pz     │ 60    │ 5      │ 35299 │\n",
       "│ 8   │ Merc   │ pz     │ 80    │ 2      │ 33668 │\n",
       "│ 9   │ Merc   │ wz     │ 67    │ 3      │ 12350 │\n",
       "│ 10  │ Merc   │ yz     │ 24    │ 3      │ 49176 │\n",
       "⋮\n",
       "│ 18  │ Merc   │ wz     │ 86    │ 4      │ 45604 │\n",
       "│ 19  │ Merc   │ pz     │ 29    │ 5      │ 16023 │\n",
       "│ 20  │ Merc   │ pz     │ 49    │ 2      │ 38323 │\n",
       "│ 21  │ Merc   │ xz     │ 42    │ 2      │ 29513 │\n",
       "│ 22  │ Merc   │ pz     │ 49    │ 4      │ 40682 │\n",
       "│ 23  │ Merc   │ xz     │ 30    │ 5      │ 47809 │\n",
       "│ 24  │ Merc   │ pz     │ 57    │ 4      │ 45306 │\n",
       "│ 25  │ Merc   │ wz     │ 89    │ 4      │ 28576 │\n",
       "│ 26  │ Merc   │ wz     │ 78    │ 2      │ 12978 │\n",
       "│ 27  │ Merc   │ wz     │ 51    │ 1      │ 43168 │\n",
       "│ 28  │ Merc   │ xz     │ 50    │ 2      │ 39785 │"
      ]
     },
     "execution_count": 26,
     "metadata": {},
     "output_type": "execute_result"
    }
   ],
   "source": [
    "gdf = groupby(data, :Make)"
   ]
  },
  {
   "cell_type": "code",
   "execution_count": 27,
   "metadata": {},
   "outputs": [
    {
     "data": {
      "text/html": [
       "<table class=\"data-frame\"><thead><tr><th></th><th>Make</th><th>Model</th><th>Sales</th><th>Rating</th><th>Price</th></tr><tr><th></th><th>String</th><th>String</th><th>Int64</th><th>Int64</th><th>Int64</th></tr></thead><tbody><p>28 rows × 5 columns</p><tr><th>1</th><td>Merc</td><td>yz</td><td>44</td><td>1</td><td>47683</td></tr><tr><th>2</th><td>Merc</td><td>wz</td><td>82</td><td>5</td><td>13021</td></tr><tr><th>3</th><td>Merc</td><td>wz</td><td>50</td><td>2</td><td>48464</td></tr><tr><th>4</th><td>Merc</td><td>pz</td><td>96</td><td>3</td><td>39882</td></tr><tr><th>5</th><td>Merc</td><td>xz</td><td>33</td><td>5</td><td>41830</td></tr><tr><th>6</th><td>Merc</td><td>yz</td><td>73</td><td>3</td><td>43473</td></tr><tr><th>7</th><td>Merc</td><td>pz</td><td>60</td><td>5</td><td>35299</td></tr><tr><th>8</th><td>Merc</td><td>pz</td><td>80</td><td>2</td><td>33668</td></tr><tr><th>9</th><td>Merc</td><td>wz</td><td>67</td><td>3</td><td>12350</td></tr><tr><th>10</th><td>Merc</td><td>yz</td><td>24</td><td>3</td><td>49176</td></tr><tr><th>11</th><td>Merc</td><td>yz</td><td>95</td><td>2</td><td>35236</td></tr><tr><th>12</th><td>Merc</td><td>xz</td><td>45</td><td>1</td><td>26706</td></tr><tr><th>13</th><td>Merc</td><td>pz</td><td>91</td><td>5</td><td>33028</td></tr><tr><th>14</th><td>Merc</td><td>pz</td><td>100</td><td>4</td><td>15269</td></tr><tr><th>15</th><td>Merc</td><td>yz</td><td>78</td><td>2</td><td>11688</td></tr><tr><th>16</th><td>Merc</td><td>wz</td><td>30</td><td>1</td><td>44594</td></tr><tr><th>17</th><td>Merc</td><td>wz</td><td>42</td><td>3</td><td>26685</td></tr><tr><th>18</th><td>Merc</td><td>wz</td><td>86</td><td>4</td><td>45604</td></tr><tr><th>19</th><td>Merc</td><td>pz</td><td>29</td><td>5</td><td>16023</td></tr><tr><th>20</th><td>Merc</td><td>pz</td><td>49</td><td>2</td><td>38323</td></tr><tr><th>21</th><td>Merc</td><td>xz</td><td>42</td><td>2</td><td>29513</td></tr><tr><th>22</th><td>Merc</td><td>pz</td><td>49</td><td>4</td><td>40682</td></tr><tr><th>23</th><td>Merc</td><td>xz</td><td>30</td><td>5</td><td>47809</td></tr><tr><th>24</th><td>Merc</td><td>pz</td><td>57</td><td>4</td><td>45306</td></tr><tr><th>25</th><td>Merc</td><td>wz</td><td>89</td><td>4</td><td>28576</td></tr><tr><th>26</th><td>Merc</td><td>wz</td><td>78</td><td>2</td><td>12978</td></tr><tr><th>27</th><td>Merc</td><td>wz</td><td>51</td><td>1</td><td>43168</td></tr><tr><th>28</th><td>Merc</td><td>xz</td><td>50</td><td>2</td><td>39785</td></tr></tbody></table>"
      ],
      "text/latex": [
       "\\begin{tabular}{r|ccccc}\n",
       "\t& Make & Model & Sales & Rating & Price\\\\\n",
       "\t\\hline\n",
       "\t& String & String & Int64 & Int64 & Int64\\\\\n",
       "\t\\hline\n",
       "\t1 & Merc & yz & 44 & 1 & 47683 \\\\\n",
       "\t2 & Merc & wz & 82 & 5 & 13021 \\\\\n",
       "\t3 & Merc & wz & 50 & 2 & 48464 \\\\\n",
       "\t4 & Merc & pz & 96 & 3 & 39882 \\\\\n",
       "\t5 & Merc & xz & 33 & 5 & 41830 \\\\\n",
       "\t6 & Merc & yz & 73 & 3 & 43473 \\\\\n",
       "\t7 & Merc & pz & 60 & 5 & 35299 \\\\\n",
       "\t8 & Merc & pz & 80 & 2 & 33668 \\\\\n",
       "\t9 & Merc & wz & 67 & 3 & 12350 \\\\\n",
       "\t10 & Merc & yz & 24 & 3 & 49176 \\\\\n",
       "\t11 & Merc & yz & 95 & 2 & 35236 \\\\\n",
       "\t12 & Merc & xz & 45 & 1 & 26706 \\\\\n",
       "\t13 & Merc & pz & 91 & 5 & 33028 \\\\\n",
       "\t14 & Merc & pz & 100 & 4 & 15269 \\\\\n",
       "\t15 & Merc & yz & 78 & 2 & 11688 \\\\\n",
       "\t16 & Merc & wz & 30 & 1 & 44594 \\\\\n",
       "\t17 & Merc & wz & 42 & 3 & 26685 \\\\\n",
       "\t18 & Merc & wz & 86 & 4 & 45604 \\\\\n",
       "\t19 & Merc & pz & 29 & 5 & 16023 \\\\\n",
       "\t20 & Merc & pz & 49 & 2 & 38323 \\\\\n",
       "\t21 & Merc & xz & 42 & 2 & 29513 \\\\\n",
       "\t22 & Merc & pz & 49 & 4 & 40682 \\\\\n",
       "\t23 & Merc & xz & 30 & 5 & 47809 \\\\\n",
       "\t24 & Merc & pz & 57 & 4 & 45306 \\\\\n",
       "\t25 & Merc & wz & 89 & 4 & 28576 \\\\\n",
       "\t26 & Merc & wz & 78 & 2 & 12978 \\\\\n",
       "\t27 & Merc & wz & 51 & 1 & 43168 \\\\\n",
       "\t28 & Merc & xz & 50 & 2 & 39785 \\\\\n",
       "\\end{tabular}\n"
      ],
      "text/plain": [
       "28×5 SubDataFrame\n",
       "│ Row │ Make   │ Model  │ Sales │ Rating │ Price │\n",
       "│     │ \u001b[90mString\u001b[39m │ \u001b[90mString\u001b[39m │ \u001b[90mInt64\u001b[39m │ \u001b[90mInt64\u001b[39m  │ \u001b[90mInt64\u001b[39m │\n",
       "├─────┼────────┼────────┼───────┼────────┼───────┤\n",
       "│ 1   │ Merc   │ yz     │ 44    │ 1      │ 47683 │\n",
       "│ 2   │ Merc   │ wz     │ 82    │ 5      │ 13021 │\n",
       "│ 3   │ Merc   │ wz     │ 50    │ 2      │ 48464 │\n",
       "│ 4   │ Merc   │ pz     │ 96    │ 3      │ 39882 │\n",
       "│ 5   │ Merc   │ xz     │ 33    │ 5      │ 41830 │\n",
       "│ 6   │ Merc   │ yz     │ 73    │ 3      │ 43473 │\n",
       "│ 7   │ Merc   │ pz     │ 60    │ 5      │ 35299 │\n",
       "│ 8   │ Merc   │ pz     │ 80    │ 2      │ 33668 │\n",
       "│ 9   │ Merc   │ wz     │ 67    │ 3      │ 12350 │\n",
       "│ 10  │ Merc   │ yz     │ 24    │ 3      │ 49176 │\n",
       "⋮\n",
       "│ 18  │ Merc   │ wz     │ 86    │ 4      │ 45604 │\n",
       "│ 19  │ Merc   │ pz     │ 29    │ 5      │ 16023 │\n",
       "│ 20  │ Merc   │ pz     │ 49    │ 2      │ 38323 │\n",
       "│ 21  │ Merc   │ xz     │ 42    │ 2      │ 29513 │\n",
       "│ 22  │ Merc   │ pz     │ 49    │ 4      │ 40682 │\n",
       "│ 23  │ Merc   │ xz     │ 30    │ 5      │ 47809 │\n",
       "│ 24  │ Merc   │ pz     │ 57    │ 4      │ 45306 │\n",
       "│ 25  │ Merc   │ wz     │ 89    │ 4      │ 28576 │\n",
       "│ 26  │ Merc   │ wz     │ 78    │ 2      │ 12978 │\n",
       "│ 27  │ Merc   │ wz     │ 51    │ 1      │ 43168 │\n",
       "│ 28  │ Merc   │ xz     │ 50    │ 2      │ 39785 │"
      ]
     },
     "execution_count": 27,
     "metadata": {},
     "output_type": "execute_result"
    }
   ],
   "source": [
    "gdf[(\"Merc\", )]"
   ]
  },
  {
   "cell_type": "markdown",
   "metadata": {},
   "source": [
    "#### Let's dump the data into CSV file"
   ]
  },
  {
   "cell_type": "code",
   "execution_count": 28,
   "metadata": {},
   "outputs": [],
   "source": [
    "using CSV"
   ]
  },
  {
   "cell_type": "code",
   "execution_count": 29,
   "metadata": {},
   "outputs": [
    {
     "data": {
      "text/plain": [
       "\"Model_data.csv\""
      ]
     },
     "execution_count": 29,
     "metadata": {},
     "output_type": "execute_result"
    }
   ],
   "source": [
    "CSV.write(\"Model_data.csv\", data)"
   ]
  },
  {
   "cell_type": "code",
   "execution_count": 30,
   "metadata": {},
   "outputs": [
    {
     "data": {
      "text/html": [
       "<table class=\"data-frame\"><thead><tr><th></th><th>Make</th><th>Model</th><th>Sales</th><th>Rating</th><th>Price</th></tr><tr><th></th><th>String</th><th>String</th><th>Int64</th><th>Int64</th><th>Int64</th></tr></thead><tbody><p>100 rows × 5 columns</p><tr><th>1</th><td>BMW</td><td>yz</td><td>32</td><td>2</td><td>48061</td></tr><tr><th>2</th><td>BMW</td><td>xz</td><td>58</td><td>2</td><td>48056</td></tr><tr><th>3</th><td>Audi</td><td>xz</td><td>68</td><td>1</td><td>46900</td></tr><tr><th>4</th><td>Merc</td><td>yz</td><td>44</td><td>1</td><td>47683</td></tr><tr><th>5</th><td>Audi</td><td>xz</td><td>31</td><td>4</td><td>30039</td></tr><tr><th>6</th><td>Audi</td><td>xz</td><td>32</td><td>3</td><td>13141</td></tr><tr><th>7</th><td>Audi</td><td>xz</td><td>21</td><td>5</td><td>47491</td></tr><tr><th>8</th><td>Audi</td><td>xz</td><td>45</td><td>2</td><td>30631</td></tr><tr><th>9</th><td>BMW</td><td>pz</td><td>50</td><td>2</td><td>10056</td></tr><tr><th>10</th><td>Merc</td><td>wz</td><td>82</td><td>5</td><td>13021</td></tr><tr><th>11</th><td>BMW</td><td>yz</td><td>89</td><td>3</td><td>47450</td></tr><tr><th>12</th><td>BMW</td><td>pz</td><td>79</td><td>1</td><td>31100</td></tr><tr><th>13</th><td>Audi</td><td>wz</td><td>64</td><td>4</td><td>28607</td></tr><tr><th>14</th><td>BMW</td><td>yz</td><td>36</td><td>2</td><td>35093</td></tr><tr><th>15</th><td>Audi</td><td>pz</td><td>59</td><td>3</td><td>47268</td></tr><tr><th>16</th><td>Merc</td><td>wz</td><td>50</td><td>2</td><td>48464</td></tr><tr><th>17</th><td>BMW</td><td>yz</td><td>24</td><td>2</td><td>36230</td></tr><tr><th>18</th><td>BMW</td><td>pz</td><td>29</td><td>1</td><td>29406</td></tr><tr><th>19</th><td>Audi</td><td>xz</td><td>64</td><td>1</td><td>22409</td></tr><tr><th>20</th><td>Merc</td><td>pz</td><td>96</td><td>3</td><td>39882</td></tr><tr><th>21</th><td>Audi</td><td>xz</td><td>32</td><td>1</td><td>33901</td></tr><tr><th>22</th><td>Audi</td><td>pz</td><td>50</td><td>3</td><td>23420</td></tr><tr><th>23</th><td>BMW</td><td>yz</td><td>21</td><td>4</td><td>43961</td></tr><tr><th>24</th><td>BMW</td><td>wz</td><td>51</td><td>4</td><td>21422</td></tr><tr><th>25</th><td>Merc</td><td>xz</td><td>33</td><td>5</td><td>41830</td></tr><tr><th>26</th><td>Audi</td><td>yz</td><td>27</td><td>1</td><td>26282</td></tr><tr><th>27</th><td>BMW</td><td>wz</td><td>79</td><td>3</td><td>17465</td></tr><tr><th>28</th><td>Audi</td><td>wz</td><td>78</td><td>1</td><td>26718</td></tr><tr><th>29</th><td>BMW</td><td>yz</td><td>40</td><td>2</td><td>12466</td></tr><tr><th>30</th><td>Merc</td><td>yz</td><td>73</td><td>3</td><td>43473</td></tr><tr><th>&vellip;</th><td>&vellip;</td><td>&vellip;</td><td>&vellip;</td><td>&vellip;</td><td>&vellip;</td></tr></tbody></table>"
      ],
      "text/latex": [
       "\\begin{tabular}{r|ccccc}\n",
       "\t& Make & Model & Sales & Rating & Price\\\\\n",
       "\t\\hline\n",
       "\t& String & String & Int64 & Int64 & Int64\\\\\n",
       "\t\\hline\n",
       "\t1 & BMW & yz & 32 & 2 & 48061 \\\\\n",
       "\t2 & BMW & xz & 58 & 2 & 48056 \\\\\n",
       "\t3 & Audi & xz & 68 & 1 & 46900 \\\\\n",
       "\t4 & Merc & yz & 44 & 1 & 47683 \\\\\n",
       "\t5 & Audi & xz & 31 & 4 & 30039 \\\\\n",
       "\t6 & Audi & xz & 32 & 3 & 13141 \\\\\n",
       "\t7 & Audi & xz & 21 & 5 & 47491 \\\\\n",
       "\t8 & Audi & xz & 45 & 2 & 30631 \\\\\n",
       "\t9 & BMW & pz & 50 & 2 & 10056 \\\\\n",
       "\t10 & Merc & wz & 82 & 5 & 13021 \\\\\n",
       "\t11 & BMW & yz & 89 & 3 & 47450 \\\\\n",
       "\t12 & BMW & pz & 79 & 1 & 31100 \\\\\n",
       "\t13 & Audi & wz & 64 & 4 & 28607 \\\\\n",
       "\t14 & BMW & yz & 36 & 2 & 35093 \\\\\n",
       "\t15 & Audi & pz & 59 & 3 & 47268 \\\\\n",
       "\t16 & Merc & wz & 50 & 2 & 48464 \\\\\n",
       "\t17 & BMW & yz & 24 & 2 & 36230 \\\\\n",
       "\t18 & BMW & pz & 29 & 1 & 29406 \\\\\n",
       "\t19 & Audi & xz & 64 & 1 & 22409 \\\\\n",
       "\t20 & Merc & pz & 96 & 3 & 39882 \\\\\n",
       "\t21 & Audi & xz & 32 & 1 & 33901 \\\\\n",
       "\t22 & Audi & pz & 50 & 3 & 23420 \\\\\n",
       "\t23 & BMW & yz & 21 & 4 & 43961 \\\\\n",
       "\t24 & BMW & wz & 51 & 4 & 21422 \\\\\n",
       "\t25 & Merc & xz & 33 & 5 & 41830 \\\\\n",
       "\t26 & Audi & yz & 27 & 1 & 26282 \\\\\n",
       "\t27 & BMW & wz & 79 & 3 & 17465 \\\\\n",
       "\t28 & Audi & wz & 78 & 1 & 26718 \\\\\n",
       "\t29 & BMW & yz & 40 & 2 & 12466 \\\\\n",
       "\t30 & Merc & yz & 73 & 3 & 43473 \\\\\n",
       "\t$\\dots$ & $\\dots$ & $\\dots$ & $\\dots$ & $\\dots$ & $\\dots$ \\\\\n",
       "\\end{tabular}\n"
      ],
      "text/plain": [
       "100×5 DataFrame\n",
       "│ Row │ Make   │ Model  │ Sales │ Rating │ Price │\n",
       "│     │ \u001b[90mString\u001b[39m │ \u001b[90mString\u001b[39m │ \u001b[90mInt64\u001b[39m │ \u001b[90mInt64\u001b[39m  │ \u001b[90mInt64\u001b[39m │\n",
       "├─────┼────────┼────────┼───────┼────────┼───────┤\n",
       "│ 1   │ BMW    │ yz     │ 32    │ 2      │ 48061 │\n",
       "│ 2   │ BMW    │ xz     │ 58    │ 2      │ 48056 │\n",
       "│ 3   │ Audi   │ xz     │ 68    │ 1      │ 46900 │\n",
       "│ 4   │ Merc   │ yz     │ 44    │ 1      │ 47683 │\n",
       "│ 5   │ Audi   │ xz     │ 31    │ 4      │ 30039 │\n",
       "│ 6   │ Audi   │ xz     │ 32    │ 3      │ 13141 │\n",
       "│ 7   │ Audi   │ xz     │ 21    │ 5      │ 47491 │\n",
       "│ 8   │ Audi   │ xz     │ 45    │ 2      │ 30631 │\n",
       "│ 9   │ BMW    │ pz     │ 50    │ 2      │ 10056 │\n",
       "│ 10  │ Merc   │ wz     │ 82    │ 5      │ 13021 │\n",
       "⋮\n",
       "│ 90  │ Audi   │ yz     │ 88    │ 5      │ 21404 │\n",
       "│ 91  │ Merc   │ xz     │ 50    │ 2      │ 39785 │\n",
       "│ 92  │ BMW    │ xz     │ 28    │ 1      │ 32373 │\n",
       "│ 93  │ Audi   │ wz     │ 59    │ 5      │ 19070 │\n",
       "│ 94  │ Audi   │ pz     │ 37    │ 2      │ 28427 │\n",
       "│ 95  │ BMW    │ yz     │ 93    │ 4      │ 31035 │\n",
       "│ 96  │ BMW    │ wz     │ 100   │ 5      │ 39689 │\n",
       "│ 97  │ Audi   │ wz     │ 72    │ 2      │ 40729 │\n",
       "│ 98  │ BMW    │ pz     │ 34    │ 2      │ 33109 │\n",
       "│ 99  │ Audi   │ yz     │ 51    │ 2      │ 42162 │\n",
       "│ 100 │ BMW    │ yz     │ 49    │ 3      │ 13826 │"
      ]
     },
     "execution_count": 30,
     "metadata": {},
     "output_type": "execute_result"
    }
   ],
   "source": [
    "CSV.read(\"Model_data.csv\")"
   ]
  },
  {
   "cell_type": "markdown",
   "metadata": {},
   "source": [
    "#### Let's create a JSON data from the same"
   ]
  },
  {
   "cell_type": "code",
   "execution_count": 32,
   "metadata": {},
   "outputs": [
    {
     "name": "stderr",
     "output_type": "stream",
     "text": [
      "\u001b[32m\u001b[1m   Updating\u001b[22m\u001b[39m registry at `~/.julia/registries/General`\n"
     ]
    },
    {
     "name": "stdout",
     "output_type": "stream",
     "text": [
      "\u001b[?25l    "
     ]
    },
    {
     "name": "stderr",
     "output_type": "stream",
     "text": [
      "\u001b[32m\u001b[1m   Updating\u001b[22m\u001b[39m git-repo `https://github.com/JuliaRegistries/General.git`\n"
     ]
    },
    {
     "name": "stdout",
     "output_type": "stream",
     "text": [
      "\u001b[2K\u001b[?25h[1mFetching:\u001b[22m\u001b[39m [========================================>]  100.0 %"
     ]
    },
    {
     "name": "stderr",
     "output_type": "stream",
     "text": [
      "\u001b[32m\u001b[1m  Resolving\u001b[22m\u001b[39m package versions...\n",
      "\u001b[32m\u001b[1m   Updating\u001b[22m\u001b[39m `~/.julia/environments/v1.4/Project.toml`\n",
      "\u001b[90m [no changes]\u001b[39m\n",
      "\u001b[32m\u001b[1m   Updating\u001b[22m\u001b[39m `~/.julia/environments/v1.4/Manifest.toml`\n",
      "\u001b[90m [no changes]\u001b[39m\n"
     ]
    }
   ],
   "source": [
    "using Pkg\n",
    "Pkg.add(\"JSONTables\")"
   ]
  },
  {
   "cell_type": "code",
   "execution_count": 33,
   "metadata": {},
   "outputs": [],
   "source": [
    "using JSONTables"
   ]
  },
  {
   "cell_type": "code",
   "execution_count": 34,
   "metadata": {},
   "outputs": [
    {
     "data": {
      "text/plain": [
       "6468"
      ]
     },
     "execution_count": 34,
     "metadata": {},
     "output_type": "execute_result"
    }
   ],
   "source": [
    "open(io->arraytable(io, data), \"Model_data.json\", \"w\")"
   ]
  },
  {
   "cell_type": "code",
   "execution_count": 35,
   "metadata": {},
   "outputs": [
    {
     "data": {
      "text/html": [
       "<table class=\"data-frame\"><thead><tr><th></th><th>Make</th><th>Model</th><th>Sales</th><th>Rating</th><th>Price</th></tr><tr><th></th><th>String</th><th>String</th><th>Int64</th><th>Int64</th><th>Int64</th></tr></thead><tbody><p>100 rows × 5 columns</p><tr><th>1</th><td>BMW</td><td>yz</td><td>32</td><td>2</td><td>48061</td></tr><tr><th>2</th><td>BMW</td><td>xz</td><td>58</td><td>2</td><td>48056</td></tr><tr><th>3</th><td>Audi</td><td>xz</td><td>68</td><td>1</td><td>46900</td></tr><tr><th>4</th><td>Merc</td><td>yz</td><td>44</td><td>1</td><td>47683</td></tr><tr><th>5</th><td>Audi</td><td>xz</td><td>31</td><td>4</td><td>30039</td></tr><tr><th>6</th><td>Audi</td><td>xz</td><td>32</td><td>3</td><td>13141</td></tr><tr><th>7</th><td>Audi</td><td>xz</td><td>21</td><td>5</td><td>47491</td></tr><tr><th>8</th><td>Audi</td><td>xz</td><td>45</td><td>2</td><td>30631</td></tr><tr><th>9</th><td>BMW</td><td>pz</td><td>50</td><td>2</td><td>10056</td></tr><tr><th>10</th><td>Merc</td><td>wz</td><td>82</td><td>5</td><td>13021</td></tr><tr><th>11</th><td>BMW</td><td>yz</td><td>89</td><td>3</td><td>47450</td></tr><tr><th>12</th><td>BMW</td><td>pz</td><td>79</td><td>1</td><td>31100</td></tr><tr><th>13</th><td>Audi</td><td>wz</td><td>64</td><td>4</td><td>28607</td></tr><tr><th>14</th><td>BMW</td><td>yz</td><td>36</td><td>2</td><td>35093</td></tr><tr><th>15</th><td>Audi</td><td>pz</td><td>59</td><td>3</td><td>47268</td></tr><tr><th>16</th><td>Merc</td><td>wz</td><td>50</td><td>2</td><td>48464</td></tr><tr><th>17</th><td>BMW</td><td>yz</td><td>24</td><td>2</td><td>36230</td></tr><tr><th>18</th><td>BMW</td><td>pz</td><td>29</td><td>1</td><td>29406</td></tr><tr><th>19</th><td>Audi</td><td>xz</td><td>64</td><td>1</td><td>22409</td></tr><tr><th>20</th><td>Merc</td><td>pz</td><td>96</td><td>3</td><td>39882</td></tr><tr><th>21</th><td>Audi</td><td>xz</td><td>32</td><td>1</td><td>33901</td></tr><tr><th>22</th><td>Audi</td><td>pz</td><td>50</td><td>3</td><td>23420</td></tr><tr><th>23</th><td>BMW</td><td>yz</td><td>21</td><td>4</td><td>43961</td></tr><tr><th>24</th><td>BMW</td><td>wz</td><td>51</td><td>4</td><td>21422</td></tr><tr><th>25</th><td>Merc</td><td>xz</td><td>33</td><td>5</td><td>41830</td></tr><tr><th>26</th><td>Audi</td><td>yz</td><td>27</td><td>1</td><td>26282</td></tr><tr><th>27</th><td>BMW</td><td>wz</td><td>79</td><td>3</td><td>17465</td></tr><tr><th>28</th><td>Audi</td><td>wz</td><td>78</td><td>1</td><td>26718</td></tr><tr><th>29</th><td>BMW</td><td>yz</td><td>40</td><td>2</td><td>12466</td></tr><tr><th>30</th><td>Merc</td><td>yz</td><td>73</td><td>3</td><td>43473</td></tr><tr><th>&vellip;</th><td>&vellip;</td><td>&vellip;</td><td>&vellip;</td><td>&vellip;</td><td>&vellip;</td></tr></tbody></table>"
      ],
      "text/latex": [
       "\\begin{tabular}{r|ccccc}\n",
       "\t& Make & Model & Sales & Rating & Price\\\\\n",
       "\t\\hline\n",
       "\t& String & String & Int64 & Int64 & Int64\\\\\n",
       "\t\\hline\n",
       "\t1 & BMW & yz & 32 & 2 & 48061 \\\\\n",
       "\t2 & BMW & xz & 58 & 2 & 48056 \\\\\n",
       "\t3 & Audi & xz & 68 & 1 & 46900 \\\\\n",
       "\t4 & Merc & yz & 44 & 1 & 47683 \\\\\n",
       "\t5 & Audi & xz & 31 & 4 & 30039 \\\\\n",
       "\t6 & Audi & xz & 32 & 3 & 13141 \\\\\n",
       "\t7 & Audi & xz & 21 & 5 & 47491 \\\\\n",
       "\t8 & Audi & xz & 45 & 2 & 30631 \\\\\n",
       "\t9 & BMW & pz & 50 & 2 & 10056 \\\\\n",
       "\t10 & Merc & wz & 82 & 5 & 13021 \\\\\n",
       "\t11 & BMW & yz & 89 & 3 & 47450 \\\\\n",
       "\t12 & BMW & pz & 79 & 1 & 31100 \\\\\n",
       "\t13 & Audi & wz & 64 & 4 & 28607 \\\\\n",
       "\t14 & BMW & yz & 36 & 2 & 35093 \\\\\n",
       "\t15 & Audi & pz & 59 & 3 & 47268 \\\\\n",
       "\t16 & Merc & wz & 50 & 2 & 48464 \\\\\n",
       "\t17 & BMW & yz & 24 & 2 & 36230 \\\\\n",
       "\t18 & BMW & pz & 29 & 1 & 29406 \\\\\n",
       "\t19 & Audi & xz & 64 & 1 & 22409 \\\\\n",
       "\t20 & Merc & pz & 96 & 3 & 39882 \\\\\n",
       "\t21 & Audi & xz & 32 & 1 & 33901 \\\\\n",
       "\t22 & Audi & pz & 50 & 3 & 23420 \\\\\n",
       "\t23 & BMW & yz & 21 & 4 & 43961 \\\\\n",
       "\t24 & BMW & wz & 51 & 4 & 21422 \\\\\n",
       "\t25 & Merc & xz & 33 & 5 & 41830 \\\\\n",
       "\t26 & Audi & yz & 27 & 1 & 26282 \\\\\n",
       "\t27 & BMW & wz & 79 & 3 & 17465 \\\\\n",
       "\t28 & Audi & wz & 78 & 1 & 26718 \\\\\n",
       "\t29 & BMW & yz & 40 & 2 & 12466 \\\\\n",
       "\t30 & Merc & yz & 73 & 3 & 43473 \\\\\n",
       "\t$\\dots$ & $\\dots$ & $\\dots$ & $\\dots$ & $\\dots$ & $\\dots$ \\\\\n",
       "\\end{tabular}\n"
      ],
      "text/plain": [
       "100×5 DataFrame\n",
       "│ Row │ Make   │ Model  │ Sales │ Rating │ Price │\n",
       "│     │ \u001b[90mString\u001b[39m │ \u001b[90mString\u001b[39m │ \u001b[90mInt64\u001b[39m │ \u001b[90mInt64\u001b[39m  │ \u001b[90mInt64\u001b[39m │\n",
       "├─────┼────────┼────────┼───────┼────────┼───────┤\n",
       "│ 1   │ BMW    │ yz     │ 32    │ 2      │ 48061 │\n",
       "│ 2   │ BMW    │ xz     │ 58    │ 2      │ 48056 │\n",
       "│ 3   │ Audi   │ xz     │ 68    │ 1      │ 46900 │\n",
       "│ 4   │ Merc   │ yz     │ 44    │ 1      │ 47683 │\n",
       "│ 5   │ Audi   │ xz     │ 31    │ 4      │ 30039 │\n",
       "│ 6   │ Audi   │ xz     │ 32    │ 3      │ 13141 │\n",
       "│ 7   │ Audi   │ xz     │ 21    │ 5      │ 47491 │\n",
       "│ 8   │ Audi   │ xz     │ 45    │ 2      │ 30631 │\n",
       "│ 9   │ BMW    │ pz     │ 50    │ 2      │ 10056 │\n",
       "│ 10  │ Merc   │ wz     │ 82    │ 5      │ 13021 │\n",
       "⋮\n",
       "│ 90  │ Audi   │ yz     │ 88    │ 5      │ 21404 │\n",
       "│ 91  │ Merc   │ xz     │ 50    │ 2      │ 39785 │\n",
       "│ 92  │ BMW    │ xz     │ 28    │ 1      │ 32373 │\n",
       "│ 93  │ Audi   │ wz     │ 59    │ 5      │ 19070 │\n",
       "│ 94  │ Audi   │ pz     │ 37    │ 2      │ 28427 │\n",
       "│ 95  │ BMW    │ yz     │ 93    │ 4      │ 31035 │\n",
       "│ 96  │ BMW    │ wz     │ 100   │ 5      │ 39689 │\n",
       "│ 97  │ Audi   │ wz     │ 72    │ 2      │ 40729 │\n",
       "│ 98  │ BMW    │ pz     │ 34    │ 2      │ 33109 │\n",
       "│ 99  │ Audi   │ yz     │ 51    │ 2      │ 42162 │\n",
       "│ 100 │ BMW    │ yz     │ 49    │ 3      │ 13826 │"
      ]
     },
     "execution_count": 35,
     "metadata": {},
     "output_type": "execute_result"
    }
   ],
   "source": [
    "open(jsontable, \"Model_data.json\") |> DataFrame"
   ]
  },
  {
   "cell_type": "markdown",
   "metadata": {},
   "source": [
    "#### Dump the data into binary file using Serialization"
   ]
  },
  {
   "cell_type": "code",
   "execution_count": 36,
   "metadata": {},
   "outputs": [],
   "source": [
    "using Serialization"
   ]
  },
  {
   "cell_type": "code",
   "execution_count": 37,
   "metadata": {},
   "outputs": [],
   "source": [
    "open(\"Model_data.bin\", \"w\") do io\n",
    "    serialize(io, data)\n",
    "end"
   ]
  },
  {
   "cell_type": "code",
   "execution_count": 38,
   "metadata": {},
   "outputs": [
    {
     "data": {
      "text/html": [
       "<table class=\"data-frame\"><thead><tr><th></th><th>Make</th><th>Model</th><th>Sales</th><th>Rating</th><th>Price</th></tr><tr><th></th><th>String</th><th>String</th><th>Int64</th><th>Int64</th><th>Int64</th></tr></thead><tbody><p>100 rows × 5 columns</p><tr><th>1</th><td>BMW</td><td>yz</td><td>32</td><td>2</td><td>48061</td></tr><tr><th>2</th><td>BMW</td><td>xz</td><td>58</td><td>2</td><td>48056</td></tr><tr><th>3</th><td>Audi</td><td>xz</td><td>68</td><td>1</td><td>46900</td></tr><tr><th>4</th><td>Merc</td><td>yz</td><td>44</td><td>1</td><td>47683</td></tr><tr><th>5</th><td>Audi</td><td>xz</td><td>31</td><td>4</td><td>30039</td></tr><tr><th>6</th><td>Audi</td><td>xz</td><td>32</td><td>3</td><td>13141</td></tr><tr><th>7</th><td>Audi</td><td>xz</td><td>21</td><td>5</td><td>47491</td></tr><tr><th>8</th><td>Audi</td><td>xz</td><td>45</td><td>2</td><td>30631</td></tr><tr><th>9</th><td>BMW</td><td>pz</td><td>50</td><td>2</td><td>10056</td></tr><tr><th>10</th><td>Merc</td><td>wz</td><td>82</td><td>5</td><td>13021</td></tr><tr><th>11</th><td>BMW</td><td>yz</td><td>89</td><td>3</td><td>47450</td></tr><tr><th>12</th><td>BMW</td><td>pz</td><td>79</td><td>1</td><td>31100</td></tr><tr><th>13</th><td>Audi</td><td>wz</td><td>64</td><td>4</td><td>28607</td></tr><tr><th>14</th><td>BMW</td><td>yz</td><td>36</td><td>2</td><td>35093</td></tr><tr><th>15</th><td>Audi</td><td>pz</td><td>59</td><td>3</td><td>47268</td></tr><tr><th>16</th><td>Merc</td><td>wz</td><td>50</td><td>2</td><td>48464</td></tr><tr><th>17</th><td>BMW</td><td>yz</td><td>24</td><td>2</td><td>36230</td></tr><tr><th>18</th><td>BMW</td><td>pz</td><td>29</td><td>1</td><td>29406</td></tr><tr><th>19</th><td>Audi</td><td>xz</td><td>64</td><td>1</td><td>22409</td></tr><tr><th>20</th><td>Merc</td><td>pz</td><td>96</td><td>3</td><td>39882</td></tr><tr><th>21</th><td>Audi</td><td>xz</td><td>32</td><td>1</td><td>33901</td></tr><tr><th>22</th><td>Audi</td><td>pz</td><td>50</td><td>3</td><td>23420</td></tr><tr><th>23</th><td>BMW</td><td>yz</td><td>21</td><td>4</td><td>43961</td></tr><tr><th>24</th><td>BMW</td><td>wz</td><td>51</td><td>4</td><td>21422</td></tr><tr><th>25</th><td>Merc</td><td>xz</td><td>33</td><td>5</td><td>41830</td></tr><tr><th>26</th><td>Audi</td><td>yz</td><td>27</td><td>1</td><td>26282</td></tr><tr><th>27</th><td>BMW</td><td>wz</td><td>79</td><td>3</td><td>17465</td></tr><tr><th>28</th><td>Audi</td><td>wz</td><td>78</td><td>1</td><td>26718</td></tr><tr><th>29</th><td>BMW</td><td>yz</td><td>40</td><td>2</td><td>12466</td></tr><tr><th>30</th><td>Merc</td><td>yz</td><td>73</td><td>3</td><td>43473</td></tr><tr><th>&vellip;</th><td>&vellip;</td><td>&vellip;</td><td>&vellip;</td><td>&vellip;</td><td>&vellip;</td></tr></tbody></table>"
      ],
      "text/latex": [
       "\\begin{tabular}{r|ccccc}\n",
       "\t& Make & Model & Sales & Rating & Price\\\\\n",
       "\t\\hline\n",
       "\t& String & String & Int64 & Int64 & Int64\\\\\n",
       "\t\\hline\n",
       "\t1 & BMW & yz & 32 & 2 & 48061 \\\\\n",
       "\t2 & BMW & xz & 58 & 2 & 48056 \\\\\n",
       "\t3 & Audi & xz & 68 & 1 & 46900 \\\\\n",
       "\t4 & Merc & yz & 44 & 1 & 47683 \\\\\n",
       "\t5 & Audi & xz & 31 & 4 & 30039 \\\\\n",
       "\t6 & Audi & xz & 32 & 3 & 13141 \\\\\n",
       "\t7 & Audi & xz & 21 & 5 & 47491 \\\\\n",
       "\t8 & Audi & xz & 45 & 2 & 30631 \\\\\n",
       "\t9 & BMW & pz & 50 & 2 & 10056 \\\\\n",
       "\t10 & Merc & wz & 82 & 5 & 13021 \\\\\n",
       "\t11 & BMW & yz & 89 & 3 & 47450 \\\\\n",
       "\t12 & BMW & pz & 79 & 1 & 31100 \\\\\n",
       "\t13 & Audi & wz & 64 & 4 & 28607 \\\\\n",
       "\t14 & BMW & yz & 36 & 2 & 35093 \\\\\n",
       "\t15 & Audi & pz & 59 & 3 & 47268 \\\\\n",
       "\t16 & Merc & wz & 50 & 2 & 48464 \\\\\n",
       "\t17 & BMW & yz & 24 & 2 & 36230 \\\\\n",
       "\t18 & BMW & pz & 29 & 1 & 29406 \\\\\n",
       "\t19 & Audi & xz & 64 & 1 & 22409 \\\\\n",
       "\t20 & Merc & pz & 96 & 3 & 39882 \\\\\n",
       "\t21 & Audi & xz & 32 & 1 & 33901 \\\\\n",
       "\t22 & Audi & pz & 50 & 3 & 23420 \\\\\n",
       "\t23 & BMW & yz & 21 & 4 & 43961 \\\\\n",
       "\t24 & BMW & wz & 51 & 4 & 21422 \\\\\n",
       "\t25 & Merc & xz & 33 & 5 & 41830 \\\\\n",
       "\t26 & Audi & yz & 27 & 1 & 26282 \\\\\n",
       "\t27 & BMW & wz & 79 & 3 & 17465 \\\\\n",
       "\t28 & Audi & wz & 78 & 1 & 26718 \\\\\n",
       "\t29 & BMW & yz & 40 & 2 & 12466 \\\\\n",
       "\t30 & Merc & yz & 73 & 3 & 43473 \\\\\n",
       "\t$\\dots$ & $\\dots$ & $\\dots$ & $\\dots$ & $\\dots$ & $\\dots$ \\\\\n",
       "\\end{tabular}\n"
      ],
      "text/plain": [
       "100×5 DataFrame\n",
       "│ Row │ Make   │ Model  │ Sales │ Rating │ Price │\n",
       "│     │ \u001b[90mString\u001b[39m │ \u001b[90mString\u001b[39m │ \u001b[90mInt64\u001b[39m │ \u001b[90mInt64\u001b[39m  │ \u001b[90mInt64\u001b[39m │\n",
       "├─────┼────────┼────────┼───────┼────────┼───────┤\n",
       "│ 1   │ BMW    │ yz     │ 32    │ 2      │ 48061 │\n",
       "│ 2   │ BMW    │ xz     │ 58    │ 2      │ 48056 │\n",
       "│ 3   │ Audi   │ xz     │ 68    │ 1      │ 46900 │\n",
       "│ 4   │ Merc   │ yz     │ 44    │ 1      │ 47683 │\n",
       "│ 5   │ Audi   │ xz     │ 31    │ 4      │ 30039 │\n",
       "│ 6   │ Audi   │ xz     │ 32    │ 3      │ 13141 │\n",
       "│ 7   │ Audi   │ xz     │ 21    │ 5      │ 47491 │\n",
       "│ 8   │ Audi   │ xz     │ 45    │ 2      │ 30631 │\n",
       "│ 9   │ BMW    │ pz     │ 50    │ 2      │ 10056 │\n",
       "│ 10  │ Merc   │ wz     │ 82    │ 5      │ 13021 │\n",
       "⋮\n",
       "│ 90  │ Audi   │ yz     │ 88    │ 5      │ 21404 │\n",
       "│ 91  │ Merc   │ xz     │ 50    │ 2      │ 39785 │\n",
       "│ 92  │ BMW    │ xz     │ 28    │ 1      │ 32373 │\n",
       "│ 93  │ Audi   │ wz     │ 59    │ 5      │ 19070 │\n",
       "│ 94  │ Audi   │ pz     │ 37    │ 2      │ 28427 │\n",
       "│ 95  │ BMW    │ yz     │ 93    │ 4      │ 31035 │\n",
       "│ 96  │ BMW    │ wz     │ 100   │ 5      │ 39689 │\n",
       "│ 97  │ Audi   │ wz     │ 72    │ 2      │ 40729 │\n",
       "│ 98  │ BMW    │ pz     │ 34    │ 2      │ 33109 │\n",
       "│ 99  │ Audi   │ yz     │ 51    │ 2      │ 42162 │\n",
       "│ 100 │ BMW    │ yz     │ 49    │ 3      │ 13826 │"
      ]
     },
     "execution_count": 38,
     "metadata": {},
     "output_type": "execute_result"
    }
   ],
   "source": [
    "open(deserialize, \"Model_data.bin\")"
   ]
  },
  {
   "cell_type": "markdown",
   "metadata": {},
   "source": [
    "### Use data from CSV file for analysis"
   ]
  },
  {
   "cell_type": "code",
   "execution_count": 48,
   "metadata": {},
   "outputs": [
    {
     "data": {
      "text/html": [
       "<table class=\"data-frame\"><thead><tr><th></th><th>Sno</th><th>Date</th><th>Time</th><th>State</th><th>ConfirmedIndianNational</th><th>ConfirmedForeignNational</th></tr><tr><th></th><th>Int64</th><th>String</th><th>String</th><th>String</th><th>String</th><th>String</th></tr></thead><tbody><p>3,387 rows × 9 columns (omitted printing of 3 columns)</p><tr><th>1</th><td>1</td><td>30/01/20</td><td>6:00 PM</td><td>Kerala</td><td>1</td><td>0</td></tr><tr><th>2</th><td>2</td><td>31/01/20</td><td>6:00 PM</td><td>Kerala</td><td>1</td><td>0</td></tr><tr><th>3</th><td>3</td><td>01/02/20</td><td>6:00 PM</td><td>Kerala</td><td>2</td><td>0</td></tr><tr><th>4</th><td>4</td><td>02/02/20</td><td>6:00 PM</td><td>Kerala</td><td>3</td><td>0</td></tr><tr><th>5</th><td>5</td><td>03/02/20</td><td>6:00 PM</td><td>Kerala</td><td>3</td><td>0</td></tr><tr><th>6</th><td>6</td><td>04/02/20</td><td>6:00 PM</td><td>Kerala</td><td>3</td><td>0</td></tr><tr><th>7</th><td>7</td><td>05/02/20</td><td>6:00 PM</td><td>Kerala</td><td>3</td><td>0</td></tr><tr><th>8</th><td>8</td><td>06/02/20</td><td>6:00 PM</td><td>Kerala</td><td>3</td><td>0</td></tr><tr><th>9</th><td>9</td><td>07/02/20</td><td>6:00 PM</td><td>Kerala</td><td>3</td><td>0</td></tr><tr><th>10</th><td>10</td><td>08/02/20</td><td>6:00 PM</td><td>Kerala</td><td>3</td><td>0</td></tr><tr><th>11</th><td>11</td><td>09/02/20</td><td>6:00 PM</td><td>Kerala</td><td>3</td><td>0</td></tr><tr><th>12</th><td>12</td><td>10/02/20</td><td>6:00 PM</td><td>Kerala</td><td>3</td><td>0</td></tr><tr><th>13</th><td>13</td><td>11/02/20</td><td>6:00 PM</td><td>Kerala</td><td>3</td><td>0</td></tr><tr><th>14</th><td>14</td><td>12/02/20</td><td>6:00 PM</td><td>Kerala</td><td>3</td><td>0</td></tr><tr><th>15</th><td>15</td><td>13/02/20</td><td>6:00 PM</td><td>Kerala</td><td>3</td><td>0</td></tr><tr><th>16</th><td>16</td><td>14/02/20</td><td>6:00 PM</td><td>Kerala</td><td>3</td><td>0</td></tr><tr><th>17</th><td>17</td><td>15/02/20</td><td>6:00 PM</td><td>Kerala</td><td>3</td><td>0</td></tr><tr><th>18</th><td>18</td><td>16/02/20</td><td>6:00 PM</td><td>Kerala</td><td>3</td><td>0</td></tr><tr><th>19</th><td>19</td><td>17/02/20</td><td>6:00 PM</td><td>Kerala</td><td>3</td><td>0</td></tr><tr><th>20</th><td>20</td><td>18/02/20</td><td>6:00 PM</td><td>Kerala</td><td>3</td><td>0</td></tr><tr><th>21</th><td>21</td><td>19/02/20</td><td>6:00 PM</td><td>Kerala</td><td>3</td><td>0</td></tr><tr><th>22</th><td>22</td><td>20/02/20</td><td>6:00 PM</td><td>Kerala</td><td>3</td><td>0</td></tr><tr><th>23</th><td>23</td><td>21/02/20</td><td>6:00 PM</td><td>Kerala</td><td>3</td><td>0</td></tr><tr><th>24</th><td>24</td><td>22/02/20</td><td>6:00 PM</td><td>Kerala</td><td>3</td><td>0</td></tr><tr><th>25</th><td>25</td><td>23/02/20</td><td>6:00 PM</td><td>Kerala</td><td>3</td><td>0</td></tr><tr><th>26</th><td>26</td><td>24/02/20</td><td>6:00 PM</td><td>Kerala</td><td>3</td><td>0</td></tr><tr><th>27</th><td>27</td><td>25/02/20</td><td>6:00 PM</td><td>Kerala</td><td>3</td><td>0</td></tr><tr><th>28</th><td>28</td><td>26/02/20</td><td>6:00 PM</td><td>Kerala</td><td>3</td><td>0</td></tr><tr><th>29</th><td>29</td><td>27/02/20</td><td>6:00 PM</td><td>Kerala</td><td>3</td><td>0</td></tr><tr><th>30</th><td>30</td><td>28/02/20</td><td>6:00 PM</td><td>Kerala</td><td>3</td><td>0</td></tr><tr><th>&vellip;</th><td>&vellip;</td><td>&vellip;</td><td>&vellip;</td><td>&vellip;</td><td>&vellip;</td><td>&vellip;</td></tr></tbody></table>"
      ],
      "text/latex": [
       "\\begin{tabular}{r|ccccccc}\n",
       "\t& Sno & Date & Time & State & ConfirmedIndianNational & ConfirmedForeignNational & \\\\\n",
       "\t\\hline\n",
       "\t& Int64 & String & String & String & String & String & \\\\\n",
       "\t\\hline\n",
       "\t1 & 1 & 30/01/20 & 6:00 PM & Kerala & 1 & 0 & $\\dots$ \\\\\n",
       "\t2 & 2 & 31/01/20 & 6:00 PM & Kerala & 1 & 0 & $\\dots$ \\\\\n",
       "\t3 & 3 & 01/02/20 & 6:00 PM & Kerala & 2 & 0 & $\\dots$ \\\\\n",
       "\t4 & 4 & 02/02/20 & 6:00 PM & Kerala & 3 & 0 & $\\dots$ \\\\\n",
       "\t5 & 5 & 03/02/20 & 6:00 PM & Kerala & 3 & 0 & $\\dots$ \\\\\n",
       "\t6 & 6 & 04/02/20 & 6:00 PM & Kerala & 3 & 0 & $\\dots$ \\\\\n",
       "\t7 & 7 & 05/02/20 & 6:00 PM & Kerala & 3 & 0 & $\\dots$ \\\\\n",
       "\t8 & 8 & 06/02/20 & 6:00 PM & Kerala & 3 & 0 & $\\dots$ \\\\\n",
       "\t9 & 9 & 07/02/20 & 6:00 PM & Kerala & 3 & 0 & $\\dots$ \\\\\n",
       "\t10 & 10 & 08/02/20 & 6:00 PM & Kerala & 3 & 0 & $\\dots$ \\\\\n",
       "\t11 & 11 & 09/02/20 & 6:00 PM & Kerala & 3 & 0 & $\\dots$ \\\\\n",
       "\t12 & 12 & 10/02/20 & 6:00 PM & Kerala & 3 & 0 & $\\dots$ \\\\\n",
       "\t13 & 13 & 11/02/20 & 6:00 PM & Kerala & 3 & 0 & $\\dots$ \\\\\n",
       "\t14 & 14 & 12/02/20 & 6:00 PM & Kerala & 3 & 0 & $\\dots$ \\\\\n",
       "\t15 & 15 & 13/02/20 & 6:00 PM & Kerala & 3 & 0 & $\\dots$ \\\\\n",
       "\t16 & 16 & 14/02/20 & 6:00 PM & Kerala & 3 & 0 & $\\dots$ \\\\\n",
       "\t17 & 17 & 15/02/20 & 6:00 PM & Kerala & 3 & 0 & $\\dots$ \\\\\n",
       "\t18 & 18 & 16/02/20 & 6:00 PM & Kerala & 3 & 0 & $\\dots$ \\\\\n",
       "\t19 & 19 & 17/02/20 & 6:00 PM & Kerala & 3 & 0 & $\\dots$ \\\\\n",
       "\t20 & 20 & 18/02/20 & 6:00 PM & Kerala & 3 & 0 & $\\dots$ \\\\\n",
       "\t21 & 21 & 19/02/20 & 6:00 PM & Kerala & 3 & 0 & $\\dots$ \\\\\n",
       "\t22 & 22 & 20/02/20 & 6:00 PM & Kerala & 3 & 0 & $\\dots$ \\\\\n",
       "\t23 & 23 & 21/02/20 & 6:00 PM & Kerala & 3 & 0 & $\\dots$ \\\\\n",
       "\t24 & 24 & 22/02/20 & 6:00 PM & Kerala & 3 & 0 & $\\dots$ \\\\\n",
       "\t25 & 25 & 23/02/20 & 6:00 PM & Kerala & 3 & 0 & $\\dots$ \\\\\n",
       "\t26 & 26 & 24/02/20 & 6:00 PM & Kerala & 3 & 0 & $\\dots$ \\\\\n",
       "\t27 & 27 & 25/02/20 & 6:00 PM & Kerala & 3 & 0 & $\\dots$ \\\\\n",
       "\t28 & 28 & 26/02/20 & 6:00 PM & Kerala & 3 & 0 & $\\dots$ \\\\\n",
       "\t29 & 29 & 27/02/20 & 6:00 PM & Kerala & 3 & 0 & $\\dots$ \\\\\n",
       "\t30 & 30 & 28/02/20 & 6:00 PM & Kerala & 3 & 0 & $\\dots$ \\\\\n",
       "\t$\\dots$ & $\\dots$ & $\\dots$ & $\\dots$ & $\\dots$ & $\\dots$ & $\\dots$ &  \\\\\n",
       "\\end{tabular}\n"
      ],
      "text/plain": [
       "3387×9 DataFrame. Omitted printing of 5 columns\n",
       "│ Row  │ Sno   │ Date     │ Time    │ State                            │\n",
       "│      │ \u001b[90mInt64\u001b[39m │ \u001b[90mString\u001b[39m   │ \u001b[90mString\u001b[39m  │ \u001b[90mString\u001b[39m                           │\n",
       "├──────┼───────┼──────────┼─────────┼──────────────────────────────────┤\n",
       "│ 1    │ 1     │ 30/01/20 │ 6:00 PM │ Kerala                           │\n",
       "│ 2    │ 2     │ 31/01/20 │ 6:00 PM │ Kerala                           │\n",
       "│ 3    │ 3     │ 01/02/20 │ 6:00 PM │ Kerala                           │\n",
       "│ 4    │ 4     │ 02/02/20 │ 6:00 PM │ Kerala                           │\n",
       "│ 5    │ 5     │ 03/02/20 │ 6:00 PM │ Kerala                           │\n",
       "│ 6    │ 6     │ 04/02/20 │ 6:00 PM │ Kerala                           │\n",
       "│ 7    │ 7     │ 05/02/20 │ 6:00 PM │ Kerala                           │\n",
       "│ 8    │ 8     │ 06/02/20 │ 6:00 PM │ Kerala                           │\n",
       "│ 9    │ 9     │ 07/02/20 │ 6:00 PM │ Kerala                           │\n",
       "│ 10   │ 10    │ 08/02/20 │ 6:00 PM │ Kerala                           │\n",
       "⋮\n",
       "│ 3377 │ 3377  │ 24/06/20 │ 8:00 AM │ Puducherry                       │\n",
       "│ 3378 │ 3378  │ 24/06/20 │ 8:00 AM │ Punjab                           │\n",
       "│ 3379 │ 3379  │ 24/06/20 │ 8:00 AM │ Rajasthan                        │\n",
       "│ 3380 │ 3380  │ 24/06/20 │ 8:00 AM │ Sikkim                           │\n",
       "│ 3381 │ 3381  │ 24/06/20 │ 8:00 AM │ Tamil Nadu                       │\n",
       "│ 3382 │ 3382  │ 24/06/20 │ 8:00 AM │ Telangana                        │\n",
       "│ 3383 │ 3383  │ 24/06/20 │ 8:00 AM │ Tripura                          │\n",
       "│ 3384 │ 3384  │ 24/06/20 │ 8:00 AM │ Uttarakhand                      │\n",
       "│ 3385 │ 3385  │ 24/06/20 │ 8:00 AM │ Uttar Pradesh                    │\n",
       "│ 3386 │ 3386  │ 24/06/20 │ 8:00 AM │ West Bengal                      │\n",
       "│ 3387 │ 3387  │ 24/06/20 │ 8:00 AM │ Cases being reassigned to states │"
      ]
     },
     "execution_count": 48,
     "metadata": {},
     "output_type": "execute_result"
    }
   ],
   "source": [
    "new_df = CSV.File(\"covid_india.csv\") |> DataFrame"
   ]
  },
  {
   "cell_type": "code",
   "execution_count": 49,
   "metadata": {},
   "outputs": [
    {
     "data": {
      "text/html": [
       "<p><b>GroupedDataFrame with 40 groups based on key: State</b></p><p><i>First Group (147 rows): State = \"Kerala\"</i></p><table class=\"data-frame\"><thead><tr><th></th><th>Sno</th><th>Date</th><th>Time</th><th>State</th><th>ConfirmedIndianNational</th><th>ConfirmedForeignNational</th></tr><tr><th></th><th>Int64</th><th>String</th><th>String</th><th>String</th><th>String</th><th>String</th></tr></thead><tbody><tr><th>1</th><td>1</td><td>30/01/20</td><td>6:00 PM</td><td>Kerala</td><td>1</td><td>0</td></tr><tr><th>2</th><td>2</td><td>31/01/20</td><td>6:00 PM</td><td>Kerala</td><td>1</td><td>0</td></tr><tr><th>3</th><td>3</td><td>01/02/20</td><td>6:00 PM</td><td>Kerala</td><td>2</td><td>0</td></tr><tr><th>4</th><td>4</td><td>02/02/20</td><td>6:00 PM</td><td>Kerala</td><td>3</td><td>0</td></tr><tr><th>5</th><td>5</td><td>03/02/20</td><td>6:00 PM</td><td>Kerala</td><td>3</td><td>0</td></tr><tr><th>6</th><td>6</td><td>04/02/20</td><td>6:00 PM</td><td>Kerala</td><td>3</td><td>0</td></tr><tr><th>7</th><td>7</td><td>05/02/20</td><td>6:00 PM</td><td>Kerala</td><td>3</td><td>0</td></tr><tr><th>8</th><td>8</td><td>06/02/20</td><td>6:00 PM</td><td>Kerala</td><td>3</td><td>0</td></tr><tr><th>9</th><td>9</td><td>07/02/20</td><td>6:00 PM</td><td>Kerala</td><td>3</td><td>0</td></tr><tr><th>10</th><td>10</td><td>08/02/20</td><td>6:00 PM</td><td>Kerala</td><td>3</td><td>0</td></tr><tr><th>11</th><td>11</td><td>09/02/20</td><td>6:00 PM</td><td>Kerala</td><td>3</td><td>0</td></tr><tr><th>12</th><td>12</td><td>10/02/20</td><td>6:00 PM</td><td>Kerala</td><td>3</td><td>0</td></tr><tr><th>13</th><td>13</td><td>11/02/20</td><td>6:00 PM</td><td>Kerala</td><td>3</td><td>0</td></tr><tr><th>14</th><td>14</td><td>12/02/20</td><td>6:00 PM</td><td>Kerala</td><td>3</td><td>0</td></tr><tr><th>15</th><td>15</td><td>13/02/20</td><td>6:00 PM</td><td>Kerala</td><td>3</td><td>0</td></tr><tr><th>16</th><td>16</td><td>14/02/20</td><td>6:00 PM</td><td>Kerala</td><td>3</td><td>0</td></tr><tr><th>17</th><td>17</td><td>15/02/20</td><td>6:00 PM</td><td>Kerala</td><td>3</td><td>0</td></tr><tr><th>18</th><td>18</td><td>16/02/20</td><td>6:00 PM</td><td>Kerala</td><td>3</td><td>0</td></tr><tr><th>19</th><td>19</td><td>17/02/20</td><td>6:00 PM</td><td>Kerala</td><td>3</td><td>0</td></tr><tr><th>20</th><td>20</td><td>18/02/20</td><td>6:00 PM</td><td>Kerala</td><td>3</td><td>0</td></tr><tr><th>21</th><td>21</td><td>19/02/20</td><td>6:00 PM</td><td>Kerala</td><td>3</td><td>0</td></tr><tr><th>22</th><td>22</td><td>20/02/20</td><td>6:00 PM</td><td>Kerala</td><td>3</td><td>0</td></tr><tr><th>23</th><td>23</td><td>21/02/20</td><td>6:00 PM</td><td>Kerala</td><td>3</td><td>0</td></tr><tr><th>24</th><td>24</td><td>22/02/20</td><td>6:00 PM</td><td>Kerala</td><td>3</td><td>0</td></tr><tr><th>25</th><td>25</td><td>23/02/20</td><td>6:00 PM</td><td>Kerala</td><td>3</td><td>0</td></tr><tr><th>26</th><td>26</td><td>24/02/20</td><td>6:00 PM</td><td>Kerala</td><td>3</td><td>0</td></tr><tr><th>27</th><td>27</td><td>25/02/20</td><td>6:00 PM</td><td>Kerala</td><td>3</td><td>0</td></tr><tr><th>28</th><td>28</td><td>26/02/20</td><td>6:00 PM</td><td>Kerala</td><td>3</td><td>0</td></tr><tr><th>29</th><td>29</td><td>27/02/20</td><td>6:00 PM</td><td>Kerala</td><td>3</td><td>0</td></tr><tr><th>30</th><td>30</td><td>28/02/20</td><td>6:00 PM</td><td>Kerala</td><td>3</td><td>0</td></tr><tr><th>&vellip;</th><td>&vellip;</td><td>&vellip;</td><td>&vellip;</td><td>&vellip;</td><td>&vellip;</td><td>&vellip;</td></tr></tbody></table><p>&vellip;</p><p><i>Last Group (13 rows): State = \"Telangana\"</i></p><table class=\"data-frame\"><thead><tr><th></th><th>Sno</th><th>Date</th><th>Time</th><th>State</th><th>ConfirmedIndianNational</th><th>ConfirmedForeignNational</th></tr><tr><th></th><th>Int64</th><th>String</th><th>String</th><th>String</th><th>String</th><th>String</th></tr></thead><tbody><tr><th>1</th><td>2950</td><td>12/06/20</td><td>8:00 AM</td><td>Telangana</td><td>-</td><td>-</td></tr><tr><th>2</th><td>2986</td><td>13/06/20</td><td>8:00 AM</td><td>Telangana</td><td>-</td><td>-</td></tr><tr><th>3</th><td>3022</td><td>14/06/20</td><td>8:00 AM</td><td>Telangana</td><td>-</td><td>-</td></tr><tr><th>4</th><td>3058</td><td>15/06/20</td><td>8:00 AM</td><td>Telangana</td><td>-</td><td>-</td></tr><tr><th>5</th><td>3094</td><td>16/06/20</td><td>8:00 AM</td><td>Telangana</td><td>-</td><td>-</td></tr><tr><th>6</th><td>3130</td><td>17/06/20</td><td>8:00 AM</td><td>Telangana</td><td>-</td><td>-</td></tr><tr><th>7</th><td>3166</td><td>18/06/20</td><td>8:00 AM</td><td>Telangana</td><td>-</td><td>-</td></tr><tr><th>8</th><td>3202</td><td>19/06/20</td><td>8:00 AM</td><td>Telangana</td><td>-</td><td>-</td></tr><tr><th>9</th><td>3238</td><td>20/06/20</td><td>8:00 AM</td><td>Telangana</td><td>-</td><td>-</td></tr><tr><th>10</th><td>3274</td><td>21/06/20</td><td>8:00 AM</td><td>Telangana</td><td>-</td><td>-</td></tr><tr><th>11</th><td>3310</td><td>22/06/20</td><td>8:00 AM</td><td>Telangana</td><td>-</td><td>-</td></tr><tr><th>12</th><td>3346</td><td>23/06/20</td><td>8:00 AM</td><td>Telangana</td><td>-</td><td>-</td></tr><tr><th>13</th><td>3382</td><td>24/06/20</td><td>8:00 AM</td><td>Telangana</td><td>-</td><td>-</td></tr></tbody></table>"
      ],
      "text/latex": [
       "GroupedDataFrame with 40 groups based on key: State\n",
       "\n",
       "First Group (147 rows): State = \"Kerala\"\n",
       "\n",
       "\\begin{tabular}{r|ccccccc}\n",
       "\t& Sno & Date & Time & State & ConfirmedIndianNational & ConfirmedForeignNational & \\\\\n",
       "\t\\hline\n",
       "\t& Int64 & String & String & String & String & String & \\\\\n",
       "\t\\hline\n",
       "\t1 & 1 & 30/01/20 & 6:00 PM & Kerala & 1 & 0 & $\\dots$ \\\\\n",
       "\t2 & 2 & 31/01/20 & 6:00 PM & Kerala & 1 & 0 & $\\dots$ \\\\\n",
       "\t3 & 3 & 01/02/20 & 6:00 PM & Kerala & 2 & 0 & $\\dots$ \\\\\n",
       "\t4 & 4 & 02/02/20 & 6:00 PM & Kerala & 3 & 0 & $\\dots$ \\\\\n",
       "\t5 & 5 & 03/02/20 & 6:00 PM & Kerala & 3 & 0 & $\\dots$ \\\\\n",
       "\t6 & 6 & 04/02/20 & 6:00 PM & Kerala & 3 & 0 & $\\dots$ \\\\\n",
       "\t7 & 7 & 05/02/20 & 6:00 PM & Kerala & 3 & 0 & $\\dots$ \\\\\n",
       "\t8 & 8 & 06/02/20 & 6:00 PM & Kerala & 3 & 0 & $\\dots$ \\\\\n",
       "\t9 & 9 & 07/02/20 & 6:00 PM & Kerala & 3 & 0 & $\\dots$ \\\\\n",
       "\t10 & 10 & 08/02/20 & 6:00 PM & Kerala & 3 & 0 & $\\dots$ \\\\\n",
       "\t11 & 11 & 09/02/20 & 6:00 PM & Kerala & 3 & 0 & $\\dots$ \\\\\n",
       "\t12 & 12 & 10/02/20 & 6:00 PM & Kerala & 3 & 0 & $\\dots$ \\\\\n",
       "\t13 & 13 & 11/02/20 & 6:00 PM & Kerala & 3 & 0 & $\\dots$ \\\\\n",
       "\t14 & 14 & 12/02/20 & 6:00 PM & Kerala & 3 & 0 & $\\dots$ \\\\\n",
       "\t15 & 15 & 13/02/20 & 6:00 PM & Kerala & 3 & 0 & $\\dots$ \\\\\n",
       "\t16 & 16 & 14/02/20 & 6:00 PM & Kerala & 3 & 0 & $\\dots$ \\\\\n",
       "\t17 & 17 & 15/02/20 & 6:00 PM & Kerala & 3 & 0 & $\\dots$ \\\\\n",
       "\t18 & 18 & 16/02/20 & 6:00 PM & Kerala & 3 & 0 & $\\dots$ \\\\\n",
       "\t19 & 19 & 17/02/20 & 6:00 PM & Kerala & 3 & 0 & $\\dots$ \\\\\n",
       "\t20 & 20 & 18/02/20 & 6:00 PM & Kerala & 3 & 0 & $\\dots$ \\\\\n",
       "\t21 & 21 & 19/02/20 & 6:00 PM & Kerala & 3 & 0 & $\\dots$ \\\\\n",
       "\t22 & 22 & 20/02/20 & 6:00 PM & Kerala & 3 & 0 & $\\dots$ \\\\\n",
       "\t23 & 23 & 21/02/20 & 6:00 PM & Kerala & 3 & 0 & $\\dots$ \\\\\n",
       "\t24 & 24 & 22/02/20 & 6:00 PM & Kerala & 3 & 0 & $\\dots$ \\\\\n",
       "\t25 & 25 & 23/02/20 & 6:00 PM & Kerala & 3 & 0 & $\\dots$ \\\\\n",
       "\t26 & 26 & 24/02/20 & 6:00 PM & Kerala & 3 & 0 & $\\dots$ \\\\\n",
       "\t27 & 27 & 25/02/20 & 6:00 PM & Kerala & 3 & 0 & $\\dots$ \\\\\n",
       "\t28 & 28 & 26/02/20 & 6:00 PM & Kerala & 3 & 0 & $\\dots$ \\\\\n",
       "\t29 & 29 & 27/02/20 & 6:00 PM & Kerala & 3 & 0 & $\\dots$ \\\\\n",
       "\t30 & 30 & 28/02/20 & 6:00 PM & Kerala & 3 & 0 & $\\dots$ \\\\\n",
       "\t$\\dots$ & $\\dots$ & $\\dots$ & $\\dots$ & $\\dots$ & $\\dots$ & $\\dots$ &  \\\\\n",
       "\\end{tabular}\n",
       "\n",
       "$\\dots$\n",
       "\n",
       "Last Group (13 rows): State = \"Telangana\"\n",
       "\n",
       "\\begin{tabular}{r|ccccccc}\n",
       "\t& Sno & Date & Time & State & ConfirmedIndianNational & ConfirmedForeignNational & \\\\\n",
       "\t\\hline\n",
       "\t& Int64 & String & String & String & String & String & \\\\\n",
       "\t\\hline\n",
       "\t1 & 2950 & 12/06/20 & 8:00 AM & Telangana & - & - & $\\dots$ \\\\\n",
       "\t2 & 2986 & 13/06/20 & 8:00 AM & Telangana & - & - & $\\dots$ \\\\\n",
       "\t3 & 3022 & 14/06/20 & 8:00 AM & Telangana & - & - & $\\dots$ \\\\\n",
       "\t4 & 3058 & 15/06/20 & 8:00 AM & Telangana & - & - & $\\dots$ \\\\\n",
       "\t5 & 3094 & 16/06/20 & 8:00 AM & Telangana & - & - & $\\dots$ \\\\\n",
       "\t6 & 3130 & 17/06/20 & 8:00 AM & Telangana & - & - & $\\dots$ \\\\\n",
       "\t7 & 3166 & 18/06/20 & 8:00 AM & Telangana & - & - & $\\dots$ \\\\\n",
       "\t8 & 3202 & 19/06/20 & 8:00 AM & Telangana & - & - & $\\dots$ \\\\\n",
       "\t9 & 3238 & 20/06/20 & 8:00 AM & Telangana & - & - & $\\dots$ \\\\\n",
       "\t10 & 3274 & 21/06/20 & 8:00 AM & Telangana & - & - & $\\dots$ \\\\\n",
       "\t11 & 3310 & 22/06/20 & 8:00 AM & Telangana & - & - & $\\dots$ \\\\\n",
       "\t12 & 3346 & 23/06/20 & 8:00 AM & Telangana & - & - & $\\dots$ \\\\\n",
       "\t13 & 3382 & 24/06/20 & 8:00 AM & Telangana & - & - & $\\dots$ \\\\\n",
       "\\end{tabular}\n"
      ],
      "text/plain": [
       "GroupedDataFrame with 40 groups based on key: State\n",
       "First Group (147 rows): State = \"Kerala\". Omitted printing of 4 columns\n",
       "│ Row │ Sno   │ Date     │ Time    │ State  │ ConfirmedIndianNational │\n",
       "│     │ \u001b[90mInt64\u001b[39m │ \u001b[90mString\u001b[39m   │ \u001b[90mString\u001b[39m  │ \u001b[90mString\u001b[39m │ \u001b[90mString\u001b[39m                  │\n",
       "├─────┼───────┼──────────┼─────────┼────────┼─────────────────────────┤\n",
       "│ 1   │ 1     │ 30/01/20 │ 6:00 PM │ Kerala │ 1                       │\n",
       "│ 2   │ 2     │ 31/01/20 │ 6:00 PM │ Kerala │ 1                       │\n",
       "│ 3   │ 3     │ 01/02/20 │ 6:00 PM │ Kerala │ 2                       │\n",
       "│ 4   │ 4     │ 02/02/20 │ 6:00 PM │ Kerala │ 3                       │\n",
       "│ 5   │ 5     │ 03/02/20 │ 6:00 PM │ Kerala │ 3                       │\n",
       "│ 6   │ 6     │ 04/02/20 │ 6:00 PM │ Kerala │ 3                       │\n",
       "│ 7   │ 7     │ 05/02/20 │ 6:00 PM │ Kerala │ 3                       │\n",
       "│ 8   │ 8     │ 06/02/20 │ 6:00 PM │ Kerala │ 3                       │\n",
       "│ 9   │ 9     │ 07/02/20 │ 6:00 PM │ Kerala │ 3                       │\n",
       "│ 10  │ 10    │ 08/02/20 │ 6:00 PM │ Kerala │ 3                       │\n",
       "⋮\n",
       "│ 137 │ 3008  │ 14/06/20 │ 8:00 AM │ Kerala │ -                       │\n",
       "│ 138 │ 3044  │ 15/06/20 │ 8:00 AM │ Kerala │ -                       │\n",
       "│ 139 │ 3080  │ 16/06/20 │ 8:00 AM │ Kerala │ -                       │\n",
       "│ 140 │ 3116  │ 17/06/20 │ 8:00 AM │ Kerala │ -                       │\n",
       "│ 141 │ 3152  │ 18/06/20 │ 8:00 AM │ Kerala │ -                       │\n",
       "│ 142 │ 3188  │ 19/06/20 │ 8:00 AM │ Kerala │ -                       │\n",
       "│ 143 │ 3224  │ 20/06/20 │ 8:00 AM │ Kerala │ -                       │\n",
       "│ 144 │ 3260  │ 21/06/20 │ 8:00 AM │ Kerala │ -                       │\n",
       "│ 145 │ 3296  │ 22/06/20 │ 8:00 AM │ Kerala │ -                       │\n",
       "│ 146 │ 3332  │ 23/06/20 │ 8:00 AM │ Kerala │ -                       │\n",
       "│ 147 │ 3368  │ 24/06/20 │ 8:00 AM │ Kerala │ -                       │\n",
       "⋮\n",
       "Last Group (13 rows): State = \"Telangana\". Omitted printing of 4 columns\n",
       "│ Row │ Sno   │ Date     │ Time    │ State     │ ConfirmedIndianNational │\n",
       "│     │ \u001b[90mInt64\u001b[39m │ \u001b[90mString\u001b[39m   │ \u001b[90mString\u001b[39m  │ \u001b[90mString\u001b[39m    │ \u001b[90mString\u001b[39m                  │\n",
       "├─────┼───────┼──────────┼─────────┼───────────┼─────────────────────────┤\n",
       "│ 1   │ 2950  │ 12/06/20 │ 8:00 AM │ Telangana │ -                       │\n",
       "│ 2   │ 2986  │ 13/06/20 │ 8:00 AM │ Telangana │ -                       │\n",
       "│ 3   │ 3022  │ 14/06/20 │ 8:00 AM │ Telangana │ -                       │\n",
       "│ 4   │ 3058  │ 15/06/20 │ 8:00 AM │ Telangana │ -                       │\n",
       "│ 5   │ 3094  │ 16/06/20 │ 8:00 AM │ Telangana │ -                       │\n",
       "│ 6   │ 3130  │ 17/06/20 │ 8:00 AM │ Telangana │ -                       │\n",
       "│ 7   │ 3166  │ 18/06/20 │ 8:00 AM │ Telangana │ -                       │\n",
       "│ 8   │ 3202  │ 19/06/20 │ 8:00 AM │ Telangana │ -                       │\n",
       "│ 9   │ 3238  │ 20/06/20 │ 8:00 AM │ Telangana │ -                       │\n",
       "│ 10  │ 3274  │ 21/06/20 │ 8:00 AM │ Telangana │ -                       │\n",
       "│ 11  │ 3310  │ 22/06/20 │ 8:00 AM │ Telangana │ -                       │\n",
       "│ 12  │ 3346  │ 23/06/20 │ 8:00 AM │ Telangana │ -                       │\n",
       "│ 13  │ 3382  │ 24/06/20 │ 8:00 AM │ Telangana │ -                       │"
      ]
     },
     "execution_count": 49,
     "metadata": {},
     "output_type": "execute_result"
    }
   ],
   "source": [
    "gdf = groupby(new_df, :State)"
   ]
  },
  {
   "cell_type": "code",
   "execution_count": 50,
   "metadata": {},
   "outputs": [
    {
     "data": {
      "text/html": [
       "<table class=\"data-frame\"><thead><tr><th></th><th>Sno</th><th>Date</th><th>Time</th><th>State</th><th>ConfirmedIndianNational</th><th>ConfirmedForeignNational</th></tr><tr><th></th><th>Int64</th><th>String</th><th>String</th><th>String</th><th>String</th><th>String</th></tr></thead><tbody><p>147 rows × 9 columns (omitted printing of 3 columns)</p><tr><th>1</th><td>1</td><td>30/01/20</td><td>6:00 PM</td><td>Kerala</td><td>1</td><td>0</td></tr><tr><th>2</th><td>2</td><td>31/01/20</td><td>6:00 PM</td><td>Kerala</td><td>1</td><td>0</td></tr><tr><th>3</th><td>3</td><td>01/02/20</td><td>6:00 PM</td><td>Kerala</td><td>2</td><td>0</td></tr><tr><th>4</th><td>4</td><td>02/02/20</td><td>6:00 PM</td><td>Kerala</td><td>3</td><td>0</td></tr><tr><th>5</th><td>5</td><td>03/02/20</td><td>6:00 PM</td><td>Kerala</td><td>3</td><td>0</td></tr><tr><th>6</th><td>6</td><td>04/02/20</td><td>6:00 PM</td><td>Kerala</td><td>3</td><td>0</td></tr><tr><th>7</th><td>7</td><td>05/02/20</td><td>6:00 PM</td><td>Kerala</td><td>3</td><td>0</td></tr><tr><th>8</th><td>8</td><td>06/02/20</td><td>6:00 PM</td><td>Kerala</td><td>3</td><td>0</td></tr><tr><th>9</th><td>9</td><td>07/02/20</td><td>6:00 PM</td><td>Kerala</td><td>3</td><td>0</td></tr><tr><th>10</th><td>10</td><td>08/02/20</td><td>6:00 PM</td><td>Kerala</td><td>3</td><td>0</td></tr><tr><th>11</th><td>11</td><td>09/02/20</td><td>6:00 PM</td><td>Kerala</td><td>3</td><td>0</td></tr><tr><th>12</th><td>12</td><td>10/02/20</td><td>6:00 PM</td><td>Kerala</td><td>3</td><td>0</td></tr><tr><th>13</th><td>13</td><td>11/02/20</td><td>6:00 PM</td><td>Kerala</td><td>3</td><td>0</td></tr><tr><th>14</th><td>14</td><td>12/02/20</td><td>6:00 PM</td><td>Kerala</td><td>3</td><td>0</td></tr><tr><th>15</th><td>15</td><td>13/02/20</td><td>6:00 PM</td><td>Kerala</td><td>3</td><td>0</td></tr><tr><th>16</th><td>16</td><td>14/02/20</td><td>6:00 PM</td><td>Kerala</td><td>3</td><td>0</td></tr><tr><th>17</th><td>17</td><td>15/02/20</td><td>6:00 PM</td><td>Kerala</td><td>3</td><td>0</td></tr><tr><th>18</th><td>18</td><td>16/02/20</td><td>6:00 PM</td><td>Kerala</td><td>3</td><td>0</td></tr><tr><th>19</th><td>19</td><td>17/02/20</td><td>6:00 PM</td><td>Kerala</td><td>3</td><td>0</td></tr><tr><th>20</th><td>20</td><td>18/02/20</td><td>6:00 PM</td><td>Kerala</td><td>3</td><td>0</td></tr><tr><th>21</th><td>21</td><td>19/02/20</td><td>6:00 PM</td><td>Kerala</td><td>3</td><td>0</td></tr><tr><th>22</th><td>22</td><td>20/02/20</td><td>6:00 PM</td><td>Kerala</td><td>3</td><td>0</td></tr><tr><th>23</th><td>23</td><td>21/02/20</td><td>6:00 PM</td><td>Kerala</td><td>3</td><td>0</td></tr><tr><th>24</th><td>24</td><td>22/02/20</td><td>6:00 PM</td><td>Kerala</td><td>3</td><td>0</td></tr><tr><th>25</th><td>25</td><td>23/02/20</td><td>6:00 PM</td><td>Kerala</td><td>3</td><td>0</td></tr><tr><th>26</th><td>26</td><td>24/02/20</td><td>6:00 PM</td><td>Kerala</td><td>3</td><td>0</td></tr><tr><th>27</th><td>27</td><td>25/02/20</td><td>6:00 PM</td><td>Kerala</td><td>3</td><td>0</td></tr><tr><th>28</th><td>28</td><td>26/02/20</td><td>6:00 PM</td><td>Kerala</td><td>3</td><td>0</td></tr><tr><th>29</th><td>29</td><td>27/02/20</td><td>6:00 PM</td><td>Kerala</td><td>3</td><td>0</td></tr><tr><th>30</th><td>30</td><td>28/02/20</td><td>6:00 PM</td><td>Kerala</td><td>3</td><td>0</td></tr><tr><th>&vellip;</th><td>&vellip;</td><td>&vellip;</td><td>&vellip;</td><td>&vellip;</td><td>&vellip;</td><td>&vellip;</td></tr></tbody></table>"
      ],
      "text/latex": [
       "\\begin{tabular}{r|ccccccc}\n",
       "\t& Sno & Date & Time & State & ConfirmedIndianNational & ConfirmedForeignNational & \\\\\n",
       "\t\\hline\n",
       "\t& Int64 & String & String & String & String & String & \\\\\n",
       "\t\\hline\n",
       "\t1 & 1 & 30/01/20 & 6:00 PM & Kerala & 1 & 0 & $\\dots$ \\\\\n",
       "\t2 & 2 & 31/01/20 & 6:00 PM & Kerala & 1 & 0 & $\\dots$ \\\\\n",
       "\t3 & 3 & 01/02/20 & 6:00 PM & Kerala & 2 & 0 & $\\dots$ \\\\\n",
       "\t4 & 4 & 02/02/20 & 6:00 PM & Kerala & 3 & 0 & $\\dots$ \\\\\n",
       "\t5 & 5 & 03/02/20 & 6:00 PM & Kerala & 3 & 0 & $\\dots$ \\\\\n",
       "\t6 & 6 & 04/02/20 & 6:00 PM & Kerala & 3 & 0 & $\\dots$ \\\\\n",
       "\t7 & 7 & 05/02/20 & 6:00 PM & Kerala & 3 & 0 & $\\dots$ \\\\\n",
       "\t8 & 8 & 06/02/20 & 6:00 PM & Kerala & 3 & 0 & $\\dots$ \\\\\n",
       "\t9 & 9 & 07/02/20 & 6:00 PM & Kerala & 3 & 0 & $\\dots$ \\\\\n",
       "\t10 & 10 & 08/02/20 & 6:00 PM & Kerala & 3 & 0 & $\\dots$ \\\\\n",
       "\t11 & 11 & 09/02/20 & 6:00 PM & Kerala & 3 & 0 & $\\dots$ \\\\\n",
       "\t12 & 12 & 10/02/20 & 6:00 PM & Kerala & 3 & 0 & $\\dots$ \\\\\n",
       "\t13 & 13 & 11/02/20 & 6:00 PM & Kerala & 3 & 0 & $\\dots$ \\\\\n",
       "\t14 & 14 & 12/02/20 & 6:00 PM & Kerala & 3 & 0 & $\\dots$ \\\\\n",
       "\t15 & 15 & 13/02/20 & 6:00 PM & Kerala & 3 & 0 & $\\dots$ \\\\\n",
       "\t16 & 16 & 14/02/20 & 6:00 PM & Kerala & 3 & 0 & $\\dots$ \\\\\n",
       "\t17 & 17 & 15/02/20 & 6:00 PM & Kerala & 3 & 0 & $\\dots$ \\\\\n",
       "\t18 & 18 & 16/02/20 & 6:00 PM & Kerala & 3 & 0 & $\\dots$ \\\\\n",
       "\t19 & 19 & 17/02/20 & 6:00 PM & Kerala & 3 & 0 & $\\dots$ \\\\\n",
       "\t20 & 20 & 18/02/20 & 6:00 PM & Kerala & 3 & 0 & $\\dots$ \\\\\n",
       "\t21 & 21 & 19/02/20 & 6:00 PM & Kerala & 3 & 0 & $\\dots$ \\\\\n",
       "\t22 & 22 & 20/02/20 & 6:00 PM & Kerala & 3 & 0 & $\\dots$ \\\\\n",
       "\t23 & 23 & 21/02/20 & 6:00 PM & Kerala & 3 & 0 & $\\dots$ \\\\\n",
       "\t24 & 24 & 22/02/20 & 6:00 PM & Kerala & 3 & 0 & $\\dots$ \\\\\n",
       "\t25 & 25 & 23/02/20 & 6:00 PM & Kerala & 3 & 0 & $\\dots$ \\\\\n",
       "\t26 & 26 & 24/02/20 & 6:00 PM & Kerala & 3 & 0 & $\\dots$ \\\\\n",
       "\t27 & 27 & 25/02/20 & 6:00 PM & Kerala & 3 & 0 & $\\dots$ \\\\\n",
       "\t28 & 28 & 26/02/20 & 6:00 PM & Kerala & 3 & 0 & $\\dots$ \\\\\n",
       "\t29 & 29 & 27/02/20 & 6:00 PM & Kerala & 3 & 0 & $\\dots$ \\\\\n",
       "\t30 & 30 & 28/02/20 & 6:00 PM & Kerala & 3 & 0 & $\\dots$ \\\\\n",
       "\t$\\dots$ & $\\dots$ & $\\dots$ & $\\dots$ & $\\dots$ & $\\dots$ & $\\dots$ &  \\\\\n",
       "\\end{tabular}\n"
      ],
      "text/plain": [
       "147×9 SubDataFrame. Omitted printing of 4 columns\n",
       "│ Row │ Sno   │ Date     │ Time    │ State  │ ConfirmedIndianNational │\n",
       "│     │ \u001b[90mInt64\u001b[39m │ \u001b[90mString\u001b[39m   │ \u001b[90mString\u001b[39m  │ \u001b[90mString\u001b[39m │ \u001b[90mString\u001b[39m                  │\n",
       "├─────┼───────┼──────────┼─────────┼────────┼─────────────────────────┤\n",
       "│ 1   │ 1     │ 30/01/20 │ 6:00 PM │ Kerala │ 1                       │\n",
       "│ 2   │ 2     │ 31/01/20 │ 6:00 PM │ Kerala │ 1                       │\n",
       "│ 3   │ 3     │ 01/02/20 │ 6:00 PM │ Kerala │ 2                       │\n",
       "│ 4   │ 4     │ 02/02/20 │ 6:00 PM │ Kerala │ 3                       │\n",
       "│ 5   │ 5     │ 03/02/20 │ 6:00 PM │ Kerala │ 3                       │\n",
       "│ 6   │ 6     │ 04/02/20 │ 6:00 PM │ Kerala │ 3                       │\n",
       "│ 7   │ 7     │ 05/02/20 │ 6:00 PM │ Kerala │ 3                       │\n",
       "│ 8   │ 8     │ 06/02/20 │ 6:00 PM │ Kerala │ 3                       │\n",
       "│ 9   │ 9     │ 07/02/20 │ 6:00 PM │ Kerala │ 3                       │\n",
       "│ 10  │ 10    │ 08/02/20 │ 6:00 PM │ Kerala │ 3                       │\n",
       "⋮\n",
       "│ 137 │ 3008  │ 14/06/20 │ 8:00 AM │ Kerala │ -                       │\n",
       "│ 138 │ 3044  │ 15/06/20 │ 8:00 AM │ Kerala │ -                       │\n",
       "│ 139 │ 3080  │ 16/06/20 │ 8:00 AM │ Kerala │ -                       │\n",
       "│ 140 │ 3116  │ 17/06/20 │ 8:00 AM │ Kerala │ -                       │\n",
       "│ 141 │ 3152  │ 18/06/20 │ 8:00 AM │ Kerala │ -                       │\n",
       "│ 142 │ 3188  │ 19/06/20 │ 8:00 AM │ Kerala │ -                       │\n",
       "│ 143 │ 3224  │ 20/06/20 │ 8:00 AM │ Kerala │ -                       │\n",
       "│ 144 │ 3260  │ 21/06/20 │ 8:00 AM │ Kerala │ -                       │\n",
       "│ 145 │ 3296  │ 22/06/20 │ 8:00 AM │ Kerala │ -                       │\n",
       "│ 146 │ 3332  │ 23/06/20 │ 8:00 AM │ Kerala │ -                       │\n",
       "│ 147 │ 3368  │ 24/06/20 │ 8:00 AM │ Kerala │ -                       │"
      ]
     },
     "execution_count": 50,
     "metadata": {},
     "output_type": "execute_result"
    }
   ],
   "source": [
    "gdf[(\"Kerala\", )]"
   ]
  },
  {
   "cell_type": "code",
   "execution_count": 51,
   "metadata": {},
   "outputs": [
    {
     "data": {
      "text/html": [
       "<table class=\"data-frame\"><thead><tr><th></th><th>variable</th><th>mean</th><th>min</th><th>median</th><th>max</th></tr><tr><th></th><th>Symbol</th><th>Union…</th><th>Any</th><th>Union…</th><th>Any</th></tr></thead><tbody><p>9 rows × 8 columns (omitted printing of 3 columns)</p><tr><th>1</th><td>Sno</td><td>1694.0</td><td>1</td><td>1694.0</td><td>3387</td></tr><tr><th>2</th><td>Date</td><td></td><td>01/02/20</td><td></td><td>31/05/20</td></tr><tr><th>3</th><td>Time</td><td></td><td>10:00 AM</td><td></td><td>9:30 PM</td></tr><tr><th>4</th><td>State</td><td></td><td>Andaman and Nicobar Islands</td><td></td><td>West Bengal</td></tr><tr><th>5</th><td>ConfirmedIndianNational</td><td></td><td>-</td><td></td><td>9</td></tr><tr><th>6</th><td>ConfirmedForeignNational</td><td></td><td>-</td><td></td><td>9</td></tr><tr><th>7</th><td>Cured</td><td>1493.67</td><td>0</td><td>35.0</td><td>69631</td></tr><tr><th>8</th><td>Deaths</td><td>96.7384</td><td>0</td><td>1.0</td><td>6531</td></tr><tr><th>9</th><td>Confirmed</td><td>3192.31</td><td>0</td><td>163.0</td><td>139010</td></tr></tbody></table>"
      ],
      "text/latex": [
       "\\begin{tabular}{r|cccccc}\n",
       "\t& variable & mean & min & median & max & \\\\\n",
       "\t\\hline\n",
       "\t& Symbol & Union… & Any & Union… & Any & \\\\\n",
       "\t\\hline\n",
       "\t1 & Sno & 1694.0 & 1 & 1694.0 & 3387 & $\\dots$ \\\\\n",
       "\t2 & Date &  & 01/02/20 &  & 31/05/20 & $\\dots$ \\\\\n",
       "\t3 & Time &  & 10:00 AM &  & 9:30 PM & $\\dots$ \\\\\n",
       "\t4 & State &  & Andaman and Nicobar Islands &  & West Bengal & $\\dots$ \\\\\n",
       "\t5 & ConfirmedIndianNational &  & - &  & 9 & $\\dots$ \\\\\n",
       "\t6 & ConfirmedForeignNational &  & - &  & 9 & $\\dots$ \\\\\n",
       "\t7 & Cured & 1493.67 & 0 & 35.0 & 69631 & $\\dots$ \\\\\n",
       "\t8 & Deaths & 96.7384 & 0 & 1.0 & 6531 & $\\dots$ \\\\\n",
       "\t9 & Confirmed & 3192.31 & 0 & 163.0 & 139010 & $\\dots$ \\\\\n",
       "\\end{tabular}\n"
      ],
      "text/plain": [
       "9×8 DataFrame. Omitted printing of 5 columns\n",
       "│ Row │ variable                 │ mean    │ min                         │\n",
       "│     │ \u001b[90mSymbol\u001b[39m                   │ \u001b[90mUnion…\u001b[39m  │ \u001b[90mAny\u001b[39m                         │\n",
       "├─────┼──────────────────────────┼─────────┼─────────────────────────────┤\n",
       "│ 1   │ Sno                      │ 1694.0  │ 1                           │\n",
       "│ 2   │ Date                     │         │ 01/02/20                    │\n",
       "│ 3   │ Time                     │         │ 10:00 AM                    │\n",
       "│ 4   │ State                    │         │ Andaman and Nicobar Islands │\n",
       "│ 5   │ ConfirmedIndianNational  │         │ -                           │\n",
       "│ 6   │ ConfirmedForeignNational │         │ -                           │\n",
       "│ 7   │ Cured                    │ 1493.67 │ 0                           │\n",
       "│ 8   │ Deaths                   │ 96.7384 │ 0                           │\n",
       "│ 9   │ Confirmed                │ 3192.31 │ 0                           │"
      ]
     },
     "execution_count": 51,
     "metadata": {},
     "output_type": "execute_result"
    }
   ],
   "source": [
    "describe(new_df)"
   ]
  },
  {
   "cell_type": "markdown",
   "metadata": {},
   "source": [
    "#### Drop a column"
   ]
  },
  {
   "cell_type": "code",
   "execution_count": 52,
   "metadata": {},
   "outputs": [
    {
     "data": {
      "text/html": [
       "<table class=\"data-frame\"><thead><tr><th></th><th>Sno</th><th>Date</th><th>State</th><th>ConfirmedIndianNational</th><th>ConfirmedForeignNational</th><th>Cured</th></tr><tr><th></th><th>Int64</th><th>String</th><th>String</th><th>String</th><th>String</th><th>Int64</th></tr></thead><tbody><p>3,387 rows × 8 columns (omitted printing of 2 columns)</p><tr><th>1</th><td>1</td><td>30/01/20</td><td>Kerala</td><td>1</td><td>0</td><td>0</td></tr><tr><th>2</th><td>2</td><td>31/01/20</td><td>Kerala</td><td>1</td><td>0</td><td>0</td></tr><tr><th>3</th><td>3</td><td>01/02/20</td><td>Kerala</td><td>2</td><td>0</td><td>0</td></tr><tr><th>4</th><td>4</td><td>02/02/20</td><td>Kerala</td><td>3</td><td>0</td><td>0</td></tr><tr><th>5</th><td>5</td><td>03/02/20</td><td>Kerala</td><td>3</td><td>0</td><td>0</td></tr><tr><th>6</th><td>6</td><td>04/02/20</td><td>Kerala</td><td>3</td><td>0</td><td>0</td></tr><tr><th>7</th><td>7</td><td>05/02/20</td><td>Kerala</td><td>3</td><td>0</td><td>0</td></tr><tr><th>8</th><td>8</td><td>06/02/20</td><td>Kerala</td><td>3</td><td>0</td><td>0</td></tr><tr><th>9</th><td>9</td><td>07/02/20</td><td>Kerala</td><td>3</td><td>0</td><td>0</td></tr><tr><th>10</th><td>10</td><td>08/02/20</td><td>Kerala</td><td>3</td><td>0</td><td>0</td></tr><tr><th>11</th><td>11</td><td>09/02/20</td><td>Kerala</td><td>3</td><td>0</td><td>0</td></tr><tr><th>12</th><td>12</td><td>10/02/20</td><td>Kerala</td><td>3</td><td>0</td><td>0</td></tr><tr><th>13</th><td>13</td><td>11/02/20</td><td>Kerala</td><td>3</td><td>0</td><td>0</td></tr><tr><th>14</th><td>14</td><td>12/02/20</td><td>Kerala</td><td>3</td><td>0</td><td>0</td></tr><tr><th>15</th><td>15</td><td>13/02/20</td><td>Kerala</td><td>3</td><td>0</td><td>0</td></tr><tr><th>16</th><td>16</td><td>14/02/20</td><td>Kerala</td><td>3</td><td>0</td><td>0</td></tr><tr><th>17</th><td>17</td><td>15/02/20</td><td>Kerala</td><td>3</td><td>0</td><td>0</td></tr><tr><th>18</th><td>18</td><td>16/02/20</td><td>Kerala</td><td>3</td><td>0</td><td>0</td></tr><tr><th>19</th><td>19</td><td>17/02/20</td><td>Kerala</td><td>3</td><td>0</td><td>0</td></tr><tr><th>20</th><td>20</td><td>18/02/20</td><td>Kerala</td><td>3</td><td>0</td><td>0</td></tr><tr><th>21</th><td>21</td><td>19/02/20</td><td>Kerala</td><td>3</td><td>0</td><td>0</td></tr><tr><th>22</th><td>22</td><td>20/02/20</td><td>Kerala</td><td>3</td><td>0</td><td>0</td></tr><tr><th>23</th><td>23</td><td>21/02/20</td><td>Kerala</td><td>3</td><td>0</td><td>0</td></tr><tr><th>24</th><td>24</td><td>22/02/20</td><td>Kerala</td><td>3</td><td>0</td><td>0</td></tr><tr><th>25</th><td>25</td><td>23/02/20</td><td>Kerala</td><td>3</td><td>0</td><td>0</td></tr><tr><th>26</th><td>26</td><td>24/02/20</td><td>Kerala</td><td>3</td><td>0</td><td>0</td></tr><tr><th>27</th><td>27</td><td>25/02/20</td><td>Kerala</td><td>3</td><td>0</td><td>0</td></tr><tr><th>28</th><td>28</td><td>26/02/20</td><td>Kerala</td><td>3</td><td>0</td><td>0</td></tr><tr><th>29</th><td>29</td><td>27/02/20</td><td>Kerala</td><td>3</td><td>0</td><td>0</td></tr><tr><th>30</th><td>30</td><td>28/02/20</td><td>Kerala</td><td>3</td><td>0</td><td>0</td></tr><tr><th>&vellip;</th><td>&vellip;</td><td>&vellip;</td><td>&vellip;</td><td>&vellip;</td><td>&vellip;</td><td>&vellip;</td></tr></tbody></table>"
      ],
      "text/latex": [
       "\\begin{tabular}{r|ccccccc}\n",
       "\t& Sno & Date & State & ConfirmedIndianNational & ConfirmedForeignNational & Cured & \\\\\n",
       "\t\\hline\n",
       "\t& Int64 & String & String & String & String & Int64 & \\\\\n",
       "\t\\hline\n",
       "\t1 & 1 & 30/01/20 & Kerala & 1 & 0 & 0 & $\\dots$ \\\\\n",
       "\t2 & 2 & 31/01/20 & Kerala & 1 & 0 & 0 & $\\dots$ \\\\\n",
       "\t3 & 3 & 01/02/20 & Kerala & 2 & 0 & 0 & $\\dots$ \\\\\n",
       "\t4 & 4 & 02/02/20 & Kerala & 3 & 0 & 0 & $\\dots$ \\\\\n",
       "\t5 & 5 & 03/02/20 & Kerala & 3 & 0 & 0 & $\\dots$ \\\\\n",
       "\t6 & 6 & 04/02/20 & Kerala & 3 & 0 & 0 & $\\dots$ \\\\\n",
       "\t7 & 7 & 05/02/20 & Kerala & 3 & 0 & 0 & $\\dots$ \\\\\n",
       "\t8 & 8 & 06/02/20 & Kerala & 3 & 0 & 0 & $\\dots$ \\\\\n",
       "\t9 & 9 & 07/02/20 & Kerala & 3 & 0 & 0 & $\\dots$ \\\\\n",
       "\t10 & 10 & 08/02/20 & Kerala & 3 & 0 & 0 & $\\dots$ \\\\\n",
       "\t11 & 11 & 09/02/20 & Kerala & 3 & 0 & 0 & $\\dots$ \\\\\n",
       "\t12 & 12 & 10/02/20 & Kerala & 3 & 0 & 0 & $\\dots$ \\\\\n",
       "\t13 & 13 & 11/02/20 & Kerala & 3 & 0 & 0 & $\\dots$ \\\\\n",
       "\t14 & 14 & 12/02/20 & Kerala & 3 & 0 & 0 & $\\dots$ \\\\\n",
       "\t15 & 15 & 13/02/20 & Kerala & 3 & 0 & 0 & $\\dots$ \\\\\n",
       "\t16 & 16 & 14/02/20 & Kerala & 3 & 0 & 0 & $\\dots$ \\\\\n",
       "\t17 & 17 & 15/02/20 & Kerala & 3 & 0 & 0 & $\\dots$ \\\\\n",
       "\t18 & 18 & 16/02/20 & Kerala & 3 & 0 & 0 & $\\dots$ \\\\\n",
       "\t19 & 19 & 17/02/20 & Kerala & 3 & 0 & 0 & $\\dots$ \\\\\n",
       "\t20 & 20 & 18/02/20 & Kerala & 3 & 0 & 0 & $\\dots$ \\\\\n",
       "\t21 & 21 & 19/02/20 & Kerala & 3 & 0 & 0 & $\\dots$ \\\\\n",
       "\t22 & 22 & 20/02/20 & Kerala & 3 & 0 & 0 & $\\dots$ \\\\\n",
       "\t23 & 23 & 21/02/20 & Kerala & 3 & 0 & 0 & $\\dots$ \\\\\n",
       "\t24 & 24 & 22/02/20 & Kerala & 3 & 0 & 0 & $\\dots$ \\\\\n",
       "\t25 & 25 & 23/02/20 & Kerala & 3 & 0 & 0 & $\\dots$ \\\\\n",
       "\t26 & 26 & 24/02/20 & Kerala & 3 & 0 & 0 & $\\dots$ \\\\\n",
       "\t27 & 27 & 25/02/20 & Kerala & 3 & 0 & 0 & $\\dots$ \\\\\n",
       "\t28 & 28 & 26/02/20 & Kerala & 3 & 0 & 0 & $\\dots$ \\\\\n",
       "\t29 & 29 & 27/02/20 & Kerala & 3 & 0 & 0 & $\\dots$ \\\\\n",
       "\t30 & 30 & 28/02/20 & Kerala & 3 & 0 & 0 & $\\dots$ \\\\\n",
       "\t$\\dots$ & $\\dots$ & $\\dots$ & $\\dots$ & $\\dots$ & $\\dots$ & $\\dots$ &  \\\\\n",
       "\\end{tabular}\n"
      ],
      "text/plain": [
       "3387×8 DataFrame. Omitted printing of 5 columns\n",
       "│ Row  │ Sno   │ Date     │ State                            │\n",
       "│      │ \u001b[90mInt64\u001b[39m │ \u001b[90mString\u001b[39m   │ \u001b[90mString\u001b[39m                           │\n",
       "├──────┼───────┼──────────┼──────────────────────────────────┤\n",
       "│ 1    │ 1     │ 30/01/20 │ Kerala                           │\n",
       "│ 2    │ 2     │ 31/01/20 │ Kerala                           │\n",
       "│ 3    │ 3     │ 01/02/20 │ Kerala                           │\n",
       "│ 4    │ 4     │ 02/02/20 │ Kerala                           │\n",
       "│ 5    │ 5     │ 03/02/20 │ Kerala                           │\n",
       "│ 6    │ 6     │ 04/02/20 │ Kerala                           │\n",
       "│ 7    │ 7     │ 05/02/20 │ Kerala                           │\n",
       "│ 8    │ 8     │ 06/02/20 │ Kerala                           │\n",
       "│ 9    │ 9     │ 07/02/20 │ Kerala                           │\n",
       "│ 10   │ 10    │ 08/02/20 │ Kerala                           │\n",
       "⋮\n",
       "│ 3377 │ 3377  │ 24/06/20 │ Puducherry                       │\n",
       "│ 3378 │ 3378  │ 24/06/20 │ Punjab                           │\n",
       "│ 3379 │ 3379  │ 24/06/20 │ Rajasthan                        │\n",
       "│ 3380 │ 3380  │ 24/06/20 │ Sikkim                           │\n",
       "│ 3381 │ 3381  │ 24/06/20 │ Tamil Nadu                       │\n",
       "│ 3382 │ 3382  │ 24/06/20 │ Telangana                        │\n",
       "│ 3383 │ 3383  │ 24/06/20 │ Tripura                          │\n",
       "│ 3384 │ 3384  │ 24/06/20 │ Uttarakhand                      │\n",
       "│ 3385 │ 3385  │ 24/06/20 │ Uttar Pradesh                    │\n",
       "│ 3386 │ 3386  │ 24/06/20 │ West Bengal                      │\n",
       "│ 3387 │ 3387  │ 24/06/20 │ Cases being reassigned to states │"
      ]
     },
     "execution_count": 52,
     "metadata": {},
     "output_type": "execute_result"
    }
   ],
   "source": [
    "select!(new_df, Not(:Time))"
   ]
  },
  {
   "cell_type": "code",
   "execution_count": 53,
   "metadata": {},
   "outputs": [
    {
     "data": {
      "text/html": [
       "<table class=\"data-frame\"><thead><tr><th></th><th>Sno</th><th>Date</th><th>State</th><th>ConfirmedForeignNational</th><th>Cured</th><th>Deaths</th><th>Confirmed</th></tr><tr><th></th><th>Int64</th><th>String</th><th>String</th><th>String</th><th>Int64</th><th>Int64</th><th>Int64</th></tr></thead><tbody><p>3,387 rows × 7 columns</p><tr><th>1</th><td>1</td><td>30/01/20</td><td>Kerala</td><td>0</td><td>0</td><td>0</td><td>1</td></tr><tr><th>2</th><td>2</td><td>31/01/20</td><td>Kerala</td><td>0</td><td>0</td><td>0</td><td>1</td></tr><tr><th>3</th><td>3</td><td>01/02/20</td><td>Kerala</td><td>0</td><td>0</td><td>0</td><td>2</td></tr><tr><th>4</th><td>4</td><td>02/02/20</td><td>Kerala</td><td>0</td><td>0</td><td>0</td><td>3</td></tr><tr><th>5</th><td>5</td><td>03/02/20</td><td>Kerala</td><td>0</td><td>0</td><td>0</td><td>3</td></tr><tr><th>6</th><td>6</td><td>04/02/20</td><td>Kerala</td><td>0</td><td>0</td><td>0</td><td>3</td></tr><tr><th>7</th><td>7</td><td>05/02/20</td><td>Kerala</td><td>0</td><td>0</td><td>0</td><td>3</td></tr><tr><th>8</th><td>8</td><td>06/02/20</td><td>Kerala</td><td>0</td><td>0</td><td>0</td><td>3</td></tr><tr><th>9</th><td>9</td><td>07/02/20</td><td>Kerala</td><td>0</td><td>0</td><td>0</td><td>3</td></tr><tr><th>10</th><td>10</td><td>08/02/20</td><td>Kerala</td><td>0</td><td>0</td><td>0</td><td>3</td></tr><tr><th>11</th><td>11</td><td>09/02/20</td><td>Kerala</td><td>0</td><td>0</td><td>0</td><td>3</td></tr><tr><th>12</th><td>12</td><td>10/02/20</td><td>Kerala</td><td>0</td><td>0</td><td>0</td><td>3</td></tr><tr><th>13</th><td>13</td><td>11/02/20</td><td>Kerala</td><td>0</td><td>0</td><td>0</td><td>3</td></tr><tr><th>14</th><td>14</td><td>12/02/20</td><td>Kerala</td><td>0</td><td>0</td><td>0</td><td>3</td></tr><tr><th>15</th><td>15</td><td>13/02/20</td><td>Kerala</td><td>0</td><td>0</td><td>0</td><td>3</td></tr><tr><th>16</th><td>16</td><td>14/02/20</td><td>Kerala</td><td>0</td><td>0</td><td>0</td><td>3</td></tr><tr><th>17</th><td>17</td><td>15/02/20</td><td>Kerala</td><td>0</td><td>0</td><td>0</td><td>3</td></tr><tr><th>18</th><td>18</td><td>16/02/20</td><td>Kerala</td><td>0</td><td>0</td><td>0</td><td>3</td></tr><tr><th>19</th><td>19</td><td>17/02/20</td><td>Kerala</td><td>0</td><td>0</td><td>0</td><td>3</td></tr><tr><th>20</th><td>20</td><td>18/02/20</td><td>Kerala</td><td>0</td><td>0</td><td>0</td><td>3</td></tr><tr><th>21</th><td>21</td><td>19/02/20</td><td>Kerala</td><td>0</td><td>0</td><td>0</td><td>3</td></tr><tr><th>22</th><td>22</td><td>20/02/20</td><td>Kerala</td><td>0</td><td>0</td><td>0</td><td>3</td></tr><tr><th>23</th><td>23</td><td>21/02/20</td><td>Kerala</td><td>0</td><td>0</td><td>0</td><td>3</td></tr><tr><th>24</th><td>24</td><td>22/02/20</td><td>Kerala</td><td>0</td><td>0</td><td>0</td><td>3</td></tr><tr><th>25</th><td>25</td><td>23/02/20</td><td>Kerala</td><td>0</td><td>0</td><td>0</td><td>3</td></tr><tr><th>26</th><td>26</td><td>24/02/20</td><td>Kerala</td><td>0</td><td>0</td><td>0</td><td>3</td></tr><tr><th>27</th><td>27</td><td>25/02/20</td><td>Kerala</td><td>0</td><td>0</td><td>0</td><td>3</td></tr><tr><th>28</th><td>28</td><td>26/02/20</td><td>Kerala</td><td>0</td><td>0</td><td>0</td><td>3</td></tr><tr><th>29</th><td>29</td><td>27/02/20</td><td>Kerala</td><td>0</td><td>0</td><td>0</td><td>3</td></tr><tr><th>30</th><td>30</td><td>28/02/20</td><td>Kerala</td><td>0</td><td>0</td><td>0</td><td>3</td></tr><tr><th>&vellip;</th><td>&vellip;</td><td>&vellip;</td><td>&vellip;</td><td>&vellip;</td><td>&vellip;</td><td>&vellip;</td><td>&vellip;</td></tr></tbody></table>"
      ],
      "text/latex": [
       "\\begin{tabular}{r|ccccccc}\n",
       "\t& Sno & Date & State & ConfirmedForeignNational & Cured & Deaths & Confirmed\\\\\n",
       "\t\\hline\n",
       "\t& Int64 & String & String & String & Int64 & Int64 & Int64\\\\\n",
       "\t\\hline\n",
       "\t1 & 1 & 30/01/20 & Kerala & 0 & 0 & 0 & 1 \\\\\n",
       "\t2 & 2 & 31/01/20 & Kerala & 0 & 0 & 0 & 1 \\\\\n",
       "\t3 & 3 & 01/02/20 & Kerala & 0 & 0 & 0 & 2 \\\\\n",
       "\t4 & 4 & 02/02/20 & Kerala & 0 & 0 & 0 & 3 \\\\\n",
       "\t5 & 5 & 03/02/20 & Kerala & 0 & 0 & 0 & 3 \\\\\n",
       "\t6 & 6 & 04/02/20 & Kerala & 0 & 0 & 0 & 3 \\\\\n",
       "\t7 & 7 & 05/02/20 & Kerala & 0 & 0 & 0 & 3 \\\\\n",
       "\t8 & 8 & 06/02/20 & Kerala & 0 & 0 & 0 & 3 \\\\\n",
       "\t9 & 9 & 07/02/20 & Kerala & 0 & 0 & 0 & 3 \\\\\n",
       "\t10 & 10 & 08/02/20 & Kerala & 0 & 0 & 0 & 3 \\\\\n",
       "\t11 & 11 & 09/02/20 & Kerala & 0 & 0 & 0 & 3 \\\\\n",
       "\t12 & 12 & 10/02/20 & Kerala & 0 & 0 & 0 & 3 \\\\\n",
       "\t13 & 13 & 11/02/20 & Kerala & 0 & 0 & 0 & 3 \\\\\n",
       "\t14 & 14 & 12/02/20 & Kerala & 0 & 0 & 0 & 3 \\\\\n",
       "\t15 & 15 & 13/02/20 & Kerala & 0 & 0 & 0 & 3 \\\\\n",
       "\t16 & 16 & 14/02/20 & Kerala & 0 & 0 & 0 & 3 \\\\\n",
       "\t17 & 17 & 15/02/20 & Kerala & 0 & 0 & 0 & 3 \\\\\n",
       "\t18 & 18 & 16/02/20 & Kerala & 0 & 0 & 0 & 3 \\\\\n",
       "\t19 & 19 & 17/02/20 & Kerala & 0 & 0 & 0 & 3 \\\\\n",
       "\t20 & 20 & 18/02/20 & Kerala & 0 & 0 & 0 & 3 \\\\\n",
       "\t21 & 21 & 19/02/20 & Kerala & 0 & 0 & 0 & 3 \\\\\n",
       "\t22 & 22 & 20/02/20 & Kerala & 0 & 0 & 0 & 3 \\\\\n",
       "\t23 & 23 & 21/02/20 & Kerala & 0 & 0 & 0 & 3 \\\\\n",
       "\t24 & 24 & 22/02/20 & Kerala & 0 & 0 & 0 & 3 \\\\\n",
       "\t25 & 25 & 23/02/20 & Kerala & 0 & 0 & 0 & 3 \\\\\n",
       "\t26 & 26 & 24/02/20 & Kerala & 0 & 0 & 0 & 3 \\\\\n",
       "\t27 & 27 & 25/02/20 & Kerala & 0 & 0 & 0 & 3 \\\\\n",
       "\t28 & 28 & 26/02/20 & Kerala & 0 & 0 & 0 & 3 \\\\\n",
       "\t29 & 29 & 27/02/20 & Kerala & 0 & 0 & 0 & 3 \\\\\n",
       "\t30 & 30 & 28/02/20 & Kerala & 0 & 0 & 0 & 3 \\\\\n",
       "\t$\\dots$ & $\\dots$ & $\\dots$ & $\\dots$ & $\\dots$ & $\\dots$ & $\\dots$ & $\\dots$ \\\\\n",
       "\\end{tabular}\n"
      ],
      "text/plain": [
       "3387×7 DataFrame. Omitted printing of 4 columns\n",
       "│ Row  │ Sno   │ Date     │ State                            │\n",
       "│      │ \u001b[90mInt64\u001b[39m │ \u001b[90mString\u001b[39m   │ \u001b[90mString\u001b[39m                           │\n",
       "├──────┼───────┼──────────┼──────────────────────────────────┤\n",
       "│ 1    │ 1     │ 30/01/20 │ Kerala                           │\n",
       "│ 2    │ 2     │ 31/01/20 │ Kerala                           │\n",
       "│ 3    │ 3     │ 01/02/20 │ Kerala                           │\n",
       "│ 4    │ 4     │ 02/02/20 │ Kerala                           │\n",
       "│ 5    │ 5     │ 03/02/20 │ Kerala                           │\n",
       "│ 6    │ 6     │ 04/02/20 │ Kerala                           │\n",
       "│ 7    │ 7     │ 05/02/20 │ Kerala                           │\n",
       "│ 8    │ 8     │ 06/02/20 │ Kerala                           │\n",
       "│ 9    │ 9     │ 07/02/20 │ Kerala                           │\n",
       "│ 10   │ 10    │ 08/02/20 │ Kerala                           │\n",
       "⋮\n",
       "│ 3377 │ 3377  │ 24/06/20 │ Puducherry                       │\n",
       "│ 3378 │ 3378  │ 24/06/20 │ Punjab                           │\n",
       "│ 3379 │ 3379  │ 24/06/20 │ Rajasthan                        │\n",
       "│ 3380 │ 3380  │ 24/06/20 │ Sikkim                           │\n",
       "│ 3381 │ 3381  │ 24/06/20 │ Tamil Nadu                       │\n",
       "│ 3382 │ 3382  │ 24/06/20 │ Telangana                        │\n",
       "│ 3383 │ 3383  │ 24/06/20 │ Tripura                          │\n",
       "│ 3384 │ 3384  │ 24/06/20 │ Uttarakhand                      │\n",
       "│ 3385 │ 3385  │ 24/06/20 │ Uttar Pradesh                    │\n",
       "│ 3386 │ 3386  │ 24/06/20 │ West Bengal                      │\n",
       "│ 3387 │ 3387  │ 24/06/20 │ Cases being reassigned to states │"
      ]
     },
     "execution_count": 53,
     "metadata": {},
     "output_type": "execute_result"
    }
   ],
   "source": [
    "select!(new_df, Not(:ConfirmedIndianNational))"
   ]
  },
  {
   "cell_type": "code",
   "execution_count": 54,
   "metadata": {},
   "outputs": [
    {
     "data": {
      "text/html": [
       "<table class=\"data-frame\"><thead><tr><th></th><th>Sno</th><th>Date</th><th>State</th><th>Cured</th><th>Deaths</th><th>Confirmed</th></tr><tr><th></th><th>Int64</th><th>String</th><th>String</th><th>Int64</th><th>Int64</th><th>Int64</th></tr></thead><tbody><p>3,387 rows × 6 columns</p><tr><th>1</th><td>1</td><td>30/01/20</td><td>Kerala</td><td>0</td><td>0</td><td>1</td></tr><tr><th>2</th><td>2</td><td>31/01/20</td><td>Kerala</td><td>0</td><td>0</td><td>1</td></tr><tr><th>3</th><td>3</td><td>01/02/20</td><td>Kerala</td><td>0</td><td>0</td><td>2</td></tr><tr><th>4</th><td>4</td><td>02/02/20</td><td>Kerala</td><td>0</td><td>0</td><td>3</td></tr><tr><th>5</th><td>5</td><td>03/02/20</td><td>Kerala</td><td>0</td><td>0</td><td>3</td></tr><tr><th>6</th><td>6</td><td>04/02/20</td><td>Kerala</td><td>0</td><td>0</td><td>3</td></tr><tr><th>7</th><td>7</td><td>05/02/20</td><td>Kerala</td><td>0</td><td>0</td><td>3</td></tr><tr><th>8</th><td>8</td><td>06/02/20</td><td>Kerala</td><td>0</td><td>0</td><td>3</td></tr><tr><th>9</th><td>9</td><td>07/02/20</td><td>Kerala</td><td>0</td><td>0</td><td>3</td></tr><tr><th>10</th><td>10</td><td>08/02/20</td><td>Kerala</td><td>0</td><td>0</td><td>3</td></tr><tr><th>11</th><td>11</td><td>09/02/20</td><td>Kerala</td><td>0</td><td>0</td><td>3</td></tr><tr><th>12</th><td>12</td><td>10/02/20</td><td>Kerala</td><td>0</td><td>0</td><td>3</td></tr><tr><th>13</th><td>13</td><td>11/02/20</td><td>Kerala</td><td>0</td><td>0</td><td>3</td></tr><tr><th>14</th><td>14</td><td>12/02/20</td><td>Kerala</td><td>0</td><td>0</td><td>3</td></tr><tr><th>15</th><td>15</td><td>13/02/20</td><td>Kerala</td><td>0</td><td>0</td><td>3</td></tr><tr><th>16</th><td>16</td><td>14/02/20</td><td>Kerala</td><td>0</td><td>0</td><td>3</td></tr><tr><th>17</th><td>17</td><td>15/02/20</td><td>Kerala</td><td>0</td><td>0</td><td>3</td></tr><tr><th>18</th><td>18</td><td>16/02/20</td><td>Kerala</td><td>0</td><td>0</td><td>3</td></tr><tr><th>19</th><td>19</td><td>17/02/20</td><td>Kerala</td><td>0</td><td>0</td><td>3</td></tr><tr><th>20</th><td>20</td><td>18/02/20</td><td>Kerala</td><td>0</td><td>0</td><td>3</td></tr><tr><th>21</th><td>21</td><td>19/02/20</td><td>Kerala</td><td>0</td><td>0</td><td>3</td></tr><tr><th>22</th><td>22</td><td>20/02/20</td><td>Kerala</td><td>0</td><td>0</td><td>3</td></tr><tr><th>23</th><td>23</td><td>21/02/20</td><td>Kerala</td><td>0</td><td>0</td><td>3</td></tr><tr><th>24</th><td>24</td><td>22/02/20</td><td>Kerala</td><td>0</td><td>0</td><td>3</td></tr><tr><th>25</th><td>25</td><td>23/02/20</td><td>Kerala</td><td>0</td><td>0</td><td>3</td></tr><tr><th>26</th><td>26</td><td>24/02/20</td><td>Kerala</td><td>0</td><td>0</td><td>3</td></tr><tr><th>27</th><td>27</td><td>25/02/20</td><td>Kerala</td><td>0</td><td>0</td><td>3</td></tr><tr><th>28</th><td>28</td><td>26/02/20</td><td>Kerala</td><td>0</td><td>0</td><td>3</td></tr><tr><th>29</th><td>29</td><td>27/02/20</td><td>Kerala</td><td>0</td><td>0</td><td>3</td></tr><tr><th>30</th><td>30</td><td>28/02/20</td><td>Kerala</td><td>0</td><td>0</td><td>3</td></tr><tr><th>&vellip;</th><td>&vellip;</td><td>&vellip;</td><td>&vellip;</td><td>&vellip;</td><td>&vellip;</td><td>&vellip;</td></tr></tbody></table>"
      ],
      "text/latex": [
       "\\begin{tabular}{r|cccccc}\n",
       "\t& Sno & Date & State & Cured & Deaths & Confirmed\\\\\n",
       "\t\\hline\n",
       "\t& Int64 & String & String & Int64 & Int64 & Int64\\\\\n",
       "\t\\hline\n",
       "\t1 & 1 & 30/01/20 & Kerala & 0 & 0 & 1 \\\\\n",
       "\t2 & 2 & 31/01/20 & Kerala & 0 & 0 & 1 \\\\\n",
       "\t3 & 3 & 01/02/20 & Kerala & 0 & 0 & 2 \\\\\n",
       "\t4 & 4 & 02/02/20 & Kerala & 0 & 0 & 3 \\\\\n",
       "\t5 & 5 & 03/02/20 & Kerala & 0 & 0 & 3 \\\\\n",
       "\t6 & 6 & 04/02/20 & Kerala & 0 & 0 & 3 \\\\\n",
       "\t7 & 7 & 05/02/20 & Kerala & 0 & 0 & 3 \\\\\n",
       "\t8 & 8 & 06/02/20 & Kerala & 0 & 0 & 3 \\\\\n",
       "\t9 & 9 & 07/02/20 & Kerala & 0 & 0 & 3 \\\\\n",
       "\t10 & 10 & 08/02/20 & Kerala & 0 & 0 & 3 \\\\\n",
       "\t11 & 11 & 09/02/20 & Kerala & 0 & 0 & 3 \\\\\n",
       "\t12 & 12 & 10/02/20 & Kerala & 0 & 0 & 3 \\\\\n",
       "\t13 & 13 & 11/02/20 & Kerala & 0 & 0 & 3 \\\\\n",
       "\t14 & 14 & 12/02/20 & Kerala & 0 & 0 & 3 \\\\\n",
       "\t15 & 15 & 13/02/20 & Kerala & 0 & 0 & 3 \\\\\n",
       "\t16 & 16 & 14/02/20 & Kerala & 0 & 0 & 3 \\\\\n",
       "\t17 & 17 & 15/02/20 & Kerala & 0 & 0 & 3 \\\\\n",
       "\t18 & 18 & 16/02/20 & Kerala & 0 & 0 & 3 \\\\\n",
       "\t19 & 19 & 17/02/20 & Kerala & 0 & 0 & 3 \\\\\n",
       "\t20 & 20 & 18/02/20 & Kerala & 0 & 0 & 3 \\\\\n",
       "\t21 & 21 & 19/02/20 & Kerala & 0 & 0 & 3 \\\\\n",
       "\t22 & 22 & 20/02/20 & Kerala & 0 & 0 & 3 \\\\\n",
       "\t23 & 23 & 21/02/20 & Kerala & 0 & 0 & 3 \\\\\n",
       "\t24 & 24 & 22/02/20 & Kerala & 0 & 0 & 3 \\\\\n",
       "\t25 & 25 & 23/02/20 & Kerala & 0 & 0 & 3 \\\\\n",
       "\t26 & 26 & 24/02/20 & Kerala & 0 & 0 & 3 \\\\\n",
       "\t27 & 27 & 25/02/20 & Kerala & 0 & 0 & 3 \\\\\n",
       "\t28 & 28 & 26/02/20 & Kerala & 0 & 0 & 3 \\\\\n",
       "\t29 & 29 & 27/02/20 & Kerala & 0 & 0 & 3 \\\\\n",
       "\t30 & 30 & 28/02/20 & Kerala & 0 & 0 & 3 \\\\\n",
       "\t$\\dots$ & $\\dots$ & $\\dots$ & $\\dots$ & $\\dots$ & $\\dots$ & $\\dots$ \\\\\n",
       "\\end{tabular}\n"
      ],
      "text/plain": [
       "3387×6 DataFrame. Omitted printing of 1 columns\n",
       "│ Row  │ Sno   │ Date     │ State                            │ Cured │ Deaths │\n",
       "│      │ \u001b[90mInt64\u001b[39m │ \u001b[90mString\u001b[39m   │ \u001b[90mString\u001b[39m                           │ \u001b[90mInt64\u001b[39m │ \u001b[90mInt64\u001b[39m  │\n",
       "├──────┼───────┼──────────┼──────────────────────────────────┼───────┼────────┤\n",
       "│ 1    │ 1     │ 30/01/20 │ Kerala                           │ 0     │ 0      │\n",
       "│ 2    │ 2     │ 31/01/20 │ Kerala                           │ 0     │ 0      │\n",
       "│ 3    │ 3     │ 01/02/20 │ Kerala                           │ 0     │ 0      │\n",
       "│ 4    │ 4     │ 02/02/20 │ Kerala                           │ 0     │ 0      │\n",
       "│ 5    │ 5     │ 03/02/20 │ Kerala                           │ 0     │ 0      │\n",
       "│ 6    │ 6     │ 04/02/20 │ Kerala                           │ 0     │ 0      │\n",
       "│ 7    │ 7     │ 05/02/20 │ Kerala                           │ 0     │ 0      │\n",
       "│ 8    │ 8     │ 06/02/20 │ Kerala                           │ 0     │ 0      │\n",
       "│ 9    │ 9     │ 07/02/20 │ Kerala                           │ 0     │ 0      │\n",
       "│ 10   │ 10    │ 08/02/20 │ Kerala                           │ 0     │ 0      │\n",
       "⋮\n",
       "│ 3377 │ 3377  │ 24/06/20 │ Puducherry                       │ 165   │ 9      │\n",
       "│ 3378 │ 3378  │ 24/06/20 │ Punjab                           │ 3047  │ 105    │\n",
       "│ 3379 │ 3379  │ 24/06/20 │ Rajasthan                        │ 12213 │ 365    │\n",
       "│ 3380 │ 3380  │ 24/06/20 │ Sikkim                           │ 29    │ 0      │\n",
       "│ 3381 │ 3381  │ 24/06/20 │ Tamil Nadu                       │ 35339 │ 833    │\n",
       "│ 3382 │ 3382  │ 24/06/20 │ Telangana                        │ 4224  │ 220    │\n",
       "│ 3383 │ 3383  │ 24/06/20 │ Tripura                          │ 807   │ 1      │\n",
       "│ 3384 │ 3384  │ 24/06/20 │ Uttarakhand                      │ 1602  │ 30     │\n",
       "│ 3385 │ 3385  │ 24/06/20 │ Uttar Pradesh                    │ 12116 │ 588    │\n",
       "│ 3386 │ 3386  │ 24/06/20 │ West Bengal                      │ 9218  │ 580    │\n",
       "│ 3387 │ 3387  │ 24/06/20 │ Cases being reassigned to states │ 0     │ 0      │"
      ]
     },
     "execution_count": 54,
     "metadata": {},
     "output_type": "execute_result"
    }
   ],
   "source": [
    "select!(new_df, Not(:ConfirmedForeignNational))"
   ]
  },
  {
   "cell_type": "markdown",
   "metadata": {},
   "source": [
    "#### Sort on the basis of a column"
   ]
  },
  {
   "cell_type": "code",
   "execution_count": 55,
   "metadata": {},
   "outputs": [
    {
     "data": {
      "text/html": [
       "<table class=\"data-frame\"><thead><tr><th></th><th>Sno</th><th>Date</th><th>State</th><th>Cured</th><th>Deaths</th><th>Confirmed</th></tr><tr><th></th><th>Int64</th><th>String</th><th>String</th><th>Int64</th><th>Int64</th><th>Int64</th></tr></thead><tbody><p>3,387 rows × 6 columns</p><tr><th>1</th><td>1</td><td>30/01/20</td><td>Kerala</td><td>0</td><td>0</td><td>1</td></tr><tr><th>2</th><td>2</td><td>31/01/20</td><td>Kerala</td><td>0</td><td>0</td><td>1</td></tr><tr><th>3</th><td>3</td><td>01/02/20</td><td>Kerala</td><td>0</td><td>0</td><td>2</td></tr><tr><th>4</th><td>4</td><td>02/02/20</td><td>Kerala</td><td>0</td><td>0</td><td>3</td></tr><tr><th>5</th><td>5</td><td>03/02/20</td><td>Kerala</td><td>0</td><td>0</td><td>3</td></tr><tr><th>6</th><td>6</td><td>04/02/20</td><td>Kerala</td><td>0</td><td>0</td><td>3</td></tr><tr><th>7</th><td>7</td><td>05/02/20</td><td>Kerala</td><td>0</td><td>0</td><td>3</td></tr><tr><th>8</th><td>8</td><td>06/02/20</td><td>Kerala</td><td>0</td><td>0</td><td>3</td></tr><tr><th>9</th><td>9</td><td>07/02/20</td><td>Kerala</td><td>0</td><td>0</td><td>3</td></tr><tr><th>10</th><td>10</td><td>08/02/20</td><td>Kerala</td><td>0</td><td>0</td><td>3</td></tr><tr><th>11</th><td>11</td><td>09/02/20</td><td>Kerala</td><td>0</td><td>0</td><td>3</td></tr><tr><th>12</th><td>12</td><td>10/02/20</td><td>Kerala</td><td>0</td><td>0</td><td>3</td></tr><tr><th>13</th><td>13</td><td>11/02/20</td><td>Kerala</td><td>0</td><td>0</td><td>3</td></tr><tr><th>14</th><td>14</td><td>12/02/20</td><td>Kerala</td><td>0</td><td>0</td><td>3</td></tr><tr><th>15</th><td>15</td><td>13/02/20</td><td>Kerala</td><td>0</td><td>0</td><td>3</td></tr><tr><th>16</th><td>16</td><td>14/02/20</td><td>Kerala</td><td>0</td><td>0</td><td>3</td></tr><tr><th>17</th><td>17</td><td>15/02/20</td><td>Kerala</td><td>0</td><td>0</td><td>3</td></tr><tr><th>18</th><td>18</td><td>16/02/20</td><td>Kerala</td><td>0</td><td>0</td><td>3</td></tr><tr><th>19</th><td>19</td><td>17/02/20</td><td>Kerala</td><td>0</td><td>0</td><td>3</td></tr><tr><th>20</th><td>20</td><td>18/02/20</td><td>Kerala</td><td>0</td><td>0</td><td>3</td></tr><tr><th>21</th><td>21</td><td>19/02/20</td><td>Kerala</td><td>0</td><td>0</td><td>3</td></tr><tr><th>22</th><td>22</td><td>20/02/20</td><td>Kerala</td><td>0</td><td>0</td><td>3</td></tr><tr><th>23</th><td>23</td><td>21/02/20</td><td>Kerala</td><td>0</td><td>0</td><td>3</td></tr><tr><th>24</th><td>24</td><td>22/02/20</td><td>Kerala</td><td>0</td><td>0</td><td>3</td></tr><tr><th>25</th><td>25</td><td>23/02/20</td><td>Kerala</td><td>0</td><td>0</td><td>3</td></tr><tr><th>26</th><td>26</td><td>24/02/20</td><td>Kerala</td><td>0</td><td>0</td><td>3</td></tr><tr><th>27</th><td>27</td><td>25/02/20</td><td>Kerala</td><td>0</td><td>0</td><td>3</td></tr><tr><th>28</th><td>28</td><td>26/02/20</td><td>Kerala</td><td>0</td><td>0</td><td>3</td></tr><tr><th>29</th><td>29</td><td>27/02/20</td><td>Kerala</td><td>0</td><td>0</td><td>3</td></tr><tr><th>30</th><td>30</td><td>28/02/20</td><td>Kerala</td><td>0</td><td>0</td><td>3</td></tr><tr><th>&vellip;</th><td>&vellip;</td><td>&vellip;</td><td>&vellip;</td><td>&vellip;</td><td>&vellip;</td><td>&vellip;</td></tr></tbody></table>"
      ],
      "text/latex": [
       "\\begin{tabular}{r|cccccc}\n",
       "\t& Sno & Date & State & Cured & Deaths & Confirmed\\\\\n",
       "\t\\hline\n",
       "\t& Int64 & String & String & Int64 & Int64 & Int64\\\\\n",
       "\t\\hline\n",
       "\t1 & 1 & 30/01/20 & Kerala & 0 & 0 & 1 \\\\\n",
       "\t2 & 2 & 31/01/20 & Kerala & 0 & 0 & 1 \\\\\n",
       "\t3 & 3 & 01/02/20 & Kerala & 0 & 0 & 2 \\\\\n",
       "\t4 & 4 & 02/02/20 & Kerala & 0 & 0 & 3 \\\\\n",
       "\t5 & 5 & 03/02/20 & Kerala & 0 & 0 & 3 \\\\\n",
       "\t6 & 6 & 04/02/20 & Kerala & 0 & 0 & 3 \\\\\n",
       "\t7 & 7 & 05/02/20 & Kerala & 0 & 0 & 3 \\\\\n",
       "\t8 & 8 & 06/02/20 & Kerala & 0 & 0 & 3 \\\\\n",
       "\t9 & 9 & 07/02/20 & Kerala & 0 & 0 & 3 \\\\\n",
       "\t10 & 10 & 08/02/20 & Kerala & 0 & 0 & 3 \\\\\n",
       "\t11 & 11 & 09/02/20 & Kerala & 0 & 0 & 3 \\\\\n",
       "\t12 & 12 & 10/02/20 & Kerala & 0 & 0 & 3 \\\\\n",
       "\t13 & 13 & 11/02/20 & Kerala & 0 & 0 & 3 \\\\\n",
       "\t14 & 14 & 12/02/20 & Kerala & 0 & 0 & 3 \\\\\n",
       "\t15 & 15 & 13/02/20 & Kerala & 0 & 0 & 3 \\\\\n",
       "\t16 & 16 & 14/02/20 & Kerala & 0 & 0 & 3 \\\\\n",
       "\t17 & 17 & 15/02/20 & Kerala & 0 & 0 & 3 \\\\\n",
       "\t18 & 18 & 16/02/20 & Kerala & 0 & 0 & 3 \\\\\n",
       "\t19 & 19 & 17/02/20 & Kerala & 0 & 0 & 3 \\\\\n",
       "\t20 & 20 & 18/02/20 & Kerala & 0 & 0 & 3 \\\\\n",
       "\t21 & 21 & 19/02/20 & Kerala & 0 & 0 & 3 \\\\\n",
       "\t22 & 22 & 20/02/20 & Kerala & 0 & 0 & 3 \\\\\n",
       "\t23 & 23 & 21/02/20 & Kerala & 0 & 0 & 3 \\\\\n",
       "\t24 & 24 & 22/02/20 & Kerala & 0 & 0 & 3 \\\\\n",
       "\t25 & 25 & 23/02/20 & Kerala & 0 & 0 & 3 \\\\\n",
       "\t26 & 26 & 24/02/20 & Kerala & 0 & 0 & 3 \\\\\n",
       "\t27 & 27 & 25/02/20 & Kerala & 0 & 0 & 3 \\\\\n",
       "\t28 & 28 & 26/02/20 & Kerala & 0 & 0 & 3 \\\\\n",
       "\t29 & 29 & 27/02/20 & Kerala & 0 & 0 & 3 \\\\\n",
       "\t30 & 30 & 28/02/20 & Kerala & 0 & 0 & 3 \\\\\n",
       "\t$\\dots$ & $\\dots$ & $\\dots$ & $\\dots$ & $\\dots$ & $\\dots$ & $\\dots$ \\\\\n",
       "\\end{tabular}\n"
      ],
      "text/plain": [
       "3387×6 DataFrame\n",
       "│ Row  │ Sno   │ Date     │ State       │ Cured │ Deaths │ Confirmed │\n",
       "│      │ \u001b[90mInt64\u001b[39m │ \u001b[90mString\u001b[39m   │ \u001b[90mString\u001b[39m      │ \u001b[90mInt64\u001b[39m │ \u001b[90mInt64\u001b[39m  │ \u001b[90mInt64\u001b[39m     │\n",
       "├──────┼───────┼──────────┼─────────────┼───────┼────────┼───────────┤\n",
       "│ 1    │ 1     │ 30/01/20 │ Kerala      │ 0     │ 0      │ 1         │\n",
       "│ 2    │ 2     │ 31/01/20 │ Kerala      │ 0     │ 0      │ 1         │\n",
       "│ 3    │ 3     │ 01/02/20 │ Kerala      │ 0     │ 0      │ 2         │\n",
       "│ 4    │ 4     │ 02/02/20 │ Kerala      │ 0     │ 0      │ 3         │\n",
       "│ 5    │ 5     │ 03/02/20 │ Kerala      │ 0     │ 0      │ 3         │\n",
       "│ 6    │ 6     │ 04/02/20 │ Kerala      │ 0     │ 0      │ 3         │\n",
       "│ 7    │ 7     │ 05/02/20 │ Kerala      │ 0     │ 0      │ 3         │\n",
       "│ 8    │ 8     │ 06/02/20 │ Kerala      │ 0     │ 0      │ 3         │\n",
       "│ 9    │ 9     │ 07/02/20 │ Kerala      │ 0     │ 0      │ 3         │\n",
       "│ 10   │ 10    │ 08/02/20 │ Kerala      │ 0     │ 0      │ 3         │\n",
       "⋮\n",
       "│ 3377 │ 3011  │ 14/06/20 │ Maharashtra │ 49346 │ 3830   │ 104568    │\n",
       "│ 3378 │ 3047  │ 15/06/20 │ Maharashtra │ 50978 │ 3950   │ 107958    │\n",
       "│ 3379 │ 3083  │ 16/06/20 │ Maharashtra │ 56049 │ 4128   │ 110744    │\n",
       "│ 3380 │ 3119  │ 17/06/20 │ Maharashtra │ 57851 │ 5537   │ 113445    │\n",
       "│ 3381 │ 3155  │ 18/06/20 │ Maharashtra │ 59166 │ 5651   │ 116752    │\n",
       "│ 3382 │ 3191  │ 19/06/20 │ Maharashtra │ 60838 │ 5751   │ 120504    │\n",
       "│ 3383 │ 3227  │ 20/06/20 │ Maharashtra │ 62773 │ 5893   │ 124331    │\n",
       "│ 3384 │ 3263  │ 21/06/20 │ Maharashtra │ 64153 │ 5984   │ 128205    │\n",
       "│ 3385 │ 3299  │ 22/06/20 │ Maharashtra │ 65744 │ 6170   │ 132075    │\n",
       "│ 3386 │ 3335  │ 23/06/20 │ Maharashtra │ 67706 │ 6283   │ 135796    │\n",
       "│ 3387 │ 3371  │ 24/06/20 │ Maharashtra │ 69631 │ 6531   │ 139010    │"
      ]
     },
     "execution_count": 55,
     "metadata": {},
     "output_type": "execute_result"
    }
   ],
   "source": [
    "sort!(new_df, [order(:Deaths)])"
   ]
  },
  {
   "cell_type": "code",
   "execution_count": 56,
   "metadata": {},
   "outputs": [
    {
     "data": {
      "text/html": [
       "<table class=\"data-frame\"><thead><tr><th></th><th>Sno</th><th>Date</th><th>State</th><th>Cured</th><th>Deaths</th><th>Confirmed</th></tr><tr><th></th><th>Int64</th><th>String</th><th>String</th><th>Int64</th><th>Int64</th><th>Int64</th></tr></thead><tbody><p>10 rows × 6 columns</p><tr><th>1</th><td>3047</td><td>15/06/20</td><td>Maharashtra</td><td>50978</td><td>3950</td><td>107958</td></tr><tr><th>2</th><td>3083</td><td>16/06/20</td><td>Maharashtra</td><td>56049</td><td>4128</td><td>110744</td></tr><tr><th>3</th><td>3119</td><td>17/06/20</td><td>Maharashtra</td><td>57851</td><td>5537</td><td>113445</td></tr><tr><th>4</th><td>3155</td><td>18/06/20</td><td>Maharashtra</td><td>59166</td><td>5651</td><td>116752</td></tr><tr><th>5</th><td>3191</td><td>19/06/20</td><td>Maharashtra</td><td>60838</td><td>5751</td><td>120504</td></tr><tr><th>6</th><td>3227</td><td>20/06/20</td><td>Maharashtra</td><td>62773</td><td>5893</td><td>124331</td></tr><tr><th>7</th><td>3263</td><td>21/06/20</td><td>Maharashtra</td><td>64153</td><td>5984</td><td>128205</td></tr><tr><th>8</th><td>3299</td><td>22/06/20</td><td>Maharashtra</td><td>65744</td><td>6170</td><td>132075</td></tr><tr><th>9</th><td>3335</td><td>23/06/20</td><td>Maharashtra</td><td>67706</td><td>6283</td><td>135796</td></tr><tr><th>10</th><td>3371</td><td>24/06/20</td><td>Maharashtra</td><td>69631</td><td>6531</td><td>139010</td></tr></tbody></table>"
      ],
      "text/latex": [
       "\\begin{tabular}{r|cccccc}\n",
       "\t& Sno & Date & State & Cured & Deaths & Confirmed\\\\\n",
       "\t\\hline\n",
       "\t& Int64 & String & String & Int64 & Int64 & Int64\\\\\n",
       "\t\\hline\n",
       "\t1 & 3047 & 15/06/20 & Maharashtra & 50978 & 3950 & 107958 \\\\\n",
       "\t2 & 3083 & 16/06/20 & Maharashtra & 56049 & 4128 & 110744 \\\\\n",
       "\t3 & 3119 & 17/06/20 & Maharashtra & 57851 & 5537 & 113445 \\\\\n",
       "\t4 & 3155 & 18/06/20 & Maharashtra & 59166 & 5651 & 116752 \\\\\n",
       "\t5 & 3191 & 19/06/20 & Maharashtra & 60838 & 5751 & 120504 \\\\\n",
       "\t6 & 3227 & 20/06/20 & Maharashtra & 62773 & 5893 & 124331 \\\\\n",
       "\t7 & 3263 & 21/06/20 & Maharashtra & 64153 & 5984 & 128205 \\\\\n",
       "\t8 & 3299 & 22/06/20 & Maharashtra & 65744 & 6170 & 132075 \\\\\n",
       "\t9 & 3335 & 23/06/20 & Maharashtra & 67706 & 6283 & 135796 \\\\\n",
       "\t10 & 3371 & 24/06/20 & Maharashtra & 69631 & 6531 & 139010 \\\\\n",
       "\\end{tabular}\n"
      ],
      "text/plain": [
       "10×6 DataFrame\n",
       "│ Row │ Sno   │ Date     │ State       │ Cured │ Deaths │ Confirmed │\n",
       "│     │ \u001b[90mInt64\u001b[39m │ \u001b[90mString\u001b[39m   │ \u001b[90mString\u001b[39m      │ \u001b[90mInt64\u001b[39m │ \u001b[90mInt64\u001b[39m  │ \u001b[90mInt64\u001b[39m     │\n",
       "├─────┼───────┼──────────┼─────────────┼───────┼────────┼───────────┤\n",
       "│ 1   │ 3047  │ 15/06/20 │ Maharashtra │ 50978 │ 3950   │ 107958    │\n",
       "│ 2   │ 3083  │ 16/06/20 │ Maharashtra │ 56049 │ 4128   │ 110744    │\n",
       "│ 3   │ 3119  │ 17/06/20 │ Maharashtra │ 57851 │ 5537   │ 113445    │\n",
       "│ 4   │ 3155  │ 18/06/20 │ Maharashtra │ 59166 │ 5651   │ 116752    │\n",
       "│ 5   │ 3191  │ 19/06/20 │ Maharashtra │ 60838 │ 5751   │ 120504    │\n",
       "│ 6   │ 3227  │ 20/06/20 │ Maharashtra │ 62773 │ 5893   │ 124331    │\n",
       "│ 7   │ 3263  │ 21/06/20 │ Maharashtra │ 64153 │ 5984   │ 128205    │\n",
       "│ 8   │ 3299  │ 22/06/20 │ Maharashtra │ 65744 │ 6170   │ 132075    │\n",
       "│ 9   │ 3335  │ 23/06/20 │ Maharashtra │ 67706 │ 6283   │ 135796    │\n",
       "│ 10  │ 3371  │ 24/06/20 │ Maharashtra │ 69631 │ 6531   │ 139010    │"
      ]
     },
     "execution_count": 56,
     "metadata": {},
     "output_type": "execute_result"
    }
   ],
   "source": [
    "last(new_df, 10)"
   ]
  },
  {
   "cell_type": "markdown",
   "metadata": {},
   "source": [
    "#### Filter data based on some conditions"
   ]
  },
  {
   "cell_type": "code",
   "execution_count": 57,
   "metadata": {},
   "outputs": [
    {
     "data": {
      "text/html": [
       "<table class=\"data-frame\"><thead><tr><th></th><th>Sno</th><th>Date</th><th>State</th><th>Cured</th><th>Deaths</th><th>Confirmed</th></tr><tr><th></th><th>Int64</th><th>String</th><th>String</th><th>Int64</th><th>Int64</th><th>Int64</th></tr></thead><tbody><p>1,071 rows × 6 columns</p><tr><th>1</th><td>658</td><td>05/04/20</td><td>Gujarat</td><td>18</td><td>11</td><td>122</td></tr><tr><th>2</th><td>825</td><td>10/04/20</td><td>Punjab</td><td>5</td><td>11</td><td>132</td></tr><tr><th>3</th><td>856</td><td>11/04/20</td><td>Punjab</td><td>5</td><td>11</td><td>132</td></tr><tr><th>4</th><td>887</td><td>12/04/20</td><td>Punjab</td><td>5</td><td>11</td><td>151</td></tr><tr><th>5</th><td>919</td><td>13/04/20</td><td>Punjab</td><td>14</td><td>11</td><td>167</td></tr><tr><th>6</th><td>921</td><td>13/04/20</td><td>Tamil Nadu</td><td>50</td><td>11</td><td>1075</td></tr><tr><th>7</th><td>954</td><td>14/04/20</td><td>Tamil Nadu</td><td>58</td><td>11</td><td>1173</td></tr><tr><th>8</th><td>974</td><td>15/04/20</td><td>Karnataka</td><td>75</td><td>11</td><td>277</td></tr><tr><th>9</th><td>991</td><td>15/04/20</td><td>Uttar Pradesh</td><td>51</td><td>11</td><td>735</td></tr><tr><th>10</th><td>1052</td><td>17/04/20</td><td>Rajasthan</td><td>164</td><td>11</td><td>1131</td></tr><tr><th>11</th><td>1085</td><td>18/04/20</td><td>Rajasthan</td><td>183</td><td>11</td><td>1229</td></tr><tr><th>12</th><td>1118</td><td>19/04/20</td><td>Rajasthan</td><td>183</td><td>11</td><td>1351</td></tr><tr><th>13</th><td>1848</td><td>12/05/20</td><td>Haryana</td><td>337</td><td>11</td><td>730</td></tr><tr><th>14</th><td>1881</td><td>13/05/20</td><td>Haryana</td><td>342</td><td>11</td><td>780</td></tr><tr><th>15</th><td>1914</td><td>14/05/20</td><td>Haryana</td><td>418</td><td>11</td><td>793</td></tr><tr><th>16</th><td>1916</td><td>14/05/20</td><td>Jammu and Kashmir</td><td>466</td><td>11</td><td>971</td></tr><tr><th>17</th><td>1947</td><td>15/05/20</td><td>Haryana</td><td>439</td><td>11</td><td>818</td></tr><tr><th>18</th><td>1949</td><td>15/05/20</td><td>Jammu and Kashmir</td><td>485</td><td>11</td><td>983</td></tr><tr><th>19</th><td>1980</td><td>16/05/20</td><td>Haryana</td><td>439</td><td>11</td><td>818</td></tr><tr><th>20</th><td>1982</td><td>16/05/20</td><td>Jammu and Kashmir</td><td>513</td><td>11</td><td>1013</td></tr><tr><th>21</th><td>2173</td><td>22/05/20</td><td>Bihar</td><td>593</td><td>11</td><td>1982</td></tr><tr><th>22</th><td>2207</td><td>23/05/20</td><td>Bihar</td><td>629</td><td>11</td><td>2177</td></tr><tr><th>23</th><td>2241</td><td>24/05/20</td><td>Bihar</td><td>653</td><td>11</td><td>2380</td></tr><tr><th>24</th><td>2611</td><td>03/06/20</td><td>Kerala</td><td>627</td><td>11</td><td>1412</td></tr><tr><th>25</th><td>2647</td><td>04/06/20</td><td>Kerala</td><td>651</td><td>11</td><td>1494</td></tr><tr><th>26</th><td>2735</td><td>06/06/20</td><td>Uttarakhand</td><td>344</td><td>11</td><td>1215</td></tr><tr><th>27</th><td>2771</td><td>07/06/20</td><td>Uttarakhand</td><td>423</td><td>11</td><td>1303</td></tr><tr><th>28</th><td>3052</td><td>15/06/20</td><td>Odisha</td><td>2708</td><td>11</td><td>3909</td></tr><tr><th>29</th><td>3088</td><td>16/06/20</td><td>Odisha</td><td>2854</td><td>11</td><td>4055</td></tr><tr><th>30</th><td>3124</td><td>17/06/20</td><td>Odisha</td><td>2974</td><td>11</td><td>4163</td></tr><tr><th>&vellip;</th><td>&vellip;</td><td>&vellip;</td><td>&vellip;</td><td>&vellip;</td><td>&vellip;</td><td>&vellip;</td></tr></tbody></table>"
      ],
      "text/latex": [
       "\\begin{tabular}{r|cccccc}\n",
       "\t& Sno & Date & State & Cured & Deaths & Confirmed\\\\\n",
       "\t\\hline\n",
       "\t& Int64 & String & String & Int64 & Int64 & Int64\\\\\n",
       "\t\\hline\n",
       "\t1 & 658 & 05/04/20 & Gujarat & 18 & 11 & 122 \\\\\n",
       "\t2 & 825 & 10/04/20 & Punjab & 5 & 11 & 132 \\\\\n",
       "\t3 & 856 & 11/04/20 & Punjab & 5 & 11 & 132 \\\\\n",
       "\t4 & 887 & 12/04/20 & Punjab & 5 & 11 & 151 \\\\\n",
       "\t5 & 919 & 13/04/20 & Punjab & 14 & 11 & 167 \\\\\n",
       "\t6 & 921 & 13/04/20 & Tamil Nadu & 50 & 11 & 1075 \\\\\n",
       "\t7 & 954 & 14/04/20 & Tamil Nadu & 58 & 11 & 1173 \\\\\n",
       "\t8 & 974 & 15/04/20 & Karnataka & 75 & 11 & 277 \\\\\n",
       "\t9 & 991 & 15/04/20 & Uttar Pradesh & 51 & 11 & 735 \\\\\n",
       "\t10 & 1052 & 17/04/20 & Rajasthan & 164 & 11 & 1131 \\\\\n",
       "\t11 & 1085 & 18/04/20 & Rajasthan & 183 & 11 & 1229 \\\\\n",
       "\t12 & 1118 & 19/04/20 & Rajasthan & 183 & 11 & 1351 \\\\\n",
       "\t13 & 1848 & 12/05/20 & Haryana & 337 & 11 & 730 \\\\\n",
       "\t14 & 1881 & 13/05/20 & Haryana & 342 & 11 & 780 \\\\\n",
       "\t15 & 1914 & 14/05/20 & Haryana & 418 & 11 & 793 \\\\\n",
       "\t16 & 1916 & 14/05/20 & Jammu and Kashmir & 466 & 11 & 971 \\\\\n",
       "\t17 & 1947 & 15/05/20 & Haryana & 439 & 11 & 818 \\\\\n",
       "\t18 & 1949 & 15/05/20 & Jammu and Kashmir & 485 & 11 & 983 \\\\\n",
       "\t19 & 1980 & 16/05/20 & Haryana & 439 & 11 & 818 \\\\\n",
       "\t20 & 1982 & 16/05/20 & Jammu and Kashmir & 513 & 11 & 1013 \\\\\n",
       "\t21 & 2173 & 22/05/20 & Bihar & 593 & 11 & 1982 \\\\\n",
       "\t22 & 2207 & 23/05/20 & Bihar & 629 & 11 & 2177 \\\\\n",
       "\t23 & 2241 & 24/05/20 & Bihar & 653 & 11 & 2380 \\\\\n",
       "\t24 & 2611 & 03/06/20 & Kerala & 627 & 11 & 1412 \\\\\n",
       "\t25 & 2647 & 04/06/20 & Kerala & 651 & 11 & 1494 \\\\\n",
       "\t26 & 2735 & 06/06/20 & Uttarakhand & 344 & 11 & 1215 \\\\\n",
       "\t27 & 2771 & 07/06/20 & Uttarakhand & 423 & 11 & 1303 \\\\\n",
       "\t28 & 3052 & 15/06/20 & Odisha & 2708 & 11 & 3909 \\\\\n",
       "\t29 & 3088 & 16/06/20 & Odisha & 2854 & 11 & 4055 \\\\\n",
       "\t30 & 3124 & 17/06/20 & Odisha & 2974 & 11 & 4163 \\\\\n",
       "\t$\\dots$ & $\\dots$ & $\\dots$ & $\\dots$ & $\\dots$ & $\\dots$ & $\\dots$ \\\\\n",
       "\\end{tabular}\n"
      ],
      "text/plain": [
       "1071×6 DataFrame\n",
       "│ Row  │ Sno   │ Date     │ State         │ Cured │ Deaths │ Confirmed │\n",
       "│      │ \u001b[90mInt64\u001b[39m │ \u001b[90mString\u001b[39m   │ \u001b[90mString\u001b[39m        │ \u001b[90mInt64\u001b[39m │ \u001b[90mInt64\u001b[39m  │ \u001b[90mInt64\u001b[39m     │\n",
       "├──────┼───────┼──────────┼───────────────┼───────┼────────┼───────────┤\n",
       "│ 1    │ 658   │ 05/04/20 │ Gujarat       │ 18    │ 11     │ 122       │\n",
       "│ 2    │ 825   │ 10/04/20 │ Punjab        │ 5     │ 11     │ 132       │\n",
       "│ 3    │ 856   │ 11/04/20 │ Punjab        │ 5     │ 11     │ 132       │\n",
       "│ 4    │ 887   │ 12/04/20 │ Punjab        │ 5     │ 11     │ 151       │\n",
       "│ 5    │ 919   │ 13/04/20 │ Punjab        │ 14    │ 11     │ 167       │\n",
       "│ 6    │ 921   │ 13/04/20 │ Tamil Nadu    │ 50    │ 11     │ 1075      │\n",
       "│ 7    │ 954   │ 14/04/20 │ Tamil Nadu    │ 58    │ 11     │ 1173      │\n",
       "│ 8    │ 974   │ 15/04/20 │ Karnataka     │ 75    │ 11     │ 277       │\n",
       "│ 9    │ 991   │ 15/04/20 │ Uttar Pradesh │ 51    │ 11     │ 735       │\n",
       "│ 10   │ 1052  │ 17/04/20 │ Rajasthan     │ 164   │ 11     │ 1131      │\n",
       "⋮\n",
       "│ 1061 │ 3011  │ 14/06/20 │ Maharashtra   │ 49346 │ 3830   │ 104568    │\n",
       "│ 1062 │ 3047  │ 15/06/20 │ Maharashtra   │ 50978 │ 3950   │ 107958    │\n",
       "│ 1063 │ 3083  │ 16/06/20 │ Maharashtra   │ 56049 │ 4128   │ 110744    │\n",
       "│ 1064 │ 3119  │ 17/06/20 │ Maharashtra   │ 57851 │ 5537   │ 113445    │\n",
       "│ 1065 │ 3155  │ 18/06/20 │ Maharashtra   │ 59166 │ 5651   │ 116752    │\n",
       "│ 1066 │ 3191  │ 19/06/20 │ Maharashtra   │ 60838 │ 5751   │ 120504    │\n",
       "│ 1067 │ 3227  │ 20/06/20 │ Maharashtra   │ 62773 │ 5893   │ 124331    │\n",
       "│ 1068 │ 3263  │ 21/06/20 │ Maharashtra   │ 64153 │ 5984   │ 128205    │\n",
       "│ 1069 │ 3299  │ 22/06/20 │ Maharashtra   │ 65744 │ 6170   │ 132075    │\n",
       "│ 1070 │ 3335  │ 23/06/20 │ Maharashtra   │ 67706 │ 6283   │ 135796    │\n",
       "│ 1071 │ 3371  │ 24/06/20 │ Maharashtra   │ 69631 │ 6531   │ 139010    │"
      ]
     },
     "execution_count": 57,
     "metadata": {},
     "output_type": "execute_result"
    }
   ],
   "source": [
    "filter(row -> row.Deaths .> 10, new_df)"
   ]
  },
  {
   "cell_type": "code",
   "execution_count": 58,
   "metadata": {},
   "outputs": [
    {
     "data": {
      "text/html": [
       "<table class=\"data-frame\"><thead><tr><th></th><th>Sno</th><th>Date</th><th>State</th><th>Cured</th><th>Deaths</th><th>Confirmed</th></tr><tr><th></th><th>Int64</th><th>String</th><th>String</th><th>Int64</th><th>Int64</th><th>Int64</th></tr></thead><tbody><p>88 rows × 6 columns</p><tr><th>1</th><td>658</td><td>05/04/20</td><td>Gujarat</td><td>18</td><td>11</td><td>122</td></tr><tr><th>2</th><td>825</td><td>10/04/20</td><td>Punjab</td><td>5</td><td>11</td><td>132</td></tr><tr><th>3</th><td>856</td><td>11/04/20</td><td>Punjab</td><td>5</td><td>11</td><td>132</td></tr><tr><th>4</th><td>887</td><td>12/04/20</td><td>Punjab</td><td>5</td><td>11</td><td>151</td></tr><tr><th>5</th><td>919</td><td>13/04/20</td><td>Punjab</td><td>14</td><td>11</td><td>167</td></tr><tr><th>6</th><td>921</td><td>13/04/20</td><td>Tamil Nadu</td><td>50</td><td>11</td><td>1075</td></tr><tr><th>7</th><td>954</td><td>14/04/20</td><td>Tamil Nadu</td><td>58</td><td>11</td><td>1173</td></tr><tr><th>8</th><td>974</td><td>15/04/20</td><td>Karnataka</td><td>75</td><td>11</td><td>277</td></tr><tr><th>9</th><td>991</td><td>15/04/20</td><td>Uttar Pradesh</td><td>51</td><td>11</td><td>735</td></tr><tr><th>10</th><td>1052</td><td>17/04/20</td><td>Rajasthan</td><td>164</td><td>11</td><td>1131</td></tr><tr><th>11</th><td>1085</td><td>18/04/20</td><td>Rajasthan</td><td>183</td><td>11</td><td>1229</td></tr><tr><th>12</th><td>1118</td><td>19/04/20</td><td>Rajasthan</td><td>183</td><td>11</td><td>1351</td></tr><tr><th>13</th><td>1848</td><td>12/05/20</td><td>Haryana</td><td>337</td><td>11</td><td>730</td></tr><tr><th>14</th><td>1881</td><td>13/05/20</td><td>Haryana</td><td>342</td><td>11</td><td>780</td></tr><tr><th>15</th><td>1914</td><td>14/05/20</td><td>Haryana</td><td>418</td><td>11</td><td>793</td></tr><tr><th>16</th><td>1916</td><td>14/05/20</td><td>Jammu and Kashmir</td><td>466</td><td>11</td><td>971</td></tr><tr><th>17</th><td>1947</td><td>15/05/20</td><td>Haryana</td><td>439</td><td>11</td><td>818</td></tr><tr><th>18</th><td>1949</td><td>15/05/20</td><td>Jammu and Kashmir</td><td>485</td><td>11</td><td>983</td></tr><tr><th>19</th><td>1980</td><td>16/05/20</td><td>Haryana</td><td>439</td><td>11</td><td>818</td></tr><tr><th>20</th><td>1982</td><td>16/05/20</td><td>Jammu and Kashmir</td><td>513</td><td>11</td><td>1013</td></tr><tr><th>21</th><td>2173</td><td>22/05/20</td><td>Bihar</td><td>593</td><td>11</td><td>1982</td></tr><tr><th>22</th><td>2207</td><td>23/05/20</td><td>Bihar</td><td>629</td><td>11</td><td>2177</td></tr><tr><th>23</th><td>2241</td><td>24/05/20</td><td>Bihar</td><td>653</td><td>11</td><td>2380</td></tr><tr><th>24</th><td>2611</td><td>03/06/20</td><td>Kerala</td><td>627</td><td>11</td><td>1412</td></tr><tr><th>25</th><td>2647</td><td>04/06/20</td><td>Kerala</td><td>651</td><td>11</td><td>1494</td></tr><tr><th>26</th><td>2735</td><td>06/06/20</td><td>Uttarakhand</td><td>344</td><td>11</td><td>1215</td></tr><tr><th>27</th><td>2771</td><td>07/06/20</td><td>Uttarakhand</td><td>423</td><td>11</td><td>1303</td></tr><tr><th>28</th><td>3052</td><td>15/06/20</td><td>Odisha</td><td>2708</td><td>11</td><td>3909</td></tr><tr><th>29</th><td>3088</td><td>16/06/20</td><td>Odisha</td><td>2854</td><td>11</td><td>4055</td></tr><tr><th>30</th><td>3124</td><td>17/06/20</td><td>Odisha</td><td>2974</td><td>11</td><td>4163</td></tr><tr><th>&vellip;</th><td>&vellip;</td><td>&vellip;</td><td>&vellip;</td><td>&vellip;</td><td>&vellip;</td><td>&vellip;</td></tr></tbody></table>"
      ],
      "text/latex": [
       "\\begin{tabular}{r|cccccc}\n",
       "\t& Sno & Date & State & Cured & Deaths & Confirmed\\\\\n",
       "\t\\hline\n",
       "\t& Int64 & String & String & Int64 & Int64 & Int64\\\\\n",
       "\t\\hline\n",
       "\t1 & 658 & 05/04/20 & Gujarat & 18 & 11 & 122 \\\\\n",
       "\t2 & 825 & 10/04/20 & Punjab & 5 & 11 & 132 \\\\\n",
       "\t3 & 856 & 11/04/20 & Punjab & 5 & 11 & 132 \\\\\n",
       "\t4 & 887 & 12/04/20 & Punjab & 5 & 11 & 151 \\\\\n",
       "\t5 & 919 & 13/04/20 & Punjab & 14 & 11 & 167 \\\\\n",
       "\t6 & 921 & 13/04/20 & Tamil Nadu & 50 & 11 & 1075 \\\\\n",
       "\t7 & 954 & 14/04/20 & Tamil Nadu & 58 & 11 & 1173 \\\\\n",
       "\t8 & 974 & 15/04/20 & Karnataka & 75 & 11 & 277 \\\\\n",
       "\t9 & 991 & 15/04/20 & Uttar Pradesh & 51 & 11 & 735 \\\\\n",
       "\t10 & 1052 & 17/04/20 & Rajasthan & 164 & 11 & 1131 \\\\\n",
       "\t11 & 1085 & 18/04/20 & Rajasthan & 183 & 11 & 1229 \\\\\n",
       "\t12 & 1118 & 19/04/20 & Rajasthan & 183 & 11 & 1351 \\\\\n",
       "\t13 & 1848 & 12/05/20 & Haryana & 337 & 11 & 730 \\\\\n",
       "\t14 & 1881 & 13/05/20 & Haryana & 342 & 11 & 780 \\\\\n",
       "\t15 & 1914 & 14/05/20 & Haryana & 418 & 11 & 793 \\\\\n",
       "\t16 & 1916 & 14/05/20 & Jammu and Kashmir & 466 & 11 & 971 \\\\\n",
       "\t17 & 1947 & 15/05/20 & Haryana & 439 & 11 & 818 \\\\\n",
       "\t18 & 1949 & 15/05/20 & Jammu and Kashmir & 485 & 11 & 983 \\\\\n",
       "\t19 & 1980 & 16/05/20 & Haryana & 439 & 11 & 818 \\\\\n",
       "\t20 & 1982 & 16/05/20 & Jammu and Kashmir & 513 & 11 & 1013 \\\\\n",
       "\t21 & 2173 & 22/05/20 & Bihar & 593 & 11 & 1982 \\\\\n",
       "\t22 & 2207 & 23/05/20 & Bihar & 629 & 11 & 2177 \\\\\n",
       "\t23 & 2241 & 24/05/20 & Bihar & 653 & 11 & 2380 \\\\\n",
       "\t24 & 2611 & 03/06/20 & Kerala & 627 & 11 & 1412 \\\\\n",
       "\t25 & 2647 & 04/06/20 & Kerala & 651 & 11 & 1494 \\\\\n",
       "\t26 & 2735 & 06/06/20 & Uttarakhand & 344 & 11 & 1215 \\\\\n",
       "\t27 & 2771 & 07/06/20 & Uttarakhand & 423 & 11 & 1303 \\\\\n",
       "\t28 & 3052 & 15/06/20 & Odisha & 2708 & 11 & 3909 \\\\\n",
       "\t29 & 3088 & 16/06/20 & Odisha & 2854 & 11 & 4055 \\\\\n",
       "\t30 & 3124 & 17/06/20 & Odisha & 2974 & 11 & 4163 \\\\\n",
       "\t$\\dots$ & $\\dots$ & $\\dots$ & $\\dots$ & $\\dots$ & $\\dots$ & $\\dots$ \\\\\n",
       "\\end{tabular}\n"
      ],
      "text/plain": [
       "88×6 DataFrame\n",
       "│ Row │ Sno   │ Date     │ State         │ Cured │ Deaths │ Confirmed │\n",
       "│     │ \u001b[90mInt64\u001b[39m │ \u001b[90mString\u001b[39m   │ \u001b[90mString\u001b[39m        │ \u001b[90mInt64\u001b[39m │ \u001b[90mInt64\u001b[39m  │ \u001b[90mInt64\u001b[39m     │\n",
       "├─────┼───────┼──────────┼───────────────┼───────┼────────┼───────────┤\n",
       "│ 1   │ 658   │ 05/04/20 │ Gujarat       │ 18    │ 11     │ 122       │\n",
       "│ 2   │ 825   │ 10/04/20 │ Punjab        │ 5     │ 11     │ 132       │\n",
       "│ 3   │ 856   │ 11/04/20 │ Punjab        │ 5     │ 11     │ 132       │\n",
       "│ 4   │ 887   │ 12/04/20 │ Punjab        │ 5     │ 11     │ 151       │\n",
       "│ 5   │ 919   │ 13/04/20 │ Punjab        │ 14    │ 11     │ 167       │\n",
       "│ 6   │ 921   │ 13/04/20 │ Tamil Nadu    │ 50    │ 11     │ 1075      │\n",
       "│ 7   │ 954   │ 14/04/20 │ Tamil Nadu    │ 58    │ 11     │ 1173      │\n",
       "│ 8   │ 974   │ 15/04/20 │ Karnataka     │ 75    │ 11     │ 277       │\n",
       "│ 9   │ 991   │ 15/04/20 │ Uttar Pradesh │ 51    │ 11     │ 735       │\n",
       "│ 10  │ 1052  │ 17/04/20 │ Rajasthan     │ 164   │ 11     │ 1131      │\n",
       "⋮\n",
       "│ 78  │ 1057  │ 17/04/20 │ Uttar Pradesh │ 74    │ 14     │ 846       │\n",
       "│ 79  │ 1090  │ 18/04/20 │ Uttar Pradesh │ 86    │ 14     │ 969       │\n",
       "│ 80  │ 1106  │ 19/04/20 │ Karnataka     │ 104   │ 14     │ 384       │\n",
       "│ 81  │ 1151  │ 20/04/20 │ Rajasthan     │ 183   │ 14     │ 1478      │\n",
       "│ 82  │ 2046  │ 18/05/20 │ Haryana       │ 562   │ 14     │ 910       │\n",
       "│ 83  │ 2079  │ 19/05/20 │ Haryana       │ 598   │ 14     │ 928       │\n",
       "│ 84  │ 2112  │ 20/05/20 │ Haryana       │ 627   │ 14     │ 964       │\n",
       "│ 85  │ 2146  │ 21/05/20 │ Haryana       │ 648   │ 14     │ 993       │\n",
       "│ 86  │ 2683  │ 05/06/20 │ Kerala        │ 690   │ 14     │ 1588      │\n",
       "│ 87  │ 2719  │ 06/06/20 │ Kerala        │ 712   │ 14     │ 1699      │\n",
       "│ 88  │ 3304  │ 22/06/20 │ Odisha        │ 3720  │ 14     │ 5160      │"
      ]
     },
     "execution_count": 58,
     "metadata": {},
     "output_type": "execute_result"
    }
   ],
   "source": [
    "filter(row -> row.Deaths .> 10 && row.Deaths .< 15, new_df)"
   ]
  },
  {
   "cell_type": "markdown",
   "metadata": {},
   "source": [
    "### Use statstics on DataFrame"
   ]
  },
  {
   "cell_type": "code",
   "execution_count": 59,
   "metadata": {},
   "outputs": [],
   "source": [
    "using Statistics"
   ]
  },
  {
   "cell_type": "code",
   "execution_count": 60,
   "metadata": {},
   "outputs": [
    {
     "data": {
      "text/plain": [
       "96.73841157366401"
      ]
     },
     "execution_count": 60,
     "metadata": {},
     "output_type": "execute_result"
    }
   ],
   "source": [
    "mean(new_df.Deaths)"
   ]
  },
  {
   "cell_type": "markdown",
   "metadata": {},
   "source": [
    "### Using datasets module for pre-defined data"
   ]
  },
  {
   "cell_type": "code",
   "execution_count": 108,
   "metadata": {},
   "outputs": [
    {
     "ename": "ArgumentError",
     "evalue": "ArgumentError: Package RDatasets not found in current path:\n- Run `import Pkg; Pkg.add(\"RDatasets\")` to install the RDatasets package.\n",
     "output_type": "error",
     "traceback": [
      "ArgumentError: Package RDatasets not found in current path:\n- Run `import Pkg; Pkg.add(\"RDatasets\")` to install the RDatasets package.\n",
      "",
      "Stacktrace:",
      " [1] require(::Module, ::Symbol) at ./loading.jl:892",
      " [2] top-level scope at In[108]:1"
     ]
    }
   ],
   "source": [
    "using RDatasets"
   ]
  },
  {
   "cell_type": "code",
   "execution_count": 109,
   "metadata": {},
   "outputs": [
    {
     "name": "stderr",
     "output_type": "stream",
     "text": [
      "\u001b[32m\u001b[1m  Resolving\u001b[22m\u001b[39m package versions...\n",
      "\u001b[32m\u001b[1m  Installed\u001b[22m\u001b[39m Libiconv_jll ─────── v1.16.0+5\n",
      "\u001b[32m\u001b[1m  Installed\u001b[22m\u001b[39m EzXML ────────────── v1.1.0\n",
      "\u001b[32m\u001b[1m  Installed\u001b[22m\u001b[39m RData ────────────── v0.7.2\n",
      "\u001b[32m\u001b[1m  Installed\u001b[22m\u001b[39m TimeZones ────────── v1.2.0\n",
      "\u001b[32m\u001b[1m  Installed\u001b[22m\u001b[39m Mocking ──────────── v0.7.1\n",
      "\u001b[32m\u001b[1m  Installed\u001b[22m\u001b[39m FileIO ───────────── v1.3.0\n",
      "\u001b[32m\u001b[1m  Installed\u001b[22m\u001b[39m TranscodingStreams ─ v0.9.5\n",
      "\u001b[32m\u001b[1m  Installed\u001b[22m\u001b[39m ExprTools ────────── v0.1.1\n",
      "\u001b[32m\u001b[1m  Installed\u001b[22m\u001b[39m CodecZlib ────────── v0.7.0\n",
      "\u001b[32m\u001b[1m  Installed\u001b[22m\u001b[39m XML2_jll ─────────── v2.9.10+1\n",
      "\u001b[32m\u001b[1m  Installed\u001b[22m\u001b[39m RDatasets ────────── v0.6.9\n",
      "######################################################################### 100.0%#########                        70.4%\n",
      "######################################################################### 100.0%\n",
      "\u001b[32m\u001b[1m   Updating\u001b[22m\u001b[39m `~/.julia/environments/v1.4/Project.toml`\n",
      " \u001b[90m [ce6b1742]\u001b[39m\u001b[92m + RDatasets v0.6.9\u001b[39m\n",
      "\u001b[32m\u001b[1m   Updating\u001b[22m\u001b[39m `~/.julia/environments/v1.4/Manifest.toml`\n",
      " \u001b[90m [944b1d66]\u001b[39m\u001b[92m + CodecZlib v0.7.0\u001b[39m\n",
      " \u001b[90m [e2ba6199]\u001b[39m\u001b[92m + ExprTools v0.1.1\u001b[39m\n",
      " \u001b[90m [8f5d6c58]\u001b[39m\u001b[92m + EzXML v1.1.0\u001b[39m\n",
      " \u001b[90m [5789e2e9]\u001b[39m\u001b[92m + FileIO v1.3.0\u001b[39m\n",
      " \u001b[90m [94ce4f54]\u001b[39m\u001b[92m + Libiconv_jll v1.16.0+5\u001b[39m\n",
      " \u001b[90m [78c3b35d]\u001b[39m\u001b[92m + Mocking v0.7.1\u001b[39m\n",
      " \u001b[90m [df47a6cb]\u001b[39m\u001b[92m + RData v0.7.2\u001b[39m\n",
      " \u001b[90m [ce6b1742]\u001b[39m\u001b[92m + RDatasets v0.6.9\u001b[39m\n",
      " \u001b[90m [f269a46b]\u001b[39m\u001b[92m + TimeZones v1.2.0\u001b[39m\n",
      " \u001b[90m [3bb67fe8]\u001b[39m\u001b[92m + TranscodingStreams v0.9.5\u001b[39m\n",
      " \u001b[90m [02c8fc9c]\u001b[39m\u001b[92m + XML2_jll v2.9.10+1\u001b[39m\n",
      "\u001b[32m\u001b[1m   Building\u001b[22m\u001b[39m TimeZones → `~/.julia/packages/TimeZones/OjMoF/deps/build.log`\n"
     ]
    }
   ],
   "source": [
    "import Pkg; Pkg.add(\"RDatasets\")"
   ]
  },
  {
   "cell_type": "code",
   "execution_count": 112,
   "metadata": {},
   "outputs": [
    {
     "name": "stderr",
     "output_type": "stream",
     "text": [
      "┌ Info: Precompiling RDatasets [ce6b1742-4840-55fa-b093-852dadbb1d8b]\n",
      "└ @ Base loading.jl:1260\n"
     ]
    },
    {
     "data": {
      "text/html": [
       "<table class=\"data-frame\"><thead><tr><th></th><th>SepalLength</th><th>SepalWidth</th><th>PetalLength</th><th>PetalWidth</th><th>Species</th></tr><tr><th></th><th>Float64</th><th>Float64</th><th>Float64</th><th>Float64</th><th>Cat…</th></tr></thead><tbody><p>150 rows × 5 columns</p><tr><th>1</th><td>5.1</td><td>3.5</td><td>1.4</td><td>0.2</td><td>setosa</td></tr><tr><th>2</th><td>4.9</td><td>3.0</td><td>1.4</td><td>0.2</td><td>setosa</td></tr><tr><th>3</th><td>4.7</td><td>3.2</td><td>1.3</td><td>0.2</td><td>setosa</td></tr><tr><th>4</th><td>4.6</td><td>3.1</td><td>1.5</td><td>0.2</td><td>setosa</td></tr><tr><th>5</th><td>5.0</td><td>3.6</td><td>1.4</td><td>0.2</td><td>setosa</td></tr><tr><th>6</th><td>5.4</td><td>3.9</td><td>1.7</td><td>0.4</td><td>setosa</td></tr><tr><th>7</th><td>4.6</td><td>3.4</td><td>1.4</td><td>0.3</td><td>setosa</td></tr><tr><th>8</th><td>5.0</td><td>3.4</td><td>1.5</td><td>0.2</td><td>setosa</td></tr><tr><th>9</th><td>4.4</td><td>2.9</td><td>1.4</td><td>0.2</td><td>setosa</td></tr><tr><th>10</th><td>4.9</td><td>3.1</td><td>1.5</td><td>0.1</td><td>setosa</td></tr><tr><th>11</th><td>5.4</td><td>3.7</td><td>1.5</td><td>0.2</td><td>setosa</td></tr><tr><th>12</th><td>4.8</td><td>3.4</td><td>1.6</td><td>0.2</td><td>setosa</td></tr><tr><th>13</th><td>4.8</td><td>3.0</td><td>1.4</td><td>0.1</td><td>setosa</td></tr><tr><th>14</th><td>4.3</td><td>3.0</td><td>1.1</td><td>0.1</td><td>setosa</td></tr><tr><th>15</th><td>5.8</td><td>4.0</td><td>1.2</td><td>0.2</td><td>setosa</td></tr><tr><th>16</th><td>5.7</td><td>4.4</td><td>1.5</td><td>0.4</td><td>setosa</td></tr><tr><th>17</th><td>5.4</td><td>3.9</td><td>1.3</td><td>0.4</td><td>setosa</td></tr><tr><th>18</th><td>5.1</td><td>3.5</td><td>1.4</td><td>0.3</td><td>setosa</td></tr><tr><th>19</th><td>5.7</td><td>3.8</td><td>1.7</td><td>0.3</td><td>setosa</td></tr><tr><th>20</th><td>5.1</td><td>3.8</td><td>1.5</td><td>0.3</td><td>setosa</td></tr><tr><th>21</th><td>5.4</td><td>3.4</td><td>1.7</td><td>0.2</td><td>setosa</td></tr><tr><th>22</th><td>5.1</td><td>3.7</td><td>1.5</td><td>0.4</td><td>setosa</td></tr><tr><th>23</th><td>4.6</td><td>3.6</td><td>1.0</td><td>0.2</td><td>setosa</td></tr><tr><th>24</th><td>5.1</td><td>3.3</td><td>1.7</td><td>0.5</td><td>setosa</td></tr><tr><th>25</th><td>4.8</td><td>3.4</td><td>1.9</td><td>0.2</td><td>setosa</td></tr><tr><th>26</th><td>5.0</td><td>3.0</td><td>1.6</td><td>0.2</td><td>setosa</td></tr><tr><th>27</th><td>5.0</td><td>3.4</td><td>1.6</td><td>0.4</td><td>setosa</td></tr><tr><th>28</th><td>5.2</td><td>3.5</td><td>1.5</td><td>0.2</td><td>setosa</td></tr><tr><th>29</th><td>5.2</td><td>3.4</td><td>1.4</td><td>0.2</td><td>setosa</td></tr><tr><th>30</th><td>4.7</td><td>3.2</td><td>1.6</td><td>0.2</td><td>setosa</td></tr><tr><th>&vellip;</th><td>&vellip;</td><td>&vellip;</td><td>&vellip;</td><td>&vellip;</td><td>&vellip;</td></tr></tbody></table>"
      ],
      "text/latex": [
       "\\begin{tabular}{r|ccccc}\n",
       "\t& SepalLength & SepalWidth & PetalLength & PetalWidth & Species\\\\\n",
       "\t\\hline\n",
       "\t& Float64 & Float64 & Float64 & Float64 & Cat…\\\\\n",
       "\t\\hline\n",
       "\t1 & 5.1 & 3.5 & 1.4 & 0.2 & setosa \\\\\n",
       "\t2 & 4.9 & 3.0 & 1.4 & 0.2 & setosa \\\\\n",
       "\t3 & 4.7 & 3.2 & 1.3 & 0.2 & setosa \\\\\n",
       "\t4 & 4.6 & 3.1 & 1.5 & 0.2 & setosa \\\\\n",
       "\t5 & 5.0 & 3.6 & 1.4 & 0.2 & setosa \\\\\n",
       "\t6 & 5.4 & 3.9 & 1.7 & 0.4 & setosa \\\\\n",
       "\t7 & 4.6 & 3.4 & 1.4 & 0.3 & setosa \\\\\n",
       "\t8 & 5.0 & 3.4 & 1.5 & 0.2 & setosa \\\\\n",
       "\t9 & 4.4 & 2.9 & 1.4 & 0.2 & setosa \\\\\n",
       "\t10 & 4.9 & 3.1 & 1.5 & 0.1 & setosa \\\\\n",
       "\t11 & 5.4 & 3.7 & 1.5 & 0.2 & setosa \\\\\n",
       "\t12 & 4.8 & 3.4 & 1.6 & 0.2 & setosa \\\\\n",
       "\t13 & 4.8 & 3.0 & 1.4 & 0.1 & setosa \\\\\n",
       "\t14 & 4.3 & 3.0 & 1.1 & 0.1 & setosa \\\\\n",
       "\t15 & 5.8 & 4.0 & 1.2 & 0.2 & setosa \\\\\n",
       "\t16 & 5.7 & 4.4 & 1.5 & 0.4 & setosa \\\\\n",
       "\t17 & 5.4 & 3.9 & 1.3 & 0.4 & setosa \\\\\n",
       "\t18 & 5.1 & 3.5 & 1.4 & 0.3 & setosa \\\\\n",
       "\t19 & 5.7 & 3.8 & 1.7 & 0.3 & setosa \\\\\n",
       "\t20 & 5.1 & 3.8 & 1.5 & 0.3 & setosa \\\\\n",
       "\t21 & 5.4 & 3.4 & 1.7 & 0.2 & setosa \\\\\n",
       "\t22 & 5.1 & 3.7 & 1.5 & 0.4 & setosa \\\\\n",
       "\t23 & 4.6 & 3.6 & 1.0 & 0.2 & setosa \\\\\n",
       "\t24 & 5.1 & 3.3 & 1.7 & 0.5 & setosa \\\\\n",
       "\t25 & 4.8 & 3.4 & 1.9 & 0.2 & setosa \\\\\n",
       "\t26 & 5.0 & 3.0 & 1.6 & 0.2 & setosa \\\\\n",
       "\t27 & 5.0 & 3.4 & 1.6 & 0.4 & setosa \\\\\n",
       "\t28 & 5.2 & 3.5 & 1.5 & 0.2 & setosa \\\\\n",
       "\t29 & 5.2 & 3.4 & 1.4 & 0.2 & setosa \\\\\n",
       "\t30 & 4.7 & 3.2 & 1.6 & 0.2 & setosa \\\\\n",
       "\t$\\dots$ & $\\dots$ & $\\dots$ & $\\dots$ & $\\dots$ & $\\dots$ \\\\\n",
       "\\end{tabular}\n"
      ],
      "text/plain": [
       "150×5 DataFrame\n",
       "│ Row │ SepalLength │ SepalWidth │ PetalLength │ PetalWidth │ Species   │\n",
       "│     │ \u001b[90mFloat64\u001b[39m     │ \u001b[90mFloat64\u001b[39m    │ \u001b[90mFloat64\u001b[39m     │ \u001b[90mFloat64\u001b[39m    │ \u001b[90mCat…\u001b[39m      │\n",
       "├─────┼─────────────┼────────────┼─────────────┼────────────┼───────────┤\n",
       "│ 1   │ 5.1         │ 3.5        │ 1.4         │ 0.2        │ setosa    │\n",
       "│ 2   │ 4.9         │ 3.0        │ 1.4         │ 0.2        │ setosa    │\n",
       "│ 3   │ 4.7         │ 3.2        │ 1.3         │ 0.2        │ setosa    │\n",
       "│ 4   │ 4.6         │ 3.1        │ 1.5         │ 0.2        │ setosa    │\n",
       "│ 5   │ 5.0         │ 3.6        │ 1.4         │ 0.2        │ setosa    │\n",
       "│ 6   │ 5.4         │ 3.9        │ 1.7         │ 0.4        │ setosa    │\n",
       "│ 7   │ 4.6         │ 3.4        │ 1.4         │ 0.3        │ setosa    │\n",
       "│ 8   │ 5.0         │ 3.4        │ 1.5         │ 0.2        │ setosa    │\n",
       "│ 9   │ 4.4         │ 2.9        │ 1.4         │ 0.2        │ setosa    │\n",
       "│ 10  │ 4.9         │ 3.1        │ 1.5         │ 0.1        │ setosa    │\n",
       "⋮\n",
       "│ 140 │ 6.9         │ 3.1        │ 5.4         │ 2.1        │ virginica │\n",
       "│ 141 │ 6.7         │ 3.1        │ 5.6         │ 2.4        │ virginica │\n",
       "│ 142 │ 6.9         │ 3.1        │ 5.1         │ 2.3        │ virginica │\n",
       "│ 143 │ 5.8         │ 2.7        │ 5.1         │ 1.9        │ virginica │\n",
       "│ 144 │ 6.8         │ 3.2        │ 5.9         │ 2.3        │ virginica │\n",
       "│ 145 │ 6.7         │ 3.3        │ 5.7         │ 2.5        │ virginica │\n",
       "│ 146 │ 6.7         │ 3.0        │ 5.2         │ 2.3        │ virginica │\n",
       "│ 147 │ 6.3         │ 2.5        │ 5.0         │ 1.9        │ virginica │\n",
       "│ 148 │ 6.5         │ 3.0        │ 5.2         │ 2.0        │ virginica │\n",
       "│ 149 │ 6.2         │ 3.4        │ 5.4         │ 2.3        │ virginica │\n",
       "│ 150 │ 5.9         │ 3.0        │ 5.1         │ 1.8        │ virginica │"
      ]
     },
     "execution_count": 112,
     "metadata": {},
     "output_type": "execute_result"
    }
   ],
   "source": [
    "using RDatasets\n",
    "iris = dataset(\"datasets\", \"iris\")"
   ]
  },
  {
   "cell_type": "code",
   "execution_count": 113,
   "metadata": {},
   "outputs": [
    {
     "data": {
      "text/html": [
       "<table class=\"data-frame\"><thead><tr><th></th><th>SepalLength</th><th>SepalWidth</th><th>PetalLength</th><th>PetalWidth</th><th>Species</th></tr><tr><th></th><th>Float64</th><th>Float64</th><th>Float64</th><th>Float64</th><th>Cat…</th></tr></thead><tbody><p>10 rows × 5 columns</p><tr><th>1</th><td>5.1</td><td>3.5</td><td>1.4</td><td>0.2</td><td>setosa</td></tr><tr><th>2</th><td>4.9</td><td>3.0</td><td>1.4</td><td>0.2</td><td>setosa</td></tr><tr><th>3</th><td>4.7</td><td>3.2</td><td>1.3</td><td>0.2</td><td>setosa</td></tr><tr><th>4</th><td>4.6</td><td>3.1</td><td>1.5</td><td>0.2</td><td>setosa</td></tr><tr><th>5</th><td>5.0</td><td>3.6</td><td>1.4</td><td>0.2</td><td>setosa</td></tr><tr><th>6</th><td>5.4</td><td>3.9</td><td>1.7</td><td>0.4</td><td>setosa</td></tr><tr><th>7</th><td>4.6</td><td>3.4</td><td>1.4</td><td>0.3</td><td>setosa</td></tr><tr><th>8</th><td>5.0</td><td>3.4</td><td>1.5</td><td>0.2</td><td>setosa</td></tr><tr><th>9</th><td>4.4</td><td>2.9</td><td>1.4</td><td>0.2</td><td>setosa</td></tr><tr><th>10</th><td>4.9</td><td>3.1</td><td>1.5</td><td>0.1</td><td>setosa</td></tr></tbody></table>"
      ],
      "text/latex": [
       "\\begin{tabular}{r|ccccc}\n",
       "\t& SepalLength & SepalWidth & PetalLength & PetalWidth & Species\\\\\n",
       "\t\\hline\n",
       "\t& Float64 & Float64 & Float64 & Float64 & Cat…\\\\\n",
       "\t\\hline\n",
       "\t1 & 5.1 & 3.5 & 1.4 & 0.2 & setosa \\\\\n",
       "\t2 & 4.9 & 3.0 & 1.4 & 0.2 & setosa \\\\\n",
       "\t3 & 4.7 & 3.2 & 1.3 & 0.2 & setosa \\\\\n",
       "\t4 & 4.6 & 3.1 & 1.5 & 0.2 & setosa \\\\\n",
       "\t5 & 5.0 & 3.6 & 1.4 & 0.2 & setosa \\\\\n",
       "\t6 & 5.4 & 3.9 & 1.7 & 0.4 & setosa \\\\\n",
       "\t7 & 4.6 & 3.4 & 1.4 & 0.3 & setosa \\\\\n",
       "\t8 & 5.0 & 3.4 & 1.5 & 0.2 & setosa \\\\\n",
       "\t9 & 4.4 & 2.9 & 1.4 & 0.2 & setosa \\\\\n",
       "\t10 & 4.9 & 3.1 & 1.5 & 0.1 & setosa \\\\\n",
       "\\end{tabular}\n"
      ],
      "text/plain": [
       "10×5 DataFrame\n",
       "│ Row │ SepalLength │ SepalWidth │ PetalLength │ PetalWidth │ Species │\n",
       "│     │ \u001b[90mFloat64\u001b[39m     │ \u001b[90mFloat64\u001b[39m    │ \u001b[90mFloat64\u001b[39m     │ \u001b[90mFloat64\u001b[39m    │ \u001b[90mCat…\u001b[39m    │\n",
       "├─────┼─────────────┼────────────┼─────────────┼────────────┼─────────┤\n",
       "│ 1   │ 5.1         │ 3.5        │ 1.4         │ 0.2        │ setosa  │\n",
       "│ 2   │ 4.9         │ 3.0        │ 1.4         │ 0.2        │ setosa  │\n",
       "│ 3   │ 4.7         │ 3.2        │ 1.3         │ 0.2        │ setosa  │\n",
       "│ 4   │ 4.6         │ 3.1        │ 1.5         │ 0.2        │ setosa  │\n",
       "│ 5   │ 5.0         │ 3.6        │ 1.4         │ 0.2        │ setosa  │\n",
       "│ 6   │ 5.4         │ 3.9        │ 1.7         │ 0.4        │ setosa  │\n",
       "│ 7   │ 4.6         │ 3.4        │ 1.4         │ 0.3        │ setosa  │\n",
       "│ 8   │ 5.0         │ 3.4        │ 1.5         │ 0.2        │ setosa  │\n",
       "│ 9   │ 4.4         │ 2.9        │ 1.4         │ 0.2        │ setosa  │\n",
       "│ 10  │ 4.9         │ 3.1        │ 1.5         │ 0.1        │ setosa  │"
      ]
     },
     "execution_count": 113,
     "metadata": {},
     "output_type": "execute_result"
    }
   ],
   "source": [
    "first(iris, 10)"
   ]
  },
  {
   "cell_type": "code",
   "execution_count": null,
   "metadata": {},
   "outputs": [],
   "source": []
  }
 ],
 "metadata": {
  "kernelspec": {
   "display_name": "Julia 1.4.2",
   "language": "julia",
   "name": "julia-1.4"
  },
  "language_info": {
   "file_extension": ".jl",
   "mimetype": "application/julia",
   "name": "julia",
   "version": "1.4.2"
  }
 },
 "nbformat": 4,
 "nbformat_minor": 4
}
